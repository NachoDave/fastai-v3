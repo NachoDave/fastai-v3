{
 "cells": [
  {
   "cell_type": "code",
   "execution_count": 2,
   "metadata": {},
   "outputs": [],
   "source": [
    "from expDJ.nb_4Dj import *"
   ]
  },
  {
   "cell_type": "code",
   "execution_count": 3,
   "metadata": {},
   "outputs": [
    {
     "data": {
      "text/plain": [
       "torch.Tensor"
      ]
     },
     "execution_count": 3,
     "metadata": {},
     "output_type": "execute_result"
    }
   ],
   "source": [
    "# Get MNIST data\n",
    "\n",
    "x_train,y_train,x_valid,y_valid = get_data()\n",
    "type(x_train)"
   ]
  },
  {
   "cell_type": "code",
   "execution_count": 4,
   "metadata": {},
   "outputs": [],
   "source": [
    "#export\n",
    "# Function to normalize the trainig data and validation data\n",
    "def normalize_to(train, valid):\n",
    "    m,s = train.mean(),train.std()\n",
    "    return normalize(train, m, s), normalize(valid, m, s)"
   ]
  },
  {
   "cell_type": "code",
   "execution_count": 5,
   "metadata": {},
   "outputs": [],
   "source": [
    "# Normalize the x training and vaiation data\n",
    "x_train,x_valid = normalize_to(x_train,x_valid)\n",
    "train_ds,valid_ds = Dataset(x_train, y_train),Dataset(x_valid, y_valid)"
   ]
  },
  {
   "cell_type": "code",
   "execution_count": 6,
   "metadata": {},
   "outputs": [
    {
     "data": {
      "text/plain": [
       "(tensor(3.0614e-05), tensor(1.))"
      ]
     },
     "execution_count": 6,
     "metadata": {},
     "output_type": "execute_result"
    }
   ],
   "source": [
    "x_train.mean(), x_train.std()"
   ]
  },
  {
   "cell_type": "code",
   "execution_count": 7,
   "metadata": {},
   "outputs": [
    {
     "data": {
      "text/plain": [
       "<expDJ.nb_4Dj.DataBunchDJ at 0x7ff16193e4e0>"
      ]
     },
     "execution_count": 7,
     "metadata": {},
     "output_type": "execute_result"
    }
   ],
   "source": [
    "# Make the datasets\n",
    "train_ds,valid_ds = Dataset(x_train, y_train),Dataset(x_valid, y_valid) \n",
    "nh,bs = 50,512\n",
    "c = y_train.max().item()+1\n",
    "loss_func = F.cross_entropy\n",
    "\n",
    "# Make samplers\n",
    "\n",
    "train_Smp, valid_Smp = SamplerDJ(train_ds, bs, shuffle=True), SamplerDJ(valid_ds, bs, shuffle=True)\n",
    "\n",
    "# Make data loaders\n",
    "\n",
    "train_dl, valid_dl = DataLoaderDJ(train_ds, train_Smp, bs), DataLoaderDJ(valid_ds, valid_Smp, bs)\n",
    "\n",
    "# Make databunch\n",
    "db = DataBunchDJ(train_dl, valid_dl, c = c)\n",
    "db"
   ]
  },
  {
   "cell_type": "code",
   "execution_count": 8,
   "metadata": {},
   "outputs": [],
   "source": [
    "#export\n",
    "# Reform MNIST data\n",
    "class LambdaDJ(nn.Module):\n",
    "    def __init__(self, func):\n",
    "        super().__init__()\n",
    "        self.func = func\n",
    "\n",
    "    def forward(self, x): return self.func(x)\n",
    "    \n",
    "def flatten(x):      return x.view(x.shape[0], -1)\n",
    "def resize_MNIST(x): return x.view(-1, 1, 28, 28)\n",
    "        \n",
    "    \n"
   ]
  },
  {
   "cell_type": "code",
   "execution_count": 9,
   "metadata": {},
   "outputs": [
    {
     "data": {
      "text/plain": [
       "(torch.Size([50000, 784]), torch.Size([50000, 1, 28, 28]))"
      ]
     },
     "execution_count": 9,
     "metadata": {},
     "output_type": "execute_result"
    }
   ],
   "source": [
    "x_train.shape,resize_MNIST(x_train).shape"
   ]
  },
  {
   "cell_type": "code",
   "execution_count": 10,
   "metadata": {},
   "outputs": [
    {
     "data": {
      "text/plain": [
       "torch.nn.modules.conv.Conv2d"
      ]
     },
     "execution_count": 10,
     "metadata": {},
     "output_type": "execute_result"
    }
   ],
   "source": [
    "def get_cnn_model(data):\n",
    "    return nn.Sequential(\n",
    "        LambdaDJ(resize_MNIST),\n",
    "        nn.Conv2d( 1, 8, 5, padding=2,stride=2), nn.ReLU(), #14\n",
    "        nn.Conv2d( 8,16, 3, padding=1,stride=2), nn.ReLU(), # 7\n",
    "        nn.Conv2d(16,32, 3, padding=1,stride=2), nn.ReLU(), # 4\n",
    "        nn.Conv2d(32,32, 3, padding=1,stride=2), nn.ReLU(), # 2\n",
    "        nn.AdaptiveAvgPool2d(1),\n",
    "        LambdaDJ(flatten),\n",
    "        nn.Linear(32,data.c)\n",
    "    )\n",
    "\n",
    "nn.Conv2d"
   ]
  },
  {
   "cell_type": "code",
   "execution_count": 119,
   "metadata": {},
   "outputs": [],
   "source": [
    "nn.Module\n",
    "# Model\n",
    "model = get_cnn_model(db)"
   ]
  },
  {
   "cell_type": "code",
   "execution_count": 116,
   "metadata": {},
   "outputs": [],
   "source": [
    "class earlyStop(Callback):\n",
    "    _order = 1\n",
    "    def __init__(self, stopIt = 3):\n",
    "        self.stopIt = stopIt\n",
    "        \n",
    "    #def after_batch(self):\n",
    "        #print(self.n_iter)\n",
    "     #   if self.n_iter > 10:\n",
    "       #     self.run.stop = True\n",
    "      #      return True\n",
    "        #print(self.stop) \n",
    "            \n",
    "        #pass\n",
    "        \n",
    "    def after_epoch(self):\n",
    "        print(self.run.epoch)\n",
    "        if self.run.epoch == self.stopIt:\n",
    "            self.run.early_stop.stopIt\n",
    "            #self.stop = True\n",
    "            return True\n",
    "\n",
    "        \n",
    "class printPreds(Callback):\n",
    "    _order = 0\n",
    "    def after_batch(self):\n",
    "        print(run.pred[15])\n",
    "        print(run.yb[15])\n",
    "        \n",
    "class accuracyCheckCb(Callback):\n",
    "    _order = 1\n",
    "    \n",
    "    def __init__(self, m):\n",
    "        self.m = m\n",
    "        \n",
    "    def after_batch(self):\n",
    "        print(self.m(run.pred, run.yb))\n",
    "\n",
    "# Callbacks\n",
    "cbfs = [Recorder, partial(AvgStatsCallback,accuracy), partial(earlyStop, 3)]"
   ]
  },
  {
   "cell_type": "code",
   "execution_count": 120,
   "metadata": {},
   "outputs": [
    {
     "name": "stdout",
     "output_type": "stream",
     "text": [
      "recorder\n",
      "avg_stats\n",
      "early_stop\n"
     ]
    }
   ],
   "source": [
    "opt = optim.SGD(model.parameters(), lr=0.4)\n",
    "learn = LearnerDJ(db, model, opt, loss_func)\n",
    "run = RunnerDJ(cb_funcs=cbfs)\n",
    "\n"
   ]
  },
  {
   "cell_type": "code",
   "execution_count": 118,
   "metadata": {
    "scrolled": true
   },
   "outputs": [
    {
     "name": "stdout",
     "output_type": "stream",
     "text": [
      "Epoch: 0\n",
      "train: [2.15603390625, tensor(0.2403)]\n",
      "valid: [1.59974716796875, tensor(0.4651)]\n",
      "0\n",
      "Epoch: 1\n",
      "train: [0.6307101953125, tensor(0.8041)]\n",
      "valid: [0.596889404296875, tensor(0.8193)]\n",
      "1\n",
      "Epoch: 2\n",
      "train: [0.23403173828125, tensor(0.9269)]\n",
      "valid: [0.1756041259765625, tensor(0.9470)]\n",
      "2\n",
      "Epoch: 3\n",
      "train: [0.159969462890625, tensor(0.9510)]\n",
      "valid: [0.261133056640625, tensor(0.9123)]\n",
      "3\n",
      "CPU times: user 43.5 s, sys: 420 ms, total: 44 s\n",
      "Wall time: 17.4 s\n"
     ]
    }
   ],
   "source": [
    "\n",
    "%time run.fit(5, learn)\n",
    "#run.iters"
   ]
  },
  {
   "cell_type": "code",
   "execution_count": 121,
   "metadata": {},
   "outputs": [],
   "source": [
    "# Cuda\n",
    "class CudaCallback(Callback):\n",
    "    def begin_fit(self): self.model.cuda()\n",
    "    def begin_batch(self): self.run.xb,self.run.yb = self.xb.cuda(),self.yb.cuda()"
   ]
  },
  {
   "cell_type": "code",
   "execution_count": 135,
   "metadata": {},
   "outputs": [
    {
     "name": "stdout",
     "output_type": "stream",
     "text": [
      "recorder\n",
      "avg_stats\n",
      "cuda\n",
      "Epoch: 0\n",
      "train: [1.891744375, tensor(0.3218, device='cuda:0')]\n",
      "valid: [1.15431328125, tensor(0.6579, device='cuda:0')]\n",
      "Epoch: 1\n",
      "train: [0.43232734375, tensor(0.8658, device='cuda:0')]\n",
      "valid: [0.183430224609375, tensor(0.9477, device='cuda:0')]\n",
      "Epoch: 2\n",
      "train: [0.17433431640625, tensor(0.9475, device='cuda:0')]\n",
      "valid: [0.1339638916015625, tensor(0.9606, device='cuda:0')]\n",
      "Epoch: 3\n",
      "train: [0.138340048828125, tensor(0.9584, device='cuda:0')]\n",
      "valid: [0.10474097900390625, tensor(0.9691, device='cuda:0')]\n",
      "Epoch: 4\n",
      "train: [0.1018027734375, tensor(0.9681, device='cuda:0')]\n",
      "valid: [0.1017208740234375, tensor(0.9696, device='cuda:0')]\n",
      "CPU times: user 14 s, sys: 2.39 s, total: 16.4 s\n",
      "Wall time: 16.4 s\n"
     ]
    }
   ],
   "source": [
    "model = get_cnn_model(db)\n",
    "opt = optim.SGD(model.parameters(), lr=0.4)\n",
    "learn = LearnerDJ(db, model, opt, loss_func)\n",
    "cbfs = [Recorder, partial(AvgStatsCallback,accuracy),CudaCallback]\n",
    "run = RunnerDJ(cb_funcs=cbfs)\n",
    "\n",
    "%time run.fit(5, learn)"
   ]
  },
  {
   "cell_type": "code",
   "execution_count": 62,
   "metadata": {},
   "outputs": [
    {
     "data": {
      "text/plain": [
       "tensor([-0.0339,  0.1177, -0.0304,  0.0103, -0.0216, -0.0874, -0.0294,  0.0225,\n",
       "        -0.0539, -0.0170], grad_fn=<SelectBackward>)"
      ]
     },
     "execution_count": 62,
     "metadata": {},
     "output_type": "execute_result"
    },
    {
     "data": {
      "image/png": "[encoded data removed]",
      "text/plain": [
       "<Figure size 432x288 with 1 Axes>"
      ]
     },
     "metadata": {
      "needs_background": "light"
     },
     "output_type": "display_data"
    }
   ],
   "source": [
    "plt.imshow(x_valid[10].view(28,28))\n",
    "pred = model.cpu()(x_valid[10:12]),y_valid,\n",
    "x_valid[10].shape, \n",
    "#loss_func(pred[0], pred[1])\n",
    "#loss_func(pred[0], pred[1][10:12])\n",
    "#pred[1][10:11]\n",
    "pred[0][1]"
   ]
  },
  {
   "cell_type": "markdown",
   "metadata": {},
   "source": [
    "## Hooks"
   ]
  },
  {
   "cell_type": "code",
   "execution_count": 140,
   "metadata": {},
   "outputs": [
    {
     "name": "stdout",
     "output_type": "stream",
     "text": [
      "recorder\n",
      "avg_stats\n",
      "cuda\n",
      "Epoch: 0\n",
      "train: [1.93618375, tensor(0.3463, device='cuda:0')]\n",
      "valid: [1.22147509765625, tensor(0.5735, device='cuda:0')]\n",
      "Epoch: 1\n",
      "train: [0.38976859375, tensor(0.8798, device='cuda:0')]\n",
      "valid: [0.2823456298828125, tensor(0.9133, device='cuda:0')]\n",
      "Epoch: 2\n",
      "train: [0.18047119140625, tensor(0.9455, device='cuda:0')]\n",
      "valid: [0.137530224609375, tensor(0.9612, device='cuda:0')]\n",
      "Epoch: 3\n",
      "train: [0.147274873046875, tensor(0.9571, device='cuda:0')]\n",
      "valid: [0.10690611572265625, tensor(0.9700, device='cuda:0')]\n",
      "Epoch: 4\n",
      "train: [0.109188212890625, tensor(0.9674, device='cuda:0')]\n",
      "valid: [0.10209159545898437, tensor(0.9712, device='cuda:0')]\n",
      "CPU times: user 15.2 s, sys: 2.43 s, total: 17.6 s\n",
      "Wall time: 17.7 s\n"
     ]
    }
   ],
   "source": [
    "act_means = []\n",
    "act_stds = []\n",
    "\n",
    "def append_stats(mod, inp, outp):\n",
    "    act_means.append(outp.data.mean())\n",
    "    act_stds.append(outp.data.std())\n",
    "\n",
    "model = get_cnn_model(db)\n",
    "opt = optim.SGD(model.parameters(), lr=0.4)\n",
    "learn = LearnerDJ(db, model, opt, loss_func)\n",
    "cbfs = [Recorder, partial(AvgStatsCallback,accuracy),CudaCallback]\n",
    "run = RunnerDJ(cb_funcs=cbfs)\n",
    "\n",
    "model[3].register_forward_hook(append_stats)\n",
    "%time run.fit(5, learn)   \n",
    "\n"
   ]
  },
  {
   "cell_type": "code",
   "execution_count": 134,
   "metadata": {},
   "outputs": [
    {
     "name": "stdout",
     "output_type": "stream",
     "text": [
      "Epoch: 0\n",
      "train: [2.30591640625, tensor(0.0994, device='cuda:0')]\n",
      "valid: [2.3070548828125, tensor(0.0990, device='cuda:0')]\n",
      "Epoch: 1\n",
      "train: [2.3059165625, tensor(0.0994, device='cuda:0')]\n",
      "valid: [2.3070548828125, tensor(0.0990, device='cuda:0')]\n",
      "Epoch: 2\n",
      "train: [2.30591671875, tensor(0.0994, device='cuda:0')]\n",
      "valid: [2.3070548828125, tensor(0.0990, device='cuda:0')]\n",
      "CPU times: user 8.31 s, sys: 1.48 s, total: 9.79 s\n",
      "Wall time: 9.79 s\n"
     ]
    }
   ],
   "source": []
  },
  {
   "cell_type": "code",
   "execution_count": 141,
   "metadata": {},
   "outputs": [
    {
     "data": {
      "text/plain": [
       "([<matplotlib.lines.Line2D at 0x7ff145a87550>],\n",
       " [<matplotlib.lines.Line2D at 0x7ff145a87978>])"
      ]
     },
     "execution_count": 141,
     "metadata": {},
     "output_type": "execute_result"
    },
    {
     "data": {
      "image/png": "[encoded data removed]",
      "text/plain": [
       "<Figure size 432x288 with 1 Axes>"
      ]
     },
     "metadata": {
      "needs_background": "light"
     },
     "output_type": "display_data"
    }
   ],
   "source": [
    "plt.plot(act_means),plt.plot(act_stds)"
   ]
  },
  {
   "cell_type": "code",
   "execution_count": null,
   "metadata": {},
   "outputs": [],
   "source": []
  }
 ],
 "metadata": {
  "kernelspec": {
   "display_name": "Python 3",
   "language": "python",
   "name": "python3"
  },
  "language_info": {
   "codemirror_mode": {
    "name": "ipython",
    "version": 3
   },
   "file_extension": ".py",
   "mimetype": "text/x-python",
   "name": "python",
   "nbconvert_exporter": "python",
   "pygments_lexer": "ipython3",
   "version": "3.7.3"
  }
 },
 "nbformat": 4,
 "nbformat_minor": 2
}
