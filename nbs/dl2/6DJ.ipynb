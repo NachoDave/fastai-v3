{
 "cells": [
  {
   "cell_type": "code",
   "execution_count": 1,
   "metadata": {},
   "outputs": [],
   "source": [
    "from expDJ.nb_4Dj import *"
   ]
  },
  {
   "cell_type": "code",
   "execution_count": 2,
   "metadata": {},
   "outputs": [
    {
     "data": {
      "text/plain": [
       "torch.Tensor"
      ]
     },
     "execution_count": 2,
     "metadata": {},
     "output_type": "execute_result"
    }
   ],
   "source": [
    "# Get MNIST data\n",
    "\n",
    "x_train,y_train,x_valid,y_valid = get_data()\n",
    "type(x_train)"
   ]
  },
  {
   "cell_type": "code",
   "execution_count": 3,
   "metadata": {},
   "outputs": [],
   "source": [
    "#export\n",
    "# Function to normalize the trainig data and validation data\n",
    "def normalize_to(train, valid):\n",
    "    m,s = train.mean(),train.std()\n",
    "    return normalize(train, m, s), normalize(valid, m, s)"
   ]
  },
  {
   "cell_type": "code",
   "execution_count": 4,
   "metadata": {},
   "outputs": [],
   "source": [
    "# Normalize the x training and vaiation data\n",
    "x_train,x_valid = normalize_to(x_train,x_valid)\n",
    "train_ds,valid_ds = Dataset(x_train, y_train),Dataset(x_valid, y_valid)"
   ]
  },
  {
   "cell_type": "code",
   "execution_count": 5,
   "metadata": {},
   "outputs": [
    {
     "data": {
      "text/plain": [
       "(tensor(3.0614e-05), tensor(1.))"
      ]
     },
     "execution_count": 5,
     "metadata": {},
     "output_type": "execute_result"
    }
   ],
   "source": [
    "x_train.mean(), x_train.std()"
   ]
  },
  {
   "cell_type": "code",
   "execution_count": 6,
   "metadata": {},
   "outputs": [
    {
     "data": {
      "text/plain": [
       "<expDJ.nb_4Dj.DataBunchDJ at 0x7f82b3aeeda0>"
      ]
     },
     "execution_count": 6,
     "metadata": {},
     "output_type": "execute_result"
    }
   ],
   "source": [
    "# Make the datasets\n",
    "train_ds,valid_ds = Dataset(x_train, y_train),Dataset(x_valid, y_valid) \n",
    "nh,bs = 50,512\n",
    "c = y_train.max().item()+1\n",
    "loss_func = F.cross_entropy\n",
    "\n",
    "# Make samplers\n",
    "\n",
    "train_Smp, valid_Smp = SamplerDJ(train_ds, bs, shuffle=True), SamplerDJ(valid_ds, bs, shuffle=True)\n",
    "\n",
    "# Make data loaders\n",
    "\n",
    "train_dl, valid_dl = DataLoaderDJ(train_ds, train_Smp, bs), DataLoaderDJ(valid_ds, valid_Smp, bs)\n",
    "\n",
    "# Make databunch\n",
    "db = DataBunchDJ(train_dl, valid_dl, c = c)\n",
    "db"
   ]
  },
  {
   "cell_type": "code",
   "execution_count": 7,
   "metadata": {},
   "outputs": [],
   "source": [
    "#export\n",
    "# Reform MNIST data\n",
    "class LambdaDJ(nn.Module):\n",
    "    def __init__(self, func):\n",
    "        super().__init__()\n",
    "        self.func = func\n",
    "\n",
    "    def forward(self, x): return self.func(x)\n",
    "    \n",
    "def flatten(x):      return x.view(x.shape[0], -1)\n",
    "def resize_MNIST(x): return x.view(-1, 1, 28, 28)\n",
    "        \n",
    "    \n"
   ]
  },
  {
   "cell_type": "code",
   "execution_count": 8,
   "metadata": {},
   "outputs": [
    {
     "data": {
      "text/plain": [
       "(torch.Size([50000, 784]), torch.Size([50000, 1, 28, 28]))"
      ]
     },
     "execution_count": 8,
     "metadata": {},
     "output_type": "execute_result"
    }
   ],
   "source": [
    "x_train.shape,resize_MNIST(x_train).shape"
   ]
  },
  {
   "cell_type": "code",
   "execution_count": 9,
   "metadata": {},
   "outputs": [],
   "source": [
    "def get_cnn_model(data):\n",
    "    return nn.Sequential(\n",
    "        LambdaDJ(resize_MNIST),\n",
    "        nn.Conv2d( 1, 8, 5, padding=2,stride=2), nn.ReLU(), #14\n",
    "        nn.Conv2d( 8,16, 3, padding=1,stride=2), nn.ReLU(), # 7\n",
    "        nn.Conv2d(16,32, 3, padding=1,stride=2), nn.ReLU(), # 4\n",
    "        nn.Conv2d(32,32, 3, padding=1,stride=2), nn.ReLU(), # 2\n",
    "        nn.AdaptiveAvgPool2d(1),\n",
    "        LambdaDJ(flatten),\n",
    "        nn.Linear(32,data.c)\n",
    "    )"
   ]
  },
  {
   "cell_type": "code",
   "execution_count": 10,
   "metadata": {},
   "outputs": [],
   "source": [
    "# Model\n",
    "model = get_cnn_model(db)"
   ]
  },
  {
   "cell_type": "code",
   "execution_count": 11,
   "metadata": {},
   "outputs": [],
   "source": [
    "# Callbacks\n",
    "cbfs = [Recorder, partial(AvgStatsCallback,accuracy)]"
   ]
  },
  {
   "cell_type": "code",
   "execution_count": 12,
   "metadata": {},
   "outputs": [
    {
     "name": "stdout",
     "output_type": "stream",
     "text": [
      "recorder\n",
      "avg_stats\n"
     ]
    }
   ],
   "source": [
    "opt = optim.SGD(model.parameters(), lr=0.4)\n",
    "learn = LearnerDJ(db, model, opt, loss_func)\n",
    "run = RunnerDJ(cb_funcs=cbfs)"
   ]
  },
  {
   "cell_type": "code",
   "execution_count": 15,
   "metadata": {
    "scrolled": true
   },
   "outputs": [
    {
     "name": "stdout",
     "output_type": "stream",
     "text": [
      "Epoch: 3\n",
      "Iter: 1\n",
      "Iter: 2\n",
      "Iter: 3\n",
      "Iter: 4\n",
      "Iter: 5\n",
      "Iter: 6\n",
      "Iter: 7\n",
      "Iter: 8\n",
      "Iter: 9\n",
      "Iter: 10\n",
      "Iter: 11\n",
      "Iter: 12\n",
      "Iter: 13\n",
      "Iter: 14\n",
      "Iter: 15\n",
      "Iter: 16\n",
      "Iter: 17\n",
      "Iter: 18\n",
      "Iter: 19\n",
      "Iter: 20\n",
      "Iter: 21\n",
      "Iter: 22\n",
      "Iter: 23\n",
      "Iter: 24\n",
      "Iter: 25\n",
      "Iter: 26\n",
      "Iter: 27\n",
      "Iter: 28\n",
      "Iter: 29\n",
      "Iter: 30\n",
      "Iter: 31\n",
      "Iter: 32\n",
      "Iter: 33\n",
      "Iter: 34\n",
      "Iter: 35\n",
      "Iter: 36\n",
      "Iter: 37\n",
      "Iter: 38\n",
      "Iter: 39\n",
      "Iter: 40\n",
      "Iter: 41\n",
      "Iter: 42\n",
      "Iter: 43\n",
      "Iter: 44\n",
      "Iter: 45\n",
      "Iter: 46\n",
      "Iter: 47\n",
      "Iter: 48\n",
      "Iter: 49\n",
      "Iter: 50\n",
      "Iter: 51\n",
      "Iter: 52\n",
      "Iter: 53\n",
      "Iter: 54\n",
      "Iter: 55\n",
      "Iter: 56\n",
      "Iter: 57\n",
      "Iter: 58\n",
      "Iter: 59\n",
      "Iter: 60\n",
      "Iter: 61\n",
      "Iter: 62\n",
      "Iter: 63\n",
      "Iter: 64\n",
      "Iter: 65\n",
      "Iter: 66\n",
      "Iter: 67\n",
      "Iter: 68\n",
      "Iter: 69\n",
      "Iter: 70\n",
      "Iter: 71\n",
      "Iter: 72\n",
      "Iter: 73\n",
      "Iter: 74\n",
      "Iter: 75\n",
      "Iter: 76\n",
      "Iter: 77\n",
      "Iter: 78\n",
      "Iter: 79\n",
      "Iter: 80\n",
      "Iter: 81\n",
      "Iter: 82\n",
      "Iter: 83\n",
      "Iter: 84\n",
      "Iter: 85\n",
      "Iter: 86\n",
      "Iter: 87\n",
      "Iter: 88\n",
      "Iter: 89\n",
      "Iter: 90\n",
      "Iter: 91\n",
      "Iter: 92\n",
      "Iter: 93\n",
      "Iter: 94\n",
      "Iter: 95\n",
      "Iter: 96\n",
      "Iter: 97\n",
      "Iter: 98\n",
      "train: [0.3669805859375, tensor(0.8905)]\n",
      "valid: [0.16813060302734376, tensor(0.9516)]\n",
      "Epoch: 3\n",
      "Iter: 1\n",
      "Iter: 2\n",
      "Iter: 3\n",
      "Iter: 4\n",
      "Iter: 5\n",
      "Iter: 6\n",
      "Iter: 7\n",
      "Iter: 8\n",
      "Iter: 9\n",
      "Iter: 10\n",
      "Iter: 11\n",
      "Iter: 12\n",
      "Iter: 13\n",
      "Iter: 14\n",
      "Iter: 15\n",
      "Iter: 16\n",
      "Iter: 17\n",
      "Iter: 18\n",
      "Iter: 19\n",
      "Iter: 20\n",
      "Iter: 21\n",
      "Iter: 22\n",
      "Iter: 23\n",
      "Iter: 24\n",
      "Iter: 25\n",
      "Iter: 26\n",
      "Iter: 27\n",
      "Iter: 28\n",
      "Iter: 29\n",
      "Iter: 30\n",
      "Iter: 31\n",
      "Iter: 32\n",
      "Iter: 33\n",
      "Iter: 34\n",
      "Iter: 35\n",
      "Iter: 36\n",
      "Iter: 37\n",
      "Iter: 38\n",
      "Iter: 39\n",
      "Iter: 40\n",
      "Iter: 41\n",
      "Iter: 42\n",
      "Iter: 43\n",
      "Iter: 44\n",
      "Iter: 45\n",
      "Iter: 46\n",
      "Iter: 47\n",
      "Iter: 48\n",
      "Iter: 49\n",
      "Iter: 50\n",
      "Iter: 51\n",
      "Iter: 52\n",
      "Iter: 53\n",
      "Iter: 54\n",
      "Iter: 55\n",
      "Iter: 56\n",
      "Iter: 57\n",
      "Iter: 58\n",
      "Iter: 59\n",
      "Iter: 60\n",
      "Iter: 61\n",
      "Iter: 62\n",
      "Iter: 63\n",
      "Iter: 64\n",
      "Iter: 65\n",
      "Iter: 66\n",
      "Iter: 67\n",
      "Iter: 68\n",
      "Iter: 69\n",
      "Iter: 70\n",
      "Iter: 71\n",
      "Iter: 72\n",
      "Iter: 73\n",
      "Iter: 74\n",
      "Iter: 75\n",
      "Iter: 76\n",
      "Iter: 77\n",
      "Iter: 78\n",
      "Iter: 79\n",
      "Iter: 80\n",
      "Iter: 81\n",
      "Iter: 82\n",
      "Iter: 83\n",
      "Iter: 84\n",
      "Iter: 85\n",
      "Iter: 86\n",
      "Iter: 87\n",
      "Iter: 88\n",
      "Iter: 89\n",
      "Iter: 90\n",
      "Iter: 91\n",
      "Iter: 92\n",
      "Iter: 93\n",
      "Iter: 94\n",
      "Iter: 95\n",
      "Iter: 96\n",
      "Iter: 97\n",
      "Iter: 98\n",
      "train: [0.17376080078125, tensor(0.9481)]\n",
      "valid: [0.12921136474609374, tensor(0.9631)]\n",
      "Epoch: 3\n",
      "Iter: 1\n",
      "Iter: 2\n",
      "Iter: 3\n",
      "Iter: 4\n",
      "Iter: 5\n",
      "Iter: 6\n",
      "Iter: 7\n",
      "Iter: 8\n",
      "Iter: 9\n",
      "Iter: 10\n",
      "Iter: 11\n",
      "Iter: 12\n",
      "Iter: 13\n",
      "Iter: 14\n",
      "Iter: 15\n",
      "Iter: 16\n",
      "Iter: 17\n",
      "Iter: 18\n",
      "Iter: 19\n",
      "Iter: 20\n",
      "Iter: 21\n",
      "Iter: 22\n",
      "Iter: 23\n",
      "Iter: 24\n",
      "Iter: 25\n",
      "Iter: 26\n",
      "Iter: 27\n",
      "Iter: 28\n",
      "Iter: 29\n",
      "Iter: 30\n",
      "Iter: 31\n",
      "Iter: 32\n",
      "Iter: 33\n",
      "Iter: 34\n",
      "Iter: 35\n",
      "Iter: 36\n",
      "Iter: 37\n",
      "Iter: 38\n",
      "Iter: 39\n",
      "Iter: 40\n",
      "Iter: 41\n",
      "Iter: 42\n",
      "Iter: 43\n",
      "Iter: 44\n",
      "Iter: 45\n",
      "Iter: 46\n",
      "Iter: 47\n",
      "Iter: 48\n",
      "Iter: 49\n",
      "Iter: 50\n",
      "Iter: 51\n",
      "Iter: 52\n",
      "Iter: 53\n",
      "Iter: 54\n",
      "Iter: 55\n",
      "Iter: 56\n",
      "Iter: 57\n",
      "Iter: 58\n",
      "Iter: 59\n",
      "Iter: 60\n",
      "Iter: 61\n",
      "Iter: 62\n",
      "Iter: 63\n",
      "Iter: 64\n",
      "Iter: 65\n",
      "Iter: 66\n",
      "Iter: 67\n",
      "Iter: 68\n",
      "Iter: 69\n",
      "Iter: 70\n",
      "Iter: 71\n",
      "Iter: 72\n",
      "Iter: 73\n",
      "Iter: 74\n",
      "Iter: 75\n",
      "Iter: 76\n",
      "Iter: 77\n",
      "Iter: 78\n",
      "Iter: 79\n",
      "Iter: 80\n",
      "Iter: 81\n",
      "Iter: 82\n",
      "Iter: 83\n",
      "Iter: 84\n",
      "Iter: 85\n",
      "Iter: 86\n",
      "Iter: 87\n",
      "Iter: 88\n",
      "Iter: 89\n",
      "Iter: 90\n",
      "Iter: 91\n",
      "Iter: 92\n",
      "Iter: 93\n",
      "Iter: 94\n",
      "Iter: 95\n",
      "Iter: 96\n",
      "Iter: 97\n",
      "Iter: 98\n",
      "train: [0.122380185546875, tensor(0.9638)]\n",
      "valid: [0.12537432861328124, tensor(0.9613)]\n",
      "CPU times: user 32.4 s, sys: 296 ms, total: 32.7 s\n",
      "Wall time: 13 s\n"
     ]
    }
   ],
   "source": [
    "\n",
    "%time run.fit(3, learn)"
   ]
  },
  {
   "cell_type": "code",
   "execution_count": 14,
   "metadata": {},
   "outputs": [
    {
     "name": "stderr",
     "output_type": "stream",
     "text": [
      "ERROR:root:No traceback has been produced, nothing to debug.\n"
     ]
    }
   ],
   "source": [
    "run.recorder"
   ]
  },
  {
   "cell_type": "code",
   "execution_count": null,
   "metadata": {},
   "outputs": [],
   "source": []
  },
  {
   "cell_type": "code",
   "execution_count": null,
   "metadata": {},
   "outputs": [],
   "source": []
  }
 ],
 "metadata": {
  "kernelspec": {
   "display_name": "Python 3",
   "language": "python",
   "name": "python3"
  },
  "language_info": {
   "codemirror_mode": {
    "name": "ipython",
    "version": 3
   },
   "file_extension": ".py",
   "mimetype": "text/x-python",
   "name": "python",
   "nbconvert_exporter": "python",
   "pygments_lexer": "ipython3",
   "version": "3.7.3"
  }
 },
 "nbformat": 4,
 "nbformat_minor": 2
}
