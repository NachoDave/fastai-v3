{
 "cells": [
  {
   "cell_type": "code",
   "execution_count": 1,
   "metadata": {},
   "outputs": [],
   "source": [
    "%load_ext autoreload\n",
    "%autoreload 2\n",
    "\n",
    "%matplotlib inline"
   ]
  },
  {
   "cell_type": "code",
   "execution_count": null,
   "metadata": {},
   "outputs": [],
   "source": []
  },
  {
   "cell_type": "code",
   "execution_count": 2,
   "metadata": {},
   "outputs": [],
   "source": [
    "#export\n",
    "from exp.nb_03 import *"
   ]
  },
  {
   "cell_type": "markdown",
   "metadata": {},
   "source": [
    "## DataBunch/Learner"
   ]
  },
  {
   "cell_type": "markdown",
   "metadata": {},
   "source": [
    "[Jump_to lesson 9 video](https://course.fast.ai/videos/?lesson=9&t=4799)"
   ]
  },
  {
   "cell_type": "code",
   "execution_count": 3,
   "metadata": {},
   "outputs": [
    {
     "data": {
      "text/plain": [
       "<exp.nb_03.Dataset at 0x7fdcf51aa940>"
      ]
     },
     "execution_count": 3,
     "metadata": {},
     "output_type": "execute_result"
    }
   ],
   "source": [
    "x_train,y_train,x_valid,y_valid = get_data()\n",
    "train_ds,valid_ds = Dataset(x_train, y_train),Dataset(x_valid, y_valid)\n",
    "nh,bs = 50,64\n",
    "c = y_train.max().item()+1\n",
    "loss_func = F.cross_entropy\n",
    "train_ds"
   ]
  },
  {
   "cell_type": "markdown",
   "metadata": {},
   "source": [
    "Factor out the connected pieces of info out of the fit() argument list\n",
    "\n",
    "`fit(epochs, model, loss_func, opt, train_dl, valid_dl)`\n",
    "\n",
    "Let's replace it with something that looks like this:\n",
    "\n",
    "`fit(1, learn)`\n",
    "\n",
    "This will allow us to tweak what's happening inside the training loop in other places of the code because the `Learner` object will be mutable, so changing any of its attribute elsewhere will be seen in our training loop."
   ]
  },
  {
   "cell_type": "markdown",
   "metadata": {},
   "source": [
    "[Jump_to lesson 9 video](https://course.fast.ai/videos/?lesson=9&t=5363)"
   ]
  },
  {
   "cell_type": "code",
   "execution_count": 4,
   "metadata": {},
   "outputs": [],
   "source": [
    "#export\n",
    "class DataBunch():\n",
    "    def __init__(self, train_dl, valid_dl, c=None):\n",
    "        self.train_dl,self.valid_dl,self.c = train_dl,valid_dl,c # c is final number of acitvations\n",
    "        \n",
    "    @property\n",
    "    def train_ds(self): return self.train_dl.dataset\n",
    "        \n",
    "    @property\n",
    "    def valid_ds(self): return self.valid_dl.dataset"
   ]
  },
  {
   "cell_type": "code",
   "execution_count": 5,
   "metadata": {},
   "outputs": [
    {
     "data": {
      "text/plain": [
       "(<torch.utils.data.dataloader.DataLoader at 0x7fdcf51aa6a0>,\n",
       " <torch.utils.data.dataloader.DataLoader at 0x7fdcf51aa7b8>)"
      ]
     },
     "execution_count": 5,
     "metadata": {},
     "output_type": "execute_result"
    }
   ],
   "source": [
    "data = DataBunch(*get_dls(train_ds, valid_ds, bs), c)\n",
    "data.train_dl.dataset\n",
    "get_dls(train_ds, valid_ds, bs)"
   ]
  },
  {
   "cell_type": "code",
   "execution_count": 48,
   "metadata": {},
   "outputs": [
    {
     "ename": "NameError",
     "evalue": "name 'model' is not defined",
     "output_type": "error",
     "traceback": [
      "\u001b[0;31m---------------------------------------------------------------------------\u001b[0m",
      "\u001b[0;31mNameError\u001b[0m                                 Traceback (most recent call last)",
      "\u001b[0;32m<ipython-input-48-6dbc5889d478>\u001b[0m in \u001b[0;36m<module>\u001b[0;34m\u001b[0m\n\u001b[1;32m      8\u001b[0m     \u001b[0;32mdef\u001b[0m \u001b[0m__init__\u001b[0m\u001b[0;34m(\u001b[0m\u001b[0mself\u001b[0m\u001b[0;34m,\u001b[0m \u001b[0mmodel\u001b[0m\u001b[0;34m,\u001b[0m \u001b[0mopt\u001b[0m\u001b[0;34m,\u001b[0m \u001b[0mloss_func\u001b[0m\u001b[0;34m,\u001b[0m \u001b[0mdata\u001b[0m\u001b[0;34m)\u001b[0m\u001b[0;34m:\u001b[0m\u001b[0;34m\u001b[0m\u001b[0;34m\u001b[0m\u001b[0m\n\u001b[1;32m      9\u001b[0m         \u001b[0mself\u001b[0m\u001b[0;34m.\u001b[0m\u001b[0mmodel\u001b[0m\u001b[0;34m,\u001b[0m\u001b[0mself\u001b[0m\u001b[0;34m.\u001b[0m\u001b[0mopt\u001b[0m\u001b[0;34m,\u001b[0m\u001b[0mself\u001b[0m\u001b[0;34m.\u001b[0m\u001b[0mloss_func\u001b[0m\u001b[0;34m,\u001b[0m\u001b[0mself\u001b[0m\u001b[0;34m.\u001b[0m\u001b[0mdata\u001b[0m \u001b[0;34m=\u001b[0m \u001b[0mmodel\u001b[0m\u001b[0;34m,\u001b[0m\u001b[0mopt\u001b[0m\u001b[0;34m,\u001b[0m\u001b[0mloss_func\u001b[0m\u001b[0;34m,\u001b[0m\u001b[0mdata\u001b[0m\u001b[0;34m\u001b[0m\u001b[0;34m\u001b[0m\u001b[0m\n\u001b[0;32m---> 10\u001b[0;31m \u001b[0mmodel\u001b[0m\u001b[0;34m.\u001b[0m\u001b[0mparameters\u001b[0m\u001b[0;34m(\u001b[0m\u001b[0;34m)\u001b[0m\u001b[0;34m\u001b[0m\u001b[0;34m\u001b[0m\u001b[0m\n\u001b[0m",
      "\u001b[0;31mNameError\u001b[0m: name 'model' is not defined"
     ]
    }
   ],
   "source": [
    "#export\n",
    "def get_model(data, lr=0.5, nh=50):\n",
    "    m = data.train_ds.x.shape[1]\n",
    "    model = nn.Sequential(nn.Linear(m,nh), nn.ReLU(), nn.Linear(nh,data.c))\n",
    "    return model, optim.SGD(model.parameters(), lr=lr)\n",
    "\n",
    "class Learner():\n",
    "    def __init__(self, model, opt, loss_func, data):\n",
    "        self.model,self.opt,self.loss_func,self.data = model,opt,loss_func,data"
   ]
  },
  {
   "cell_type": "code",
   "execution_count": 7,
   "metadata": {},
   "outputs": [],
   "source": [
    "learn = Learner(*get_model(data), loss_func, data)\n"
   ]
  },
  {
   "cell_type": "code",
   "execution_count": 8,
   "metadata": {},
   "outputs": [],
   "source": [
    "def fit(epochs, learn):\n",
    "    for epoch in range(epochs):\n",
    "        learn.model.train()\n",
    "        for xb,yb in learn.data.train_dl:\n",
    "            loss = learn.loss_func(learn.model(xb), yb)\n",
    "            loss.backward()\n",
    "            learn.opt.step()\n",
    "            learn.opt.zero_grad()\n",
    "\n",
    "        learn.model.eval()\n",
    "        with torch.no_grad():\n",
    "            tot_loss,tot_acc = 0.,0.\n",
    "            for xb,yb in learn.data.valid_dl:\n",
    "                pred = learn.model(xb)\n",
    "                tot_loss += learn.loss_func(pred, yb)\n",
    "                tot_acc  += accuracy (pred,yb)\n",
    "        nv = len(learn.data.valid_dl)\n",
    "        print(epoch, tot_loss/nv, tot_acc/nv)\n",
    "    return tot_loss/nv, tot_acc/nv"
   ]
  },
  {
   "cell_type": "code",
   "execution_count": 9,
   "metadata": {},
   "outputs": [
    {
     "name": "stdout",
     "output_type": "stream",
     "text": [
      "0 tensor(0.1524) tensor(0.9574)\n"
     ]
    }
   ],
   "source": [
    "loss,acc = fit(1, learn)"
   ]
  },
  {
   "cell_type": "markdown",
   "metadata": {},
   "source": [
    "## CallbackHandler"
   ]
  },
  {
   "cell_type": "markdown",
   "metadata": {},
   "source": [
    "This was our training loop (without validation) from the previous notebook, with the inner loop contents factored out:\n",
    "\n",
    "```python\n",
    "def one_batch(xb,yb):\n",
    "    pred = model(xb)\n",
    "    loss = loss_func(pred, yb)\n",
    "    loss.backward()\n",
    "    opt.step()\n",
    "    opt.zero_grad()\n",
    "    \n",
    "def fit():\n",
    "    for epoch in range(epochs):\n",
    "        for b in train_dl: one_batch(*b)\n",
    "```"
   ]
  },
  {
   "cell_type": "markdown",
   "metadata": {},
   "source": [
    "Add callbacks so we can remove complexity from loop, and make it flexible:"
   ]
  },
  {
   "cell_type": "markdown",
   "metadata": {},
   "source": [
    "[Jump_to lesson 9 video](https://course.fast.ai/videos/?lesson=9&t=5628)"
   ]
  },
  {
   "cell_type": "code",
   "execution_count": 10,
   "metadata": {},
   "outputs": [],
   "source": [
    "def one_batch(xb, yb, cb): # xb yb are taining data performs fitting of a single batch\n",
    "    #(dir(cb))\n",
    "    if not cb.begin_batch(xb,yb): return\n",
    "    loss = cb.learn.loss_func(cb.learn.model(xb), yb)\n",
    "    if not cb.after_loss(loss): return\n",
    "    loss.backward()\n",
    "    if cb.after_backward(): cb.learn.opt.step()\n",
    "    if cb.after_step(): cb.learn.opt.zero_grad()\n",
    "\n",
    "def all_batches(dl, cb): # loops though each batch\n",
    "    print(\"In all batches function: \" + str(dir(cb)))\n",
    "    for xb,yb in dl:\n",
    "        one_batch(xb, yb, cb)\n",
    "        if cb.do_stop(): return\n",
    "\n",
    "def fit(epochs, learn, cb): # loops through epochs\n",
    "    print(\"Fit function: \" +str(dir(cb)))\n",
    "    if not cb.begin_fit(learn): return\n",
    "    for epoch in range(epochs):\n",
    "        if not cb.begin_epoch(epoch): continue\n",
    "        all_batches(learn.data.train_dl, cb) # learn.data is the learner, containing data and model\n",
    "        \n",
    "        if cb.begin_validate():\n",
    "            with torch.no_grad(): all_batches(learn.data.valid_dl, cb)\n",
    "        if cb.do_stop() or not cb.after_epoch(): break\n",
    "    cb.after_fit()"
   ]
  },
  {
   "cell_type": "code",
   "execution_count": 11,
   "metadata": {},
   "outputs": [],
   "source": [
    "class Callback():\n",
    "    def begin_fit(self, learn): # add the learner to the call back\n",
    "        self.learn = learn\n",
    "        print(learn)\n",
    "        return True\n",
    "    def after_fit(self): return True\n",
    "    def begin_epoch(self, epoch):\n",
    "        self.epoch=epoch\n",
    "        return True\n",
    "    def begin_validate(self): \n",
    "        print(\"In the callback begin_validate\")\n",
    "        return True\n",
    "    def after_epoch(self): return True\n",
    "    def begin_batch(self, xb, yb):\n",
    "        self.xb,self.yb = xb,yb\n",
    "        return True\n",
    "    def after_loss(self, loss):\n",
    "        self.loss = loss\n",
    "        return True\n",
    "    def after_backward(self): return True\n",
    "    def after_step(self): return True"
   ]
  },
  {
   "cell_type": "code",
   "execution_count": 12,
   "metadata": {},
   "outputs": [],
   "source": [
    "class CallbackHandler():\n",
    "    def __init__(self,cbs=None):\n",
    "        self.cbs = cbs if cbs else [] \n",
    "\n",
    "    def begin_fit(self, learn):\n",
    "        self.learn,self.in_train = learn,True\n",
    "        learn.stop = False\n",
    "        res = True\n",
    "        #print(\"In the call back handler begin_fit method\")\n",
    "        for cb in self.cbs: res = res and cb.begin_fit(learn)\n",
    "        return res\n",
    "\n",
    "    def after_fit(self):\n",
    "        res = not self.in_train\n",
    "        print(\"In after fit call back handler\")\n",
    "        for cb in self.cbs: res = res and cb.after_fit()\n",
    "        return res\n",
    "    \n",
    "    def begin_epoch(self, epoch):\n",
    "        self.learn.model.train()\n",
    "        self.in_train=True\n",
    "        res = True\n",
    "        for cb in self.cbs: res = res and cb.begin_epoch(epoch)\n",
    "        return res\n",
    "\n",
    "    def begin_validate(self):\n",
    "        self.learn.model.eval()\n",
    "        self.in_train=False\n",
    "        res = True\n",
    "        print(\"In the call back hander begin_validate\")\n",
    "        for cb in self.cbs: res = res and cb.begin_validate()\n",
    "        return res\n",
    "\n",
    "    def after_epoch(self):\n",
    "        res = True\n",
    "        for cb in self.cbs: res = res and cb.after_epoch()\n",
    "        return res\n",
    "    \n",
    "    def begin_batch(self, xb, yb):\n",
    "        res = True\n",
    "        for cb in self.cbs: res = res and cb.begin_batch(xb, yb)\n",
    "        return res\n",
    "\n",
    "    def after_loss(self, loss):\n",
    "        res = self.in_train\n",
    "        for cb in self.cbs: res = res and cb.after_loss(loss)\n",
    "        return res\n",
    "\n",
    "    def after_backward(self):\n",
    "        res = True\n",
    "        for cb in self.cbs: res = res and cb.after_backward()\n",
    "        return res\n",
    "\n",
    "    def after_step(self):\n",
    "        res = True\n",
    "        for cb in self.cbs: res = res and cb.after_step()\n",
    "        return res\n",
    "    \n",
    "    def do_stop(self):\n",
    "        try:     return self.learn.stop\n",
    "        finally: self.learn.stop = False"
   ]
  },
  {
   "cell_type": "code",
   "execution_count": 13,
   "metadata": {},
   "outputs": [],
   "source": [
    "class TestCallback(Callback): # a call back is a class inherited from Callback class\n",
    "    def begin_fit(self,learn): # only amend the callbacks where we add them\n",
    "        super().begin_fit(learn)\n",
    "        self.n_iters = 0\n",
    "        return True\n",
    "        \n",
    "    def after_step(self):\n",
    "        self.n_iters += 1\n",
    "        print(self.n_iters)\n",
    "        if self.n_iters>=10: self.learn.stop = True\n",
    "        return True"
   ]
  },
  {
   "cell_type": "code",
   "execution_count": 14,
   "metadata": {},
   "outputs": [
    {
     "name": "stdout",
     "output_type": "stream",
     "text": [
      "Fit function: ['__class__', '__delattr__', '__dict__', '__dir__', '__doc__', '__eq__', '__format__', '__ge__', '__getattribute__', '__gt__', '__hash__', '__init__', '__init_subclass__', '__le__', '__lt__', '__module__', '__ne__', '__new__', '__reduce__', '__reduce_ex__', '__repr__', '__setattr__', '__sizeof__', '__str__', '__subclasshook__', '__weakref__', 'after_backward', 'after_epoch', 'after_fit', 'after_loss', 'after_step', 'begin_batch', 'begin_epoch', 'begin_fit', 'begin_validate', 'cbs', 'do_stop']\n",
      "<__main__.Learner object at 0x7fdcf5150160>\n",
      "In all batches function: ['__class__', '__delattr__', '__dict__', '__dir__', '__doc__', '__eq__', '__format__', '__ge__', '__getattribute__', '__gt__', '__hash__', '__init__', '__init_subclass__', '__le__', '__lt__', '__module__', '__ne__', '__new__', '__reduce__', '__reduce_ex__', '__repr__', '__setattr__', '__sizeof__', '__str__', '__subclasshook__', '__weakref__', 'after_backward', 'after_epoch', 'after_fit', 'after_loss', 'after_step', 'begin_batch', 'begin_epoch', 'begin_fit', 'begin_validate', 'cbs', 'do_stop', 'in_train', 'learn']\n",
      "1\n",
      "2\n",
      "3\n",
      "4\n",
      "5\n",
      "6\n",
      "7\n",
      "8\n",
      "9\n",
      "10\n",
      "In the call back hander begin_validate\n",
      "In the callback begin_validate\n",
      "In all batches function: ['__class__', '__delattr__', '__dict__', '__dir__', '__doc__', '__eq__', '__format__', '__ge__', '__getattribute__', '__gt__', '__hash__', '__init__', '__init_subclass__', '__le__', '__lt__', '__module__', '__ne__', '__new__', '__reduce__', '__reduce_ex__', '__repr__', '__setattr__', '__sizeof__', '__str__', '__subclasshook__', '__weakref__', 'after_backward', 'after_epoch', 'after_fit', 'after_loss', 'after_step', 'begin_batch', 'begin_epoch', 'begin_fit', 'begin_validate', 'cbs', 'do_stop', 'in_train', 'learn']\n",
      "In after fit call back handler\n"
     ]
    }
   ],
   "source": [
    "fit(1, learn, cb=CallbackHandler([TestCallback()]))"
   ]
  },
  {
   "cell_type": "code",
   "execution_count": 15,
   "metadata": {},
   "outputs": [],
   "source": [
    "#%debug"
   ]
  },
  {
   "cell_type": "markdown",
   "metadata": {},
   "source": [
    "This is roughly how fastai does it now (except that the handler can also change and return `xb`, `yb`, and `loss`). But let's see if we can make things simpler and more flexible, so that a single class has access to everything and can change anything at any time. The fact that we're passing `cb` to so many functions is a strong hint they should all be in the same class!"
   ]
  },
  {
   "cell_type": "markdown",
   "metadata": {},
   "source": [
    "## Runner"
   ]
  },
  {
   "cell_type": "markdown",
   "metadata": {},
   "source": [
    "[Jump_to lesson 9 video](https://course.fast.ai/videos/?lesson=9&t=5811)"
   ]
  },
  {
   "cell_type": "code",
   "execution_count": 16,
   "metadata": {},
   "outputs": [],
   "source": [
    "#export\n",
    "import re\n",
    "\n",
    "_camel_re1 = re.compile('(.)([A-Z][a-z]+)')\n",
    "_camel_re2 = re.compile('([a-z0-9])([A-Z])')\n",
    "def camel2snake(name):\n",
    "    s1 = re.sub(_camel_re1, r'\\1_\\2', name)\n",
    "    return re.sub(_camel_re2, r'\\1_\\2', s1).lower()\n",
    "\n",
    "class Callback():\n",
    "    _order=0\n",
    "    def set_runner(self, run): self.run=run\n",
    "    def __getattr__(self, k): return getattr(self.run, k)\n",
    "    @property\n",
    "    def name(self):\n",
    "        name = re.sub(r'Callback$', '', self.__class__.__name__)\n",
    "        return camel2snake(name or 'callback')"
   ]
  },
  {
   "cell_type": "markdown",
   "metadata": {},
   "source": [
    "This first callback is reponsible to switch the model back and forth in training or validation mode, as well as maintaining a count of the iterations, or the percentage of iterations ellapsed in the epoch."
   ]
  },
  {
   "cell_type": "code",
   "execution_count": 17,
   "metadata": {},
   "outputs": [],
   "source": [
    "#export\n",
    "class TrainEvalCallback(Callback):\n",
    "    def begin_fit(self):\n",
    "        self.run.n_epochs=0.\n",
    "        self.run.n_iter=0\n",
    "    \n",
    "    def after_batch(self):\n",
    "        if not self.in_train: return\n",
    "        self.run.n_epochs += 1./self.iters\n",
    "        self.run.n_iter   += 1\n",
    "        \n",
    "    def begin_epoch(self):\n",
    "        self.run.n_epochs=self.epoch\n",
    "        self.model.train()\n",
    "        self.run.in_train=True\n",
    "\n",
    "    def begin_validate(self):\n",
    "        self.model.eval()\n",
    "        self.run.in_train=False"
   ]
  },
  {
   "cell_type": "markdown",
   "metadata": {},
   "source": [
    "We'll also re-create our TestCallback"
   ]
  },
  {
   "cell_type": "code",
   "execution_count": 18,
   "metadata": {},
   "outputs": [],
   "source": [
    "class TestCallback(Callback):\n",
    "    def after_step(self):\n",
    "        if self.train_eval.n_iters>=10: return True"
   ]
  },
  {
   "cell_type": "code",
   "execution_count": 19,
   "metadata": {},
   "outputs": [
    {
     "data": {
      "text/plain": [
       "'train_eval_callback'"
      ]
     },
     "execution_count": 19,
     "metadata": {},
     "output_type": "execute_result"
    }
   ],
   "source": [
    "cbname = 'TrainEvalCallback'\n",
    "camel2snake(cbname)"
   ]
  },
  {
   "cell_type": "code",
   "execution_count": 20,
   "metadata": {},
   "outputs": [
    {
     "data": {
      "text/plain": [
       "'train_eval'"
      ]
     },
     "execution_count": 20,
     "metadata": {},
     "output_type": "execute_result"
    }
   ],
   "source": [
    "TrainEvalCallback().name"
   ]
  },
  {
   "cell_type": "code",
   "execution_count": 21,
   "metadata": {},
   "outputs": [],
   "source": [
    "#export\n",
    "from typing import *\n",
    "\n",
    "def listify(o):\n",
    "    if o is None: return []\n",
    "    if isinstance(o, list): return o\n",
    "    if isinstance(o, str): return [o]\n",
    "    if isinstance(o, Iterable): return list(o)\n",
    "    return [o]"
   ]
  },
  {
   "cell_type": "code",
   "execution_count": 22,
   "metadata": {},
   "outputs": [],
   "source": [
    "#export\n",
    "class Runner():\n",
    "    def __init__(self, cbs=None, cb_funcs=None):\n",
    "        cbs = listify(cbs)\n",
    "        #print(cbs)\n",
    "        #print(cb_funcs)\n",
    "        for cbf in listify(cb_funcs):\n",
    "            cb = cbf()\n",
    "            setattr(self, cb.name, cb)\n",
    "            cbs.append(cb)\n",
    "        self.stop,self.cbs = False,[TrainEvalCallback()]+cbs\n",
    "       # print(self.cbs)\n",
    "\n",
    "    @property\n",
    "    def opt(self):       return self.learn.opt\n",
    "    @property\n",
    "    def model(self):     return self.learn.model\n",
    "    @property\n",
    "    def loss_func(self): return self.learn.loss_func\n",
    "    @property\n",
    "    def data(self):      return self.learn.data\n",
    "\n",
    "    def one_batch(self, xb, yb):\n",
    "        self.xb,self.yb = xb,yb\n",
    "        if self('begin_batch'): return # if call back function returns TRUE then return from method\n",
    "        self.pred = self.model(self.xb)\n",
    "        if self('after_pred'): return\n",
    "        self.loss = self.loss_func(self.pred, self.yb)\n",
    "        if self('after_loss') or not self.in_train: return # don't run the backward pass \n",
    "        self.loss.backward()\n",
    "        if self('after_backward'): return\n",
    "        self.opt.step()\n",
    "        if self('after_step'): return\n",
    "        self.opt.zero_grad()\n",
    "\n",
    "    def all_batches(self, dl):\n",
    "        self.iters = len(dl)\n",
    "        for xb,yb in dl:\n",
    "            if self.stop: break\n",
    "            self.one_batch(xb, yb)\n",
    "            self('after_batch')\n",
    "        self.stop=False\n",
    "\n",
    "    def fit(self, epochs, learn):\n",
    "        self.epochs,self.learn = epochs,learn\n",
    "\n",
    "        try:\n",
    "            for cb in self.cbs: cb.set_runner(self)\n",
    "            if self('begin_fit'): return\n",
    "            for epoch in range(epochs):\n",
    "                self.epoch = epoch\n",
    "                if not self('begin_epoch'): self.all_batches(self.data.train_dl)\n",
    "\n",
    "                with torch.no_grad(): \n",
    "                    if not self('begin_validate'): self.all_batches(self.data.valid_dl)\n",
    "                if self('after_epoch'): break\n",
    "            \n",
    "        finally:\n",
    "            self('after_fit')\n",
    "            self.learn = None\n",
    "\n",
    "    def __call__(self, cb_name): # calls the call back\n",
    "        #print(cb_name)\n",
    "        for cb in sorted(self.cbs, key=lambda x: x._order): # sorts call backs by order\n",
    "            f = getattr(cb, cb_name, None) # if the cb has a cb_name function then get it\n",
    "            if f and f(): return True\n",
    "        return False\n",
    "    "
   ]
  },
  {
   "cell_type": "markdown",
   "metadata": {},
   "source": [
    "Third callback: how to compute metrics."
   ]
  },
  {
   "cell_type": "code",
   "execution_count": 23,
   "metadata": {},
   "outputs": [],
   "source": [
    "#export\n",
    "class AvgStats():\n",
    "    def __init__(self, metrics, in_train): \n",
    "        self.metrics,self.in_train = listify(metrics),in_train\n",
    "        print(\"Metrics:\")\n",
    "        print(metrics)\n",
    "    def reset(self):\n",
    "        self.tot_loss,self.count = 0.,0\n",
    "        self.tot_mets = [0.] * len(self.metrics)\n",
    "        \n",
    "    @property\n",
    "    def all_stats(self): return [self.tot_loss.item()] + self.tot_mets\n",
    "    @property\n",
    "    def avg_stats(self): return [o/self.count for o in self.all_stats]\n",
    "    \n",
    "    def __repr__(self):\n",
    "        if not self.count: return \"\"\n",
    "        return f\"{'train' if self.in_train else 'valid'}: {self.avg_stats}\"\n",
    "\n",
    "    def accumulate(self, run):\n",
    "        bn = run.xb.shape[0]\n",
    "        self.tot_loss += run.loss * bn\n",
    "        self.count += bn\n",
    "        for i,m in enumerate(self.metrics):\n",
    "            self.tot_mets[i] += m(run.pred, run.yb) * bn # can have any metrics on the predictions and truth \n",
    "\n",
    "class AvgStatsCallback(Callback):\n",
    "    def __init__(self, metrics):\n",
    "        self.train_stats,self.valid_stats = AvgStats(metrics,True),AvgStats(metrics,False)\n",
    "        \n",
    "    def begin_epoch(self):\n",
    "        self.train_stats.reset()\n",
    "        self.valid_stats.reset()\n",
    "        \n",
    "    def after_loss(self):\n",
    "        stats = self.train_stats if self.in_train else self.valid_stats\n",
    "        with torch.no_grad(): \n",
    "            stats.accumulate(self.run) # passes the runner in \n",
    "            #print(self.run)\n",
    "    \n",
    "    def after_epoch(self):\n",
    "        print(self.train_stats)\n",
    "        print(self.valid_stats)"
   ]
  },
  {
   "cell_type": "code",
   "execution_count": 24,
   "metadata": {},
   "outputs": [],
   "source": [
    "learn = Learner(*get_model(data), loss_func, data)"
   ]
  },
  {
   "cell_type": "code",
   "execution_count": 25,
   "metadata": {},
   "outputs": [
    {
     "name": "stdout",
     "output_type": "stream",
     "text": [
      "Metrics:\n",
      "[<function accuracy at 0x7fdd682abf28>]\n",
      "Metrics:\n",
      "[<function accuracy at 0x7fdd682abf28>]\n"
     ]
    }
   ],
   "source": [
    "stats = AvgStatsCallback([accuracy])\n",
    "run = Runner(cbs=stats)\n",
    "#run.cbs[1].after_loss"
   ]
  },
  {
   "cell_type": "code",
   "execution_count": 26,
   "metadata": {},
   "outputs": [
    {
     "name": "stdout",
     "output_type": "stream",
     "text": [
      "train: [0.3131054296875, tensor(0.9039)]\n",
      "valid: [0.3805385986328125, tensor(0.8874)]\n",
      "train: [0.139987109375, tensor(0.9575)]\n",
      "valid: [0.800574755859375, tensor(0.8363)]\n",
      "train: [0.108585205078125, tensor(0.9672)]\n",
      "valid: [0.11700767822265624, tensor(0.9657)]\n",
      "train: [0.086562412109375, tensor(0.9733)]\n",
      "valid: [0.13040943603515626, tensor(0.9626)]\n"
     ]
    }
   ],
   "source": [
    "run.fit(4, learn)"
   ]
  },
  {
   "cell_type": "code",
   "execution_count": 27,
   "metadata": {},
   "outputs": [
    {
     "data": {
      "text/plain": [
       "(0.13040943603515626, tensor(0.9626))"
      ]
     },
     "execution_count": 27,
     "metadata": {},
     "output_type": "execute_result"
    }
   ],
   "source": [
    "loss,acc = stats.valid_stats.avg_stats\n",
    "assert acc>0.9\n",
    "loss,acc"
   ]
  },
  {
   "cell_type": "code",
   "execution_count": 28,
   "metadata": {},
   "outputs": [],
   "source": [
    "#export\n",
    "from functools import partial"
   ]
  },
  {
   "cell_type": "code",
   "execution_count": 29,
   "metadata": {},
   "outputs": [],
   "source": [
    "acc_cbf = partial(AvgStatsCallback,accuracy)"
   ]
  },
  {
   "cell_type": "code",
   "execution_count": 30,
   "metadata": {},
   "outputs": [
    {
     "name": "stdout",
     "output_type": "stream",
     "text": [
      "Metrics:\n",
      "<function accuracy at 0x7fdd682abf28>\n",
      "Metrics:\n",
      "<function accuracy at 0x7fdd682abf28>\n"
     ]
    }
   ],
   "source": [
    "run = Runner(cb_funcs=acc_cbf)"
   ]
  },
  {
   "cell_type": "code",
   "execution_count": 31,
   "metadata": {},
   "outputs": [
    {
     "name": "stdout",
     "output_type": "stream",
     "text": [
      "train: [0.0753509375, tensor(0.9768)]\n",
      "valid: [0.24451328125, tensor(0.9341)]\n"
     ]
    }
   ],
   "source": [
    "run.fit(1, learn)"
   ]
  },
  {
   "cell_type": "markdown",
   "metadata": {},
   "source": [
    "Using Jupyter means we can get tab-completion even for dynamic code like this! :)"
   ]
  },
  {
   "cell_type": "code",
   "execution_count": 35,
   "metadata": {},
   "outputs": [
    {
     "data": {
      "text/plain": [
       "[0.24451328125, tensor(0.9341)]"
      ]
     },
     "execution_count": 35,
     "metadata": {},
     "output_type": "execute_result"
    }
   ],
   "source": [
    "run.avg_stats.valid_stats.avg_stats"
   ]
  },
  {
   "cell_type": "markdown",
   "metadata": {},
   "source": [
    "## Export"
   ]
  },
  {
   "cell_type": "code",
   "execution_count": 33,
   "metadata": {},
   "outputs": [
    {
     "name": "stdout",
     "output_type": "stream",
     "text": [
      "Converted 04_callbacks.ipynb to exp/nb_04.py\r\n"
     ]
    }
   ],
   "source": [
    "!python notebook2script.py 04_callbacks.ipynb"
   ]
  },
  {
   "cell_type": "code",
   "execution_count": 41,
   "metadata": {},
   "outputs": [
    {
     "data": {
      "text/plain": [
       "[{'params': [Parameter containing:\n",
       "   tensor([[ 0.0230, -0.0205,  0.0076,  ..., -0.0353,  0.0348,  0.0065],\n",
       "           [-0.0134,  0.0194,  0.0148,  ..., -0.0109,  0.0058,  0.0190],\n",
       "           [-0.0323, -0.0012, -0.0277,  ..., -0.0259, -0.0062,  0.0068],\n",
       "           ...,\n",
       "           [-0.0046, -0.0174, -0.0084,  ...,  0.0255, -0.0038, -0.0309],\n",
       "           [ 0.0002,  0.0317,  0.0351,  ...,  0.0155,  0.0164, -0.0183],\n",
       "           [ 0.0246,  0.0097,  0.0157,  ...,  0.0257,  0.0124, -0.0309]],\n",
       "          requires_grad=True), Parameter containing:\n",
       "   tensor([ 0.0724,  0.0529,  0.0251, -0.0446, -0.1368, -0.4361, -0.0056,  0.1303,\n",
       "           -0.1109,  0.1911, -0.0230,  0.3415, -0.2971,  0.1687, -0.0615,  0.0522,\n",
       "           -0.1378,  0.0323,  0.0060,  0.2873, -0.2088, -0.2602, -0.1907,  0.0306,\n",
       "            0.1425,  0.2277, -0.2964,  0.4258,  0.3529,  0.4387, -0.0408,  0.0035,\n",
       "            0.0250,  0.4011, -0.1606,  0.0820,  0.1604, -0.3670,  0.0606, -0.1339,\n",
       "            0.3228,  0.2445,  0.1874,  0.3385,  0.2587,  0.5342, -0.1742,  0.2269,\n",
       "            0.0775,  0.2061], requires_grad=True), Parameter containing:\n",
       "   tensor([[-4.0545e-01, -5.8395e-01, -4.5698e-01, -4.3744e-01,  8.5801e-02,\n",
       "            -6.0984e-01, -5.4817e-01, -2.6313e-01, -1.3897e-02,  4.9238e-01,\n",
       "            -1.8842e-02, -2.4533e-01,  5.6051e-01, -7.5924e-02, -6.7743e-01,\n",
       "             4.2714e-01,  5.1033e-01, -2.1060e-01,  7.1323e-03,  4.2435e-02,\n",
       "            -6.5862e-01, -7.1486e-01,  1.0153e+00,  1.0449e-01,  4.2525e-01,\n",
       "            -1.2020e-01, -1.6434e-01,  9.4737e-02, -7.9406e-01, -5.3572e-01,\n",
       "            -1.3198e-01,  4.3877e-01, -2.6079e-02,  1.2615e-01, -4.8948e-01,\n",
       "            -2.6573e-01, -1.9783e-01, -4.1719e-01,  1.6528e-01,  3.0012e-01,\n",
       "            -6.2951e-01,  5.1087e-02,  2.0654e-01,  7.5073e-01,  2.0718e-02,\n",
       "             3.0888e-01, -3.1747e-01,  8.2281e-01, -2.0670e-01, -1.8987e-01],\n",
       "           [ 1.3879e-01, -4.5569e-01,  7.4561e-01,  3.8948e-01, -5.5318e-01,\n",
       "             4.0319e-03,  3.4844e-01,  5.8248e-01,  6.6732e-02,  2.0918e-01,\n",
       "            -6.9093e-02,  6.7725e-01,  3.1239e-02,  1.0561e+00,  1.4950e-01,\n",
       "            -2.1930e-01, -3.0127e-01,  5.4978e-01,  4.5110e-01,  4.6535e-01,\n",
       "             4.3193e-01, -1.9917e-01, -7.9473e-01,  6.3261e-02,  3.1063e-01,\n",
       "             7.0895e-01, -2.9476e-02, -3.3052e-01,  6.5242e-01, -1.1250e-01,\n",
       "             4.8462e-01, -4.3621e-01, -1.7588e-02, -6.9589e-01,  6.0079e-01,\n",
       "             3.2191e-02,  9.2523e-01, -3.3865e-01,  1.8442e-01, -6.4406e-01,\n",
       "            -5.0269e-01, -2.1629e-01, -3.5792e-01, -8.4984e-04, -1.4812e-01,\n",
       "             8.6294e-02, -8.0320e-01, -5.2811e-01,  6.9720e-01, -4.2582e-01],\n",
       "           [ 1.3298e-01,  3.9923e-01, -6.1576e-01,  2.1519e-01, -1.5208e-02,\n",
       "             1.3432e-01,  1.0748e+00,  9.2159e-01,  1.3685e-01,  3.5364e-01,\n",
       "            -7.4598e-02,  3.3777e-01,  3.7771e-01, -2.4952e-01, -5.2309e-01,\n",
       "            -2.0977e-01,  3.0935e-01, -2.0734e-01,  5.2368e-01,  8.5501e-01,\n",
       "             9.5417e-01, -8.3251e-01, -2.0878e-01, -1.3837e-01,  6.9395e-01,\n",
       "            -1.7198e-01, -8.7229e-01,  2.2799e-02,  2.4828e-01, -3.5616e-01,\n",
       "            -7.4061e-01, -3.0081e-01, -4.3206e-01,  5.5948e-01,  6.0538e-01,\n",
       "             4.9625e-01, -1.0927e-01,  1.4051e-01, -1.0347e+00, -1.1944e-01,\n",
       "            -4.5184e-01, -6.6615e-01, -2.1348e-01,  4.3449e-01,  3.9672e-01,\n",
       "            -9.6558e-02, -4.9621e-01, -8.4214e-02, -5.3126e-01,  9.2005e-01],\n",
       "           [-4.0302e-01,  6.1845e-01,  2.5016e-01,  1.5537e-01,  2.7766e-01,\n",
       "             4.7434e-01,  7.9286e-01, -1.5236e-01,  1.0026e+00, -4.4295e-01,\n",
       "            -3.8515e-03,  7.0761e-02, -8.1780e-02, -3.0112e-01,  5.5127e-01,\n",
       "            -1.0219e+00, -4.3732e-01, -5.8419e-01, -2.3384e-01,  7.1765e-01,\n",
       "             7.4136e-01,  7.4177e-01,  2.0946e-01,  5.5102e-01, -5.5680e-01,\n",
       "            -3.6335e-01,  5.1103e-01, -6.7740e-01,  8.5795e-03, -6.2100e-01,\n",
       "             3.3499e-01, -5.4592e-02, -1.2111e-01, -2.0423e-01,  5.3914e-01,\n",
       "            -4.8118e-01, -8.2193e-01,  1.3756e-01, -4.2890e-01,  6.4910e-01,\n",
       "             6.3646e-01, -1.0356e+00, -1.3168e-01,  3.7597e-01, -8.7211e-02,\n",
       "            -5.0904e-02, -5.0428e-01,  2.6643e-01, -2.9741e-01, -4.1732e-01],\n",
       "           [ 5.2895e-01, -3.9324e-01, -4.6944e-02, -1.8588e-01, -8.8391e-01,\n",
       "            -1.7191e-01, -7.4650e-01, -2.8199e-01, -1.5477e-01, -6.6703e-01,\n",
       "            -3.9913e-02,  2.2743e-01, -7.0093e-01,  9.9766e-01, -3.0962e-01,\n",
       "             8.8375e-01,  5.4341e-02, -1.6484e-01,  4.7848e-01, -4.4414e-01,\n",
       "            -6.5299e-01,  4.7608e-01, -3.2640e-01, -8.6626e-01, -1.2046e-01,\n",
       "             7.3665e-03, -1.6766e-01,  9.4185e-01, -8.7275e-01,  2.6558e-01,\n",
       "             7.5050e-01, -1.0732e+00,  1.5809e-01,  9.3471e-01,  3.0829e-01,\n",
       "             2.8518e-01,  1.2386e-01,  2.3063e-01, -1.5506e-01, -1.4364e+00,\n",
       "             6.3675e-01,  8.4805e-01, -5.1059e-01, -5.8792e-01, -7.1961e-01,\n",
       "            -4.3757e-02,  2.5673e-02, -3.7648e-01,  8.2869e-02, -4.0621e-02],\n",
       "           [-6.2169e-01, -4.1888e-01,  5.5463e-01, -1.2287e-01,  2.0633e-01,\n",
       "             2.2263e-01, -2.3004e-01,  1.5455e-01,  6.9553e-02,  2.2385e-01,\n",
       "            -6.6602e-02,  3.2502e-01, -6.6889e-01, -4.1440e-01,  1.2848e+00,\n",
       "            -2.7316e-01, -9.1092e-01,  5.2687e-01, -1.4086e+00, -8.2601e-01,\n",
       "             3.6496e-01,  8.4131e-01,  7.1234e-02,  3.7128e-01, -4.4311e-01,\n",
       "             4.1249e-01, -1.1069e-01, -3.1897e-01,  8.6802e-01,  7.3748e-01,\n",
       "            -6.8511e-01,  5.9849e-01,  4.9781e-01, -2.7356e-02, -8.6525e-01,\n",
       "            -3.7121e-01,  9.3906e-02, -4.6971e-01,  9.0846e-01,  5.6068e-01,\n",
       "             8.8260e-01,  3.4392e-01,  1.2754e+00,  2.2272e-01, -5.8957e-02,\n",
       "             3.8347e-01,  9.5461e-01,  8.2063e-02, -1.1641e-01, -1.8272e-01],\n",
       "           [ 2.8887e-03,  5.3373e-02, -4.8135e-02, -5.4587e-01,  6.0206e-01,\n",
       "            -4.2233e-01, -7.6818e-01, -5.3665e-02, -1.5848e-01,  6.2089e-01,\n",
       "            -1.3205e-01, -1.4571e-01, -7.8830e-01,  1.1622e-01, -1.1563e-01,\n",
       "             1.3415e-01, -6.3711e-01,  6.3423e-02, -9.6959e-02, -6.1741e-01,\n",
       "            -5.3184e-01, -3.4564e-01,  6.3692e-01, -7.4766e-01,  1.3628e-01,\n",
       "            -1.7161e-01,  4.7552e-01, -4.9229e-01,  5.6902e-01,  3.2357e-01,\n",
       "            -4.1469e-01, -5.2644e-01, -1.4303e-01,  3.9799e-01, -4.2723e-01,\n",
       "            -1.0485e-01, -2.2808e-01, -3.4262e-01,  6.8638e-01, -4.0718e-01,\n",
       "            -5.2918e-01,  4.4392e-01, -5.7231e-01, -5.5214e-01,  1.0414e+00,\n",
       "            -4.1907e-02,  7.2443e-01,  6.3911e-01,  8.2121e-01,  4.5735e-01],\n",
       "           [-1.4914e-01,  8.0459e-01, -1.3883e-01, -3.5496e-01, -6.2689e-01,\n",
       "            -7.1239e-01,  1.0661e+00,  2.3016e-01,  4.8033e-01, -5.8297e-01,\n",
       "            -1.0180e-01,  9.2973e-03,  5.8409e-01,  4.3692e-02, -2.8037e-01,\n",
       "             3.5014e-01,  6.4995e-01,  4.5672e-01, -1.0029e-02,  3.9715e-01,\n",
       "             2.0812e-01, -7.7706e-01, -6.1213e-01,  3.7695e-01, -1.5237e-01,\n",
       "             5.5214e-02,  1.9296e-01,  8.4824e-01, -2.7288e-01,  8.5862e-01,\n",
       "             3.2586e-01,  1.9557e-01, -2.5460e-01, -6.0130e-01,  5.9567e-01,\n",
       "             7.4954e-01,  1.8366e-01, -1.3676e-01, -2.6778e-02,  5.3720e-01,\n",
       "            -6.9838e-02,  1.9659e-01,  8.3911e-02, -6.6195e-02,  5.2511e-01,\n",
       "             1.2365e+00, -3.5151e-01, -9.2886e-01, -1.7515e-01,  6.0571e-02],\n",
       "           [ 8.2323e-01, -6.7269e-01, -7.2798e-01,  3.6585e-01, -1.4633e-01,\n",
       "             1.0202e+00, -3.4168e-01, -3.9294e-01, -7.7121e-01, -1.7767e-01,\n",
       "            -1.0996e-01, -5.5737e-01,  2.5875e-01, -7.0085e-01, -1.9376e-01,\n",
       "            -6.6798e-01,  7.1207e-02,  2.2403e-03,  1.5000e-01, -5.1009e-01,\n",
       "             4.9864e-01,  3.9717e-01,  2.1485e-01,  6.1997e-02,  7.7704e-01,\n",
       "            -4.5679e-01,  2.8016e-01, -9.7184e-01,  4.6601e-01,  4.8062e-02,\n",
       "            -4.5322e-01,  3.2142e-01,  4.6769e-01, -7.4683e-01,  8.1621e-02,\n",
       "             1.6895e-01, -6.3733e-01,  6.9838e-01, -4.2030e-01,  3.2204e-01,\n",
       "            -4.0705e-01,  3.9705e-01, -1.3984e-01, -1.0448e+00, -1.4016e-01,\n",
       "            -4.6338e-01,  5.8690e-01,  4.2593e-01, -1.9221e-01,  5.2533e-02],\n",
       "           [-1.8162e-02,  4.2979e-01,  3.4012e-01,  7.5176e-01,  7.7105e-01,\n",
       "             8.2243e-02, -8.6485e-01, -9.2431e-01, -5.6405e-01, -5.4537e-01,\n",
       "             3.3309e-02, -4.5767e-01,  5.0634e-01, -6.4519e-01,  2.8243e-01,\n",
       "             7.9926e-01,  6.6019e-01,  1.3553e-03,  3.6273e-01,  1.0649e-01,\n",
       "            -1.0570e+00,  9.1583e-01, -3.5498e-01,  4.7273e-01, -7.8549e-01,\n",
       "             1.0314e-01, -3.4666e-01,  6.8440e-01, -5.8120e-01, -3.7326e-01,\n",
       "             6.7597e-01,  2.8473e-01, -1.9892e-01, -2.5110e-02, -6.4590e-01,\n",
       "            -6.2514e-01,  2.3572e-01,  2.4786e-01,  8.6183e-02,  1.8237e-01,\n",
       "             6.4617e-01, -2.5380e-02,  5.7141e-03,  8.6859e-02, -8.9304e-01,\n",
       "            -1.1449e+00,  3.1137e-01, -2.7358e-01, -2.7449e-01, -2.4052e-01]],\n",
       "          requires_grad=True), Parameter containing:\n",
       "   tensor([-0.3612, -0.2527, -0.2839, -0.1731,  0.5471,  0.0979, -0.3501, -0.0864,\n",
       "            0.8161,  0.1798], requires_grad=True)],\n",
       "  'lr': 0.5,\n",
       "  'momentum': 0,\n",
       "  'dampening': 0,\n",
       "  'weight_decay': 0,\n",
       "  'nesterov': False}]"
      ]
     },
     "execution_count": 41,
     "metadata": {},
     "output_type": "execute_result"
    }
   ],
   "source": [
    "learn.opt.param_groups"
   ]
  },
  {
   "cell_type": "code",
   "execution_count": 43,
   "metadata": {},
   "outputs": [
    {
     "name": "stdout",
     "output_type": "stream",
     "text": [
      "Metrics:\n",
      "<function accuracy at 0x7fdd682abf28>\n",
      "Metrics:\n",
      "<function accuracy at 0x7fdd682abf28>\n",
      "train: [0.0655296923828125, tensor(0.9788)]\n",
      "valid: [0.1013311767578125, tensor(0.9721)]\n",
      "train: [0.058111953125, tensor(0.9812)]\n",
      "valid: [0.35156630859375, tensor(0.9118)]\n"
     ]
    }
   ],
   "source": [
    "# Recorder class - \n",
    "class Recorder(Callback):\n",
    "    def begin_fit(self): self.lrs,self.losses = [],[]\n",
    "\n",
    "    def after_batch(self):\n",
    "        if not self.in_train: return\n",
    "        self.lrs.append(self.opt.param_groups[-1]['lr'])\n",
    "        self.losses.append(self.loss.detach().cpu())        \n",
    "\n",
    "    def plot_lr  (self): plt.plot(self.lrs)\n",
    "    def plot_loss(self): plt.plot(self.losses)\n",
    "        \n",
    "rcd_cbf = Recorder\n",
    "\n",
    "run = Runner(cb_funcs=[acc_cbf, Recorder])\n",
    "run.fit(2, learn)\n"
   ]
  },
  {
   "cell_type": "code",
   "execution_count": 47,
   "metadata": {},
   "outputs": [],
   "source": [
    "run.learn"
   ]
  },
  {
   "cell_type": "code",
   "execution_count": null,
   "metadata": {},
   "outputs": [],
   "source": []
  }
 ],
 "metadata": {
  "kernelspec": {
   "display_name": "Python 3",
   "language": "python",
   "name": "python3"
  },
  "language_info": {
   "codemirror_mode": {
    "name": "ipython",
    "version": 3
   },
   "file_extension": ".py",
   "mimetype": "text/x-python",
   "name": "python",
   "nbconvert_exporter": "python",
   "pygments_lexer": "ipython3",
   "version": "3.7.3"
  }
 },
 "nbformat": 4,
 "nbformat_minor": 2
}
