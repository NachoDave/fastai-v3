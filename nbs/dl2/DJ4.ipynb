{
 "cells": [
  {
   "cell_type": "code",
   "execution_count": null,
   "metadata": {},
   "outputs": [],
   "source": [
    "# Databunch class - stores the training and validation data as well as the number of output activations\n",
    "# has methods to return the training and valiation data sets (data bunches and learners are wrappers)\n",
    "\n",
    "\n",
    "\n",
    "\n",
    "\n",
    "\n",
    "# getModel function - returns the model, the optimiser and the learning rate\n",
    "\n",
    "\n",
    "\n",
    "\n",
    "# Learner - no logic, just stores the model, optimiser,loss func and the data\n",
    "# so that it can be given to the fit function (which contains the training loop) \n",
    "# def __init__(self, model, opt, loss_func, data):"
   ]
  }
 ],
 "metadata": {
  "kernelspec": {
   "display_name": "Python 3",
   "language": "python",
   "name": "python3"
  },
  "language_info": {
   "codemirror_mode": {
    "name": "ipython",
    "version": 3
   },
   "file_extension": ".py",
   "mimetype": "text/x-python",
   "name": "python",
   "nbconvert_exporter": "python",
   "pygments_lexer": "ipython3",
   "version": "3.7.3"
  }
 },
 "nbformat": 4,
 "nbformat_minor": 2
}
