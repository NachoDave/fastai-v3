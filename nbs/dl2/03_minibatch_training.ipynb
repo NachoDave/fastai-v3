{
 "cells": [
  {
   "cell_type": "code",
   "execution_count": 1,
   "metadata": {},
   "outputs": [],
   "source": [
    "%load_ext autoreload\n",
    "%autoreload 2\n",
    "\n",
    "%matplotlib inline"
   ]
  },
  {
   "cell_type": "code",
   "execution_count": 2,
   "metadata": {},
   "outputs": [],
   "source": [
    "#export\n",
    "from exp.nb_02 import *\n",
    "import torch.nn.functional as F # all nn functions"
   ]
  },
  {
   "cell_type": "markdown",
   "metadata": {},
   "source": [
    "## Initial setup"
   ]
  },
  {
   "cell_type": "markdown",
   "metadata": {},
   "source": [
    "### Data"
   ]
  },
  {
   "cell_type": "markdown",
   "metadata": {},
   "source": [
    "[Jump_to lesson 9 video](https://course.fast.ai/videos/?lesson=9&t=1786)"
   ]
  },
  {
   "cell_type": "code",
   "execution_count": 3,
   "metadata": {},
   "outputs": [],
   "source": [
    "mpl.rcParams['image.cmap'] = 'gray'"
   ]
  },
  {
   "cell_type": "code",
   "execution_count": 4,
   "metadata": {},
   "outputs": [],
   "source": [
    "x_train,y_train,x_valid,y_valid = get_data()"
   ]
  },
  {
   "cell_type": "code",
   "execution_count": 5,
   "metadata": {},
   "outputs": [
    {
     "data": {
      "text/plain": [
       "(int, torch.Tensor)"
      ]
     },
     "execution_count": 5,
     "metadata": {},
     "output_type": "execute_result"
    }
   ],
   "source": [
    "n,m = x_train.shape\n",
    "c = y_train.max()+1\n",
    "nh = 50\n",
    "type(n), type(x_train)"
   ]
  },
  {
   "cell_type": "code",
   "execution_count": 6,
   "metadata": {},
   "outputs": [],
   "source": [
    "class Model(nn.Module):\n",
    "    def __init__(self, n_in, nh, n_out):\n",
    "        super().__init__()\n",
    "        self.layers = [nn.Linear(n_in,nh), nn.ReLU(), nn.Linear(nh,n_out)]\n",
    "        \n",
    "    def __call__(self, x):\n",
    "        for l in self.layers: x = l(x)\n",
    "        return x"
   ]
  },
  {
   "cell_type": "code",
   "execution_count": 7,
   "metadata": {},
   "outputs": [],
   "source": [
    "model = Model(m, nh, 10)"
   ]
  },
  {
   "cell_type": "code",
   "execution_count": 8,
   "metadata": {},
   "outputs": [
    {
     "data": {
      "text/plain": [
       "(torch.Size([50000, 10]), torch.Size([50000]), tensor(0), tensor(9))"
      ]
     },
     "execution_count": 8,
     "metadata": {},
     "output_type": "execute_result"
    }
   ],
   "source": [
    "pred = model(x_train)\n",
    "pred[:30, :]\n",
    "\n",
    "pred.shape, y_train.shape, y_train.min(), y_train.max() # y_train - 1 result for each input, \n",
    "#output of final hidden layer contains a node for each result and possible output value"
   ]
  },
  {
   "cell_type": "markdown",
   "metadata": {},
   "source": [
    "### Cross entropy loss"
   ]
  },
  {
   "cell_type": "markdown",
   "metadata": {},
   "source": [
    "First, we will need to compute the softmax of our activations. This is defined by:\n",
    "\n",
    "$$\\hbox{softmax(x)}_{i} = \\frac{e^{x_{i}}}{e^{x_{0}} + e^{x_{1}} + \\cdots + e^{x_{n-1}}}$$\n",
    "\n",
    "or more concisely:\n",
    "\n",
    "$$\\hbox{softmax(x)}_{i} = \\frac{e^{x_{i}}}{\\sum_{0 \\leq j \\leq n-1} e^{x_{j}}}$$ \n",
    "\n",
    "In practice, we will need the log of the softmax when we calculate the loss."
   ]
  },
  {
   "cell_type": "code",
   "execution_count": 9,
   "metadata": {},
   "outputs": [],
   "source": [
    "def log_softmax(x): return (x.exp()/(x.exp().sum(-1,keepdim=True))).log()\n",
    "# each softmax < 1, log < 1 gives -ve number, perfect prediction will go to 0"
   ]
  },
  {
   "cell_type": "code",
   "execution_count": 10,
   "metadata": {},
   "outputs": [
    {
     "data": {
      "text/plain": [
       "(tensor([-2.3307, -2.3505, -2.2193, -2.4758, -2.2904, -2.2250, -2.3392, -2.1800,\n",
       "         -2.3221, -2.3242], grad_fn=<SliceBackward>),\n",
       " torch.Size([50000, 10]),\n",
       " tensor(-2.7475, grad_fn=<MinBackward1>),\n",
       " tensor(-0.4694, grad_fn=<MinBackward1>),\n",
       " tensor(0.3169, grad_fn=<MaxBackward1>))"
      ]
     },
     "execution_count": 10,
     "metadata": {},
     "output_type": "execute_result"
    }
   ],
   "source": [
    "sm_pred = log_softmax(pred)\n",
    "sm_pred[0,:], sm_pred.shape , sm_pred.min(), pred.min(), pred. max()"
   ]
  },
  {
   "cell_type": "markdown",
   "metadata": {},
   "source": [
    "The cross entropy loss for some target $x$ and some prediction $p(x)$ is given by:\n",
    "\n",
    "$$ -\\sum x\\, \\log p(x) $$\n",
    "\n",
    "But since our $x$s are 1-hot encoded, this can be rewritten as $-\\log(p_{i})$ where i is the index of the desired target."
   ]
  },
  {
   "cell_type": "markdown",
   "metadata": {},
   "source": [
    "This can be done using numpy-style [integer array indexing](https://docs.scipy.org/doc/numpy-1.13.0/reference/arrays.indexing.html#integer-array-indexing). Note that PyTorch supports all the tricks in the advanced indexing methods discussed in that link."
   ]
  },
  {
   "cell_type": "code",
   "execution_count": 11,
   "metadata": {},
   "outputs": [
    {
     "data": {
      "text/plain": [
       "(tensor([5, 0, 4]), torch.Size([50000]))"
      ]
     },
     "execution_count": 11,
     "metadata": {},
     "output_type": "execute_result"
    }
   ],
   "source": [
    "y_train[:3], y_train.shape # get the trainig set"
   ]
  },
  {
   "cell_type": "code",
   "execution_count": 12,
   "metadata": {},
   "outputs": [
    {
     "data": {
      "text/plain": [
       "(torch.Size([50000, 10]),\n",
       " tensor(-2.2586, grad_fn=<MeanBackward0>),\n",
       " tensor([[-2.3307, -2.3505, -2.2193, -2.4758, -2.2904, -2.2250, -2.3392, -2.1800,\n",
       "          -2.3221, -2.3242],\n",
       "         [-2.3387, -2.4016, -2.1755, -2.4922, -2.2707, -2.2662, -2.2443, -2.2284,\n",
       "          -2.2842, -2.3624],\n",
       "         [-2.2067, -2.4184, -2.2629, -2.4175, -2.2120, -2.2198, -2.3614, -2.2327,\n",
       "          -2.3657, -2.3627]], grad_fn=<IndexBackward>))"
      ]
     },
     "execution_count": 12,
     "metadata": {},
     "output_type": "execute_result"
    }
   ],
   "source": [
    "sm_pred.shape,sm_pred[[0,1,2], [5,0,4]].mean(), sm_pred[[0, 1, 2]]"
   ]
  },
  {
   "cell_type": "code",
   "execution_count": 13,
   "metadata": {},
   "outputs": [
    {
     "data": {
      "text/plain": [
       "50000"
      ]
     },
     "execution_count": 13,
     "metadata": {},
     "output_type": "execute_result"
    }
   ],
   "source": [
    "y_train.shape[0]"
   ]
  },
  {
   "cell_type": "markdown",
   "metadata": {},
   "source": [
    "[Jump_to lesson 9 video](https://course.fast.ai/videos/?lesson=9&t=2081)"
   ]
  },
  {
   "cell_type": "code",
   "execution_count": 14,
   "metadata": {},
   "outputs": [],
   "source": [
    "def nll(input, target): return -input[range(target.shape[0]), target].mean() # negative log likeihood\n",
    "# input - this is the output of the last layer\n",
    "# target - this is y_train - using indexing "
   ]
  },
  {
   "cell_type": "code",
   "execution_count": 15,
   "metadata": {},
   "outputs": [],
   "source": [
    "loss = nll(sm_pred, y_train) # put softmax result in here"
   ]
  },
  {
   "cell_type": "code",
   "execution_count": 16,
   "metadata": {},
   "outputs": [
    {
     "data": {
      "text/plain": [
       "tensor(2.3126, grad_fn=<NegBackward>)"
      ]
     },
     "execution_count": 16,
     "metadata": {},
     "output_type": "execute_result"
    }
   ],
   "source": [
    "loss"
   ]
  },
  {
   "cell_type": "markdown",
   "metadata": {},
   "source": [
    "Note that the formula \n",
    "\n",
    "$$\\log \\left ( \\frac{a}{b} \\right ) = \\log(a) - \\log(b)$$ \n",
    "\n",
    "gives a simplification when we compute the log softmax, which was previously defined as `(x.exp()/(x.exp().sum(-1,keepdim=True))).log()`"
   ]
  },
  {
   "cell_type": "code",
   "execution_count": 17,
   "metadata": {},
   "outputs": [],
   "source": [
    "def log_softmax(x): return x - x.exp().sum(-1,keepdim=True).log() # simplify softmax"
   ]
  },
  {
   "cell_type": "code",
   "execution_count": 18,
   "metadata": {},
   "outputs": [],
   "source": [
    "test_near(nll(log_softmax(pred), y_train), loss)"
   ]
  },
  {
   "cell_type": "markdown",
   "metadata": {},
   "source": [
    "Then, there is a way to compute the log of the sum of exponentials in a more stable way, called the [LogSumExp trick](https://en.wikipedia.org/wiki/LogSumExp). The idea is to use the following formula:\n",
    "\n",
    "$$\\log \\left ( \\sum_{j=1}^{n} e^{x_{j}} \\right ) = \\log \\left ( e^{a} \\sum_{j=1}^{n} e^{x_{j}-a} \\right ) = a + \\log \\left ( \\sum_{j=1}^{n} e^{x_{j}-a} \\right )$$\n",
    "\n",
    "where a is the maximum of the $x_{j}$."
   ]
  },
  {
   "cell_type": "code",
   "execution_count": 19,
   "metadata": {},
   "outputs": [],
   "source": [
    "def logsumexp(x):\n",
    "    m = x.max(-1)[0]\n",
    "    return m + (x-m[:,None]).exp().sum(-1).log() # avoid overflow"
   ]
  },
  {
   "cell_type": "markdown",
   "metadata": {},
   "source": [
    "This way, we will avoid an overflow when taking the exponential of a big activation. In PyTorch, this is already implemented for us. "
   ]
  },
  {
   "cell_type": "code",
   "execution_count": 20,
   "metadata": {},
   "outputs": [
    {
     "data": {
      "text/plain": [
       "(tensor([2.2646, 2.2751, 2.2912,  ..., 2.2707, 2.2909, 2.2689],\n",
       "        grad_fn=<AddBackward0>),\n",
       " tensor([2.2646, 2.2751, 2.2912,  ..., 2.2707, 2.2909, 2.2689],\n",
       "        grad_fn=<LogsumexpBackward>))"
      ]
     },
     "execution_count": 20,
     "metadata": {},
     "output_type": "execute_result"
    }
   ],
   "source": [
    "test_near(logsumexp(pred), pred.logsumexp(-1))\n",
    "logsumexp(pred), pred.logsumexp(-1)"
   ]
  },
  {
   "cell_type": "markdown",
   "metadata": {},
   "source": [
    "So we can use it for our `log_softmax` function."
   ]
  },
  {
   "cell_type": "code",
   "execution_count": 21,
   "metadata": {},
   "outputs": [],
   "source": [
    "def log_softmax(x): return x - x.logsumexp(-1,keepdim=True)"
   ]
  },
  {
   "cell_type": "code",
   "execution_count": 22,
   "metadata": {},
   "outputs": [],
   "source": [
    "test_near(nll(log_softmax(pred), y_train), loss)"
   ]
  },
  {
   "cell_type": "markdown",
   "metadata": {},
   "source": [
    "Then use PyTorch's implementation."
   ]
  },
  {
   "cell_type": "code",
   "execution_count": 23,
   "metadata": {},
   "outputs": [],
   "source": [
    "test_near(F.nll_loss(F.log_softmax(pred, -1), y_train), loss)"
   ]
  },
  {
   "cell_type": "markdown",
   "metadata": {},
   "source": [
    "In PyTorch, `F.log_softmax` and `F.nll_loss` are combined in one optimized function, `F.cross_entropy`."
   ]
  },
  {
   "cell_type": "code",
   "execution_count": 24,
   "metadata": {},
   "outputs": [],
   "source": [
    "test_near(F.cross_entropy(pred, y_train), loss) # nnl loss of softmax is cross entropy"
   ]
  },
  {
   "cell_type": "markdown",
   "metadata": {},
   "source": [
    "## Basic training loop"
   ]
  },
  {
   "cell_type": "markdown",
   "metadata": {},
   "source": [
    "Basically the training loop repeats over the following steps:\n",
    "- get the output of the model on a batch of inputs\n",
    "- compare the output to the labels we have and compute a loss\n",
    "- calculate the gradients of the loss with respect to every parameter of the model\n",
    "- update said parameters with those gradients to make them a little bit better"
   ]
  },
  {
   "cell_type": "markdown",
   "metadata": {},
   "source": [
    "[Jump_to lesson 9 video](https://course.fast.ai/videos/?lesson=9&t=2542)"
   ]
  },
  {
   "cell_type": "code",
   "execution_count": 25,
   "metadata": {},
   "outputs": [],
   "source": [
    "loss_func = F.cross_entropy"
   ]
  },
  {
   "cell_type": "code",
   "execution_count": 26,
   "metadata": {},
   "outputs": [],
   "source": [
    "#export\n",
    "def accuracy(out, yb): return (torch.argmax(out, dim=1)==yb).float().mean()"
   ]
  },
  {
   "cell_type": "code",
   "execution_count": 27,
   "metadata": {},
   "outputs": [
    {
     "data": {
      "text/plain": [
       "(tensor([-0.0661, -0.0859,  0.0452, -0.2112, -0.0258,  0.0396, -0.0746,  0.0846,\n",
       "         -0.0575, -0.0597], grad_fn=<SelectBackward>),\n",
       " torch.Size([64, 10]),\n",
       " torch.Size([64, 784]))"
      ]
     },
     "execution_count": 27,
     "metadata": {},
     "output_type": "execute_result"
    }
   ],
   "source": [
    "bs=64                  # batch size\n",
    "\n",
    "xb = x_train[0:bs]     # a mini-batch from x\n",
    "preds = model(xb)      # predictions\n",
    "preds[0], preds.shape, x_train[0:bs].shape"
   ]
  },
  {
   "cell_type": "code",
   "execution_count": 28,
   "metadata": {},
   "outputs": [
    {
     "data": {
      "text/plain": [
       "(tensor(2.3251, grad_fn=<NllLossBackward>),\n",
       " tensor([7, 2, 0, 2, 2, 7, 7, 7, 7, 7, 7, 2, 2, 4, 7, 7, 8, 5, 2, 7, 0, 2, 7, 2,\n",
       "         2, 4, 7, 4, 6, 2, 2, 7, 2, 7, 2, 2, 0, 2, 2, 2, 7, 2, 2, 7, 2, 7, 5, 7,\n",
       "         2, 7, 2, 5, 2, 2, 7, 7, 2, 7, 0, 7, 2, 2, 0, 5]),\n",
       " tensor([5, 0, 4, 1, 9, 2, 1, 3, 1, 4, 3, 5, 3, 6, 1, 7, 2, 8, 6, 9, 4, 0, 9, 1,\n",
       "         1, 2, 4, 3, 2, 7, 3, 8, 6, 9, 0, 5, 6, 0, 7, 6, 1, 8, 7, 9, 3, 9, 8, 5,\n",
       "         9, 3, 3, 0, 7, 4, 9, 8, 0, 9, 4, 1, 4, 4, 6, 0]))"
      ]
     },
     "execution_count": 28,
     "metadata": {},
     "output_type": "execute_result"
    }
   ],
   "source": [
    "yb = y_train[0:bs]\n",
    "x = loss_func(preds,yb)\n",
    "\n",
    "loss_func(preds, yb), torch.argmax(preds, dim = 1), yb,\n"
   ]
  },
  {
   "cell_type": "code",
   "execution_count": 29,
   "metadata": {},
   "outputs": [
    {
     "data": {
      "text/plain": [
       "tensor(0.0156)"
      ]
     },
     "execution_count": 29,
     "metadata": {},
     "output_type": "execute_result"
    }
   ],
   "source": [
    "accuracy(preds, yb)"
   ]
  },
  {
   "cell_type": "code",
   "execution_count": 30,
   "metadata": {},
   "outputs": [
    {
     "data": {
      "text/plain": [
       "(range(0, 782), 49999, 781)"
      ]
     },
     "execution_count": 30,
     "metadata": {},
     "output_type": "execute_result"
    }
   ],
   "source": [
    "lr = 0.5   # learning rate\n",
    "epochs = 1 # how many epochs to train for\n",
    "range((n-1)//bs + 1), n-1, n//bs"
   ]
  },
  {
   "cell_type": "code",
   "execution_count": 31,
   "metadata": {},
   "outputs": [],
   "source": [
    "for epoch in range(epochs):\n",
    "    for i in range((n-1)//bs + 1):\n",
    "#         set_trace()\n",
    "        start_i = i*bs\n",
    "        end_i = start_i+bs\n",
    "        xb = x_train[start_i:end_i]\n",
    "        yb = y_train[start_i:end_i]\n",
    "        loss = loss_func(model(xb), yb)\n",
    "\n",
    "        loss.backward() # I think backward performs chain rule, i.e. calulates the gradients from the loss function\n",
    "        with torch.no_grad(): # don't worry about updating the gradients\n",
    "            for l in model.layers: # loop through layers \n",
    "                if hasattr(l, 'weight'):\n",
    "                    l.weight -= l.weight.grad * lr # update weights\n",
    "                    l.bias   -= l.bias.grad   * lr # update bias\n",
    "                    l.weight.grad.zero_() # zero the gradients\n",
    "                    l.bias  .grad.zero_() # zero the gradients"
   ]
  },
  {
   "cell_type": "code",
   "execution_count": 32,
   "metadata": {},
   "outputs": [
    {
     "data": {
      "text/plain": [
       "Parameter containing:\n",
       "tensor([[ 0.0250, -0.0252,  0.0090,  ...,  0.0188, -0.0212,  0.0057],\n",
       "        [-0.0008,  0.0130,  0.0026,  ..., -0.0185,  0.0179, -0.0183],\n",
       "        [ 0.0097,  0.0226,  0.0072,  ..., -0.0158,  0.0185,  0.0341],\n",
       "        ...,\n",
       "        [ 0.0240,  0.0208, -0.0208,  ..., -0.0253,  0.0314, -0.0280],\n",
       "        [ 0.0195, -0.0152,  0.0119,  ..., -0.0175,  0.0213, -0.0180],\n",
       "        [ 0.0087, -0.0305, -0.0054,  ...,  0.0140,  0.0125, -0.0159]],\n",
       "       requires_grad=True)"
      ]
     },
     "execution_count": 32,
     "metadata": {},
     "output_type": "execute_result"
    }
   ],
   "source": [
    "loss_func(model(xb), yb), accuracy(model(xb), yb), yb, torch.argmax(model(xb), dim = 1)\n",
    "\n",
    "model.layers[0].weight\n"
   ]
  },
  {
   "cell_type": "markdown",
   "metadata": {},
   "source": [
    "## Using parameters and optim"
   ]
  },
  {
   "cell_type": "markdown",
   "metadata": {},
   "source": [
    "### Parameters"
   ]
  },
  {
   "cell_type": "markdown",
   "metadata": {},
   "source": [
    "Use `nn.Module.__setattr__` and move relu to functional:"
   ]
  },
  {
   "cell_type": "markdown",
   "metadata": {},
   "source": [
    "[Jump_to lesson 9 video](https://course.fast.ai/videos/?lesson=9&t=2818)"
   ]
  },
  {
   "cell_type": "code",
   "execution_count": 33,
   "metadata": {},
   "outputs": [],
   "source": [
    "class Model(nn.Module):\n",
    "    def __init__(self, n_in, nh, n_out):\n",
    "        super().__init__()\n",
    "        self.l1 = nn.Linear(n_in,nh)\n",
    "        self.l2 = nn.Linear(nh,n_out)\n",
    "        \n",
    "    def __call__(self, x): return self.l2(F.relu(self.l1(x)))"
   ]
  },
  {
   "cell_type": "code",
   "execution_count": 34,
   "metadata": {},
   "outputs": [],
   "source": [
    "model = Model(m, nh, 10)"
   ]
  },
  {
   "cell_type": "code",
   "execution_count": 35,
   "metadata": {},
   "outputs": [
    {
     "name": "stdout",
     "output_type": "stream",
     "text": [
      "l1: Linear(in_features=784, out_features=50, bias=True)\n",
      "l2: Linear(in_features=50, out_features=10, bias=True)\n"
     ]
    }
   ],
   "source": [
    "for name,l in model.named_children(): print(f\"{name}: {l}\")"
   ]
  },
  {
   "cell_type": "code",
   "execution_count": 36,
   "metadata": {},
   "outputs": [
    {
     "data": {
      "text/plain": [
       "Model(\n",
       "  (l1): Linear(in_features=784, out_features=50, bias=True)\n",
       "  (l2): Linear(in_features=50, out_features=10, bias=True)\n",
       ")"
      ]
     },
     "execution_count": 36,
     "metadata": {},
     "output_type": "execute_result"
    }
   ],
   "source": [
    "model"
   ]
  },
  {
   "cell_type": "code",
   "execution_count": 37,
   "metadata": {},
   "outputs": [
    {
     "data": {
      "text/plain": [
       "Linear(in_features=784, out_features=50, bias=True)"
      ]
     },
     "execution_count": 37,
     "metadata": {},
     "output_type": "execute_result"
    }
   ],
   "source": [
    "model.l1"
   ]
  },
  {
   "cell_type": "code",
   "execution_count": 38,
   "metadata": {},
   "outputs": [],
   "source": [
    "def fit():\n",
    "    for epoch in range(epochs):\n",
    "        for i in range((n-1)//bs + 1):\n",
    "            start_i = i*bs\n",
    "            end_i = start_i+bs\n",
    "            xb = x_train[start_i:end_i]\n",
    "            yb = y_train[start_i:end_i]\n",
    "            loss = loss_func(model(xb), yb)\n",
    "\n",
    "            loss.backward()\n",
    "            with torch.no_grad():\n",
    "                for p in model.parameters(): p -= p.grad * lr\n",
    "                model.zero_grad()"
   ]
  },
  {
   "cell_type": "code",
   "execution_count": 39,
   "metadata": {},
   "outputs": [
    {
     "data": {
      "text/plain": [
       "(tensor(0.2035, grad_fn=<NllLossBackward>), tensor(0.9375))"
      ]
     },
     "execution_count": 39,
     "metadata": {},
     "output_type": "execute_result"
    }
   ],
   "source": [
    "fit()\n",
    "loss_func(model(xb), yb), accuracy(model(xb), yb)"
   ]
  },
  {
   "cell_type": "markdown",
   "metadata": {},
   "source": [
    "Behind the scenes, PyTorch overrides the `__setattr__` function in `nn.Module` so that the submodules you define are properly registered as parameters of the model."
   ]
  },
  {
   "cell_type": "code",
   "execution_count": 40,
   "metadata": {},
   "outputs": [
    {
     "data": {
      "text/plain": [
       "('HELLO', 1)"
      ]
     },
     "execution_count": 40,
     "metadata": {},
     "output_type": "execute_result"
    }
   ],
   "source": [
    "class boom:\n",
    "    pass\n",
    "\n",
    "f = boom()\n",
    "f.vv = 1\n",
    "#g = boom()\n",
    "#g.vv\n",
    "\n",
    "\n",
    "class Frob:\n",
    "    def __setattr__(self, name, value):\n",
    "        self.__dict__[name] = value.upper()\n",
    "        \n",
    "ff = Frob()\n",
    "ff.xx = \"hello\"\n",
    "ff.xx, f.vv\n"
   ]
  },
  {
   "cell_type": "code",
   "execution_count": 41,
   "metadata": {},
   "outputs": [],
   "source": [
    "class DummyModule():\n",
    "    def __init__(self, n_in, nh, n_out):\n",
    "        self._modules = {} # empty dictinoary of modules\n",
    "        self.l1 = nn.Linear(n_in,nh)\n",
    "        self.l2 = nn.Linear(nh,n_out)\n",
    "        \n",
    "    def __setattr__(self,k,v):\n",
    "        if not k.startswith(\"_\"): self._modules[k] = v # don't want to start with _\n",
    "        super().__setattr__(k,v) # do what the super class does\n",
    "        \n",
    "    def __repr__(self): return f'{self._modules}' # this prints the representation when the class name is called\n",
    "    \n",
    "    def parameters(self):\n",
    "        for l in self._modules.values():\n",
    "            for p in l.parameters(): yield p"
   ]
  },
  {
   "cell_type": "code",
   "execution_count": 42,
   "metadata": {},
   "outputs": [
    {
     "data": {
      "text/plain": [
       "({'l1': Linear(in_features=784, out_features=50, bias=True), 'l2': Linear(in_features=50, out_features=10, bias=True)},\n",
       " <generator object DummyModule.parameters at 0x7fc6a8a82a98>)"
      ]
     },
     "execution_count": 42,
     "metadata": {},
     "output_type": "execute_result"
    }
   ],
   "source": [
    "mdl = DummyModule(m,nh,10)\n",
    "mdl, mdl.parameters()"
   ]
  },
  {
   "cell_type": "code",
   "execution_count": 43,
   "metadata": {},
   "outputs": [
    {
     "data": {
      "text/plain": [
       "[torch.Size([50, 784]),\n",
       " torch.Size([50]),\n",
       " torch.Size([10, 50]),\n",
       " torch.Size([10])]"
      ]
     },
     "execution_count": 43,
     "metadata": {},
     "output_type": "execute_result"
    }
   ],
   "source": [
    "[o.shape for o in mdl.parameters()]"
   ]
  },
  {
   "cell_type": "markdown",
   "metadata": {},
   "source": [
    "### Registering modules"
   ]
  },
  {
   "cell_type": "markdown",
   "metadata": {},
   "source": [
    "We can use the original `layers` approach, but we have to register the modules."
   ]
  },
  {
   "cell_type": "markdown",
   "metadata": {},
   "source": [
    "[Jump_to lesson 9 video](https://course.fast.ai/videos/?lesson=9&t=2997)"
   ]
  },
  {
   "cell_type": "code",
   "execution_count": 44,
   "metadata": {},
   "outputs": [],
   "source": [
    "layers = [nn.Linear(m,nh), nn.ReLU(), nn.Linear(nh,10)]"
   ]
  },
  {
   "cell_type": "code",
   "execution_count": 45,
   "metadata": {},
   "outputs": [],
   "source": [
    "class Model(nn.Module):\n",
    "    def __init__(self, layers):\n",
    "        super().__init__()\n",
    "        self.layers = layers\n",
    "        for i,l in enumerate(self.layers): self.add_module(f'layer_{i}', l)\n",
    "        \n",
    "    def __call__(self, x):\n",
    "        for l in self.layers: x = l(x)\n",
    "        return x"
   ]
  },
  {
   "cell_type": "code",
   "execution_count": 46,
   "metadata": {},
   "outputs": [],
   "source": [
    "model = Model(layers)"
   ]
  },
  {
   "cell_type": "code",
   "execution_count": 47,
   "metadata": {},
   "outputs": [
    {
     "data": {
      "text/plain": [
       "Model(\n",
       "  (layer_0): Linear(in_features=784, out_features=50, bias=True)\n",
       "  (layer_1): ReLU()\n",
       "  (layer_2): Linear(in_features=50, out_features=10, bias=True)\n",
       ")"
      ]
     },
     "execution_count": 47,
     "metadata": {},
     "output_type": "execute_result"
    }
   ],
   "source": [
    "model"
   ]
  },
  {
   "cell_type": "markdown",
   "metadata": {},
   "source": [
    "### nn.ModuleList"
   ]
  },
  {
   "cell_type": "markdown",
   "metadata": {},
   "source": [
    "`nn.ModuleList` does this for us."
   ]
  },
  {
   "cell_type": "markdown",
   "metadata": {},
   "source": [
    "[Jump_to lesson 9 video](https://course.fast.ai/videos/?lesson=9&t=3173)"
   ]
  },
  {
   "cell_type": "code",
   "execution_count": 48,
   "metadata": {},
   "outputs": [],
   "source": [
    "class SequentialModel(nn.Module):\n",
    "    def __init__(self, layers):\n",
    "        super().__init__()\n",
    "        self.layers = nn.ModuleList(layers)\n",
    "        \n",
    "    def __call__(self, x):\n",
    "        for l in self.layers: x = l(x)\n",
    "        return x"
   ]
  },
  {
   "cell_type": "code",
   "execution_count": 49,
   "metadata": {},
   "outputs": [],
   "source": [
    "model = SequentialModel(layers)"
   ]
  },
  {
   "cell_type": "code",
   "execution_count": 50,
   "metadata": {},
   "outputs": [
    {
     "data": {
      "text/plain": [
       "SequentialModel(\n",
       "  (layers): ModuleList(\n",
       "    (0): Linear(in_features=784, out_features=50, bias=True)\n",
       "    (1): ReLU()\n",
       "    (2): Linear(in_features=50, out_features=10, bias=True)\n",
       "  )\n",
       ")"
      ]
     },
     "execution_count": 50,
     "metadata": {},
     "output_type": "execute_result"
    }
   ],
   "source": [
    "model"
   ]
  },
  {
   "cell_type": "code",
   "execution_count": 51,
   "metadata": {},
   "outputs": [
    {
     "data": {
      "text/plain": [
       "(tensor(0.0710, grad_fn=<NllLossBackward>), tensor(1.))"
      ]
     },
     "execution_count": 51,
     "metadata": {},
     "output_type": "execute_result"
    }
   ],
   "source": [
    "fit()\n",
    "loss_func(model(xb), yb), accuracy(model(xb), yb)"
   ]
  },
  {
   "cell_type": "markdown",
   "metadata": {},
   "source": [
    "### nn.Sequential"
   ]
  },
  {
   "cell_type": "markdown",
   "metadata": {},
   "source": [
    "`nn.Sequential` is a convenient class which does the same as the above:"
   ]
  },
  {
   "cell_type": "markdown",
   "metadata": {},
   "source": [
    "[Jump_to lesson 9 video](https://course.fast.ai/videos/?lesson=9&t=3199)"
   ]
  },
  {
   "cell_type": "code",
   "execution_count": 52,
   "metadata": {},
   "outputs": [],
   "source": [
    "model = nn.Sequential(nn.Linear(m,nh), nn.ReLU(), nn.Linear(nh,10))"
   ]
  },
  {
   "cell_type": "code",
   "execution_count": 53,
   "metadata": {},
   "outputs": [
    {
     "data": {
      "text/plain": [
       "(tensor(0.1165, grad_fn=<NllLossBackward>), tensor(0.9375))"
      ]
     },
     "execution_count": 53,
     "metadata": {},
     "output_type": "execute_result"
    }
   ],
   "source": [
    "fit()\n",
    "loss_func(model(xb), yb), accuracy(model(xb), yb)"
   ]
  },
  {
   "cell_type": "code",
   "execution_count": 54,
   "metadata": {},
   "outputs": [],
   "source": [
    "nn.Sequential??"
   ]
  },
  {
   "cell_type": "code",
   "execution_count": 55,
   "metadata": {},
   "outputs": [
    {
     "data": {
      "text/plain": [
       "Sequential(\n",
       "  (0): Linear(in_features=784, out_features=50, bias=True)\n",
       "  (1): ReLU()\n",
       "  (2): Linear(in_features=50, out_features=10, bias=True)\n",
       ")"
      ]
     },
     "execution_count": 55,
     "metadata": {},
     "output_type": "execute_result"
    }
   ],
   "source": [
    "model"
   ]
  },
  {
   "cell_type": "markdown",
   "metadata": {},
   "source": [
    "### optim"
   ]
  },
  {
   "cell_type": "markdown",
   "metadata": {},
   "source": [
    "Let's replace our previous manually coded optimization step:\n",
    "\n",
    "```python\n",
    "with torch.no_grad():\n",
    "    for p in model.parameters(): p -= p.grad * lr\n",
    "    model.zero_grad()\n",
    "```\n",
    "\n",
    "and instead use just:\n",
    "\n",
    "```python\n",
    "opt.step()\n",
    "opt.zero_grad()\n",
    "```"
   ]
  },
  {
   "cell_type": "markdown",
   "metadata": {},
   "source": [
    "[Jump_to lesson 9 video](https://course.fast.ai/videos/?lesson=9&t=3278)"
   ]
  },
  {
   "cell_type": "code",
   "execution_count": 56,
   "metadata": {},
   "outputs": [],
   "source": [
    "class Optimizer():\n",
    "    def __init__(self, params, lr=0.5): self.params,self.lr=list(params),lr\n",
    "        \n",
    "    def step(self):\n",
    "        with torch.no_grad():\n",
    "            for p in self.params: p -= p.grad * lr\n",
    "\n",
    "    def zero_grad(self):\n",
    "        for p in self.params: p.grad.data.zero_()"
   ]
  },
  {
   "cell_type": "code",
   "execution_count": 57,
   "metadata": {},
   "outputs": [],
   "source": [
    "model = nn.Sequential(nn.Linear(m,nh), nn.ReLU(), nn.Linear(nh,10))"
   ]
  },
  {
   "cell_type": "code",
   "execution_count": 58,
   "metadata": {},
   "outputs": [],
   "source": [
    "opt = Optimizer(model.parameters())"
   ]
  },
  {
   "cell_type": "code",
   "execution_count": 59,
   "metadata": {},
   "outputs": [],
   "source": [
    "for epoch in range(epochs):\n",
    "    for i in range((n-1)//bs + 1):\n",
    "        start_i = i*bs\n",
    "        end_i = start_i+bs\n",
    "        xb = x_train[start_i:end_i]\n",
    "        yb = y_train[start_i:end_i]\n",
    "        pred = model(xb)\n",
    "        loss = loss_func(pred, yb)\n",
    "\n",
    "        loss.backward()\n",
    "        opt.step()\n",
    "        opt.zero_grad()"
   ]
  },
  {
   "cell_type": "code",
   "execution_count": 60,
   "metadata": {},
   "outputs": [
    {
     "data": {
      "text/plain": [
       "(tensor(0.1059, grad_fn=<NllLossBackward>), tensor(0.9375))"
      ]
     },
     "execution_count": 60,
     "metadata": {},
     "output_type": "execute_result"
    }
   ],
   "source": [
    "loss,acc = loss_func(model(xb), yb), accuracy(model(xb), yb)\n",
    "loss,acc"
   ]
  },
  {
   "cell_type": "markdown",
   "metadata": {},
   "source": [
    "PyTorch already provides this exact functionality in `optim.SGD` (it also handles stuff like momentum, which we'll look at later - except we'll be doing it in a more flexible way!)"
   ]
  },
  {
   "cell_type": "code",
   "execution_count": 61,
   "metadata": {},
   "outputs": [],
   "source": [
    "#export\n",
    "from torch import optim"
   ]
  },
  {
   "cell_type": "code",
   "execution_count": 62,
   "metadata": {},
   "outputs": [],
   "source": [
    "optim.SGD.step??"
   ]
  },
  {
   "cell_type": "code",
   "execution_count": 63,
   "metadata": {},
   "outputs": [],
   "source": [
    "def get_model():\n",
    "    model = nn.Sequential(nn.Linear(m,nh), nn.ReLU(), nn.Linear(nh,10))\n",
    "    return model, optim.SGD(model.parameters(), lr=lr)"
   ]
  },
  {
   "cell_type": "code",
   "execution_count": 64,
   "metadata": {},
   "outputs": [
    {
     "data": {
      "text/plain": [
       "tensor(2.2835, grad_fn=<NllLossBackward>)"
      ]
     },
     "execution_count": 64,
     "metadata": {},
     "output_type": "execute_result"
    }
   ],
   "source": [
    "model,opt = get_model()\n",
    "loss_func(model(xb), yb)"
   ]
  },
  {
   "cell_type": "code",
   "execution_count": 65,
   "metadata": {},
   "outputs": [],
   "source": [
    "for epoch in range(epochs):\n",
    "    for i in range((n-1)//bs + 1):\n",
    "        start_i = i*bs\n",
    "        end_i = start_i+bs\n",
    "        xb = x_train[start_i:end_i]\n",
    "        yb = y_train[start_i:end_i]\n",
    "        pred = model(xb)\n",
    "        loss = loss_func(pred, yb)\n",
    "\n",
    "        loss.backward()\n",
    "        opt.step()\n",
    "        opt.zero_grad()"
   ]
  },
  {
   "cell_type": "code",
   "execution_count": 66,
   "metadata": {},
   "outputs": [
    {
     "data": {
      "text/plain": [
       "(tensor(0.3329, grad_fn=<NllLossBackward>), tensor(0.9375))"
      ]
     },
     "execution_count": 66,
     "metadata": {},
     "output_type": "execute_result"
    }
   ],
   "source": [
    "loss,acc = loss_func(model(xb), yb), accuracy(model(xb), yb)\n",
    "loss,acc"
   ]
  },
  {
   "cell_type": "markdown",
   "metadata": {},
   "source": [
    "Randomized tests can be very useful."
   ]
  },
  {
   "cell_type": "markdown",
   "metadata": {},
   "source": [
    "[Jump_to lesson 9 video](https://course.fast.ai/videos/?lesson=9&t=3442)"
   ]
  },
  {
   "cell_type": "code",
   "execution_count": 67,
   "metadata": {},
   "outputs": [],
   "source": [
    "assert acc>0.7"
   ]
  },
  {
   "cell_type": "markdown",
   "metadata": {},
   "source": [
    "## Dataset and DataLoader"
   ]
  },
  {
   "cell_type": "markdown",
   "metadata": {},
   "source": [
    "### Dataset"
   ]
  },
  {
   "cell_type": "markdown",
   "metadata": {},
   "source": [
    "It's clunky to iterate through minibatches of x and y values separately:\n",
    "\n",
    "```python\n",
    "    xb = x_train[start_i:end_i]\n",
    "    yb = y_train[start_i:end_i]\n",
    "```\n",
    "\n",
    "Instead, let's do these two steps together, by introducing a `Dataset` class:\n",
    "\n",
    "```python\n",
    "    xb,yb = train_ds[i*bs : i*bs+bs]\n",
    "```"
   ]
  },
  {
   "cell_type": "markdown",
   "metadata": {},
   "source": [
    "[Jump_to lesson 9 video](https://course.fast.ai/videos/?lesson=9&t=3578)"
   ]
  },
  {
   "cell_type": "code",
   "execution_count": 68,
   "metadata": {},
   "outputs": [],
   "source": [
    "#export\n",
    "class Dataset():\n",
    "    def __init__(self, x, y): self.x,self.y = x,y\n",
    "    def __len__(self): return len(self.x)\n",
    "    def __getitem__(self, i): return self.x[i],self.y[i]"
   ]
  },
  {
   "cell_type": "code",
   "execution_count": 69,
   "metadata": {},
   "outputs": [],
   "source": [
    "train_ds,valid_ds = Dataset(x_train, y_train),Dataset(x_valid, y_valid)\n",
    "assert len(train_ds)==len(x_train)\n",
    "assert len(valid_ds)==len(x_valid)"
   ]
  },
  {
   "cell_type": "code",
   "execution_count": 70,
   "metadata": {},
   "outputs": [
    {
     "data": {
      "text/plain": [
       "(tensor([[0., 0., 0.,  ..., 0., 0., 0.],\n",
       "         [0., 0., 0.,  ..., 0., 0., 0.],\n",
       "         [0., 0., 0.,  ..., 0., 0., 0.],\n",
       "         [0., 0., 0.,  ..., 0., 0., 0.],\n",
       "         [0., 0., 0.,  ..., 0., 0., 0.]]), tensor([5, 0, 4, 1, 9]))"
      ]
     },
     "execution_count": 70,
     "metadata": {},
     "output_type": "execute_result"
    }
   ],
   "source": [
    "xb,yb = train_ds[0:5]\n",
    "assert xb.shape==(5,28*28)\n",
    "assert yb.shape==(5,)\n",
    "xb,yb"
   ]
  },
  {
   "cell_type": "code",
   "execution_count": 71,
   "metadata": {},
   "outputs": [],
   "source": [
    "model,opt = get_model()"
   ]
  },
  {
   "cell_type": "code",
   "execution_count": 72,
   "metadata": {},
   "outputs": [],
   "source": [
    "for epoch in range(epochs):\n",
    "    for i in range((n-1)//bs + 1):\n",
    "        xb,yb = train_ds[i*bs : i*bs+bs]\n",
    "        pred = model(xb)\n",
    "        loss = loss_func(pred, yb)\n",
    "\n",
    "        loss.backward()\n",
    "        opt.step()\n",
    "        opt.zero_grad()"
   ]
  },
  {
   "cell_type": "code",
   "execution_count": 73,
   "metadata": {},
   "outputs": [
    {
     "data": {
      "text/plain": [
       "(tensor(0.1251, grad_fn=<NllLossBackward>), tensor(0.9375))"
      ]
     },
     "execution_count": 73,
     "metadata": {},
     "output_type": "execute_result"
    }
   ],
   "source": [
    "loss,acc = loss_func(model(xb), yb), accuracy(model(xb), yb)\n",
    "assert acc>0.7\n",
    "loss,acc"
   ]
  },
  {
   "cell_type": "markdown",
   "metadata": {},
   "source": [
    "### DataLoader"
   ]
  },
  {
   "cell_type": "markdown",
   "metadata": {},
   "source": [
    "Previously, our loop iterated over batches (xb, yb) like this:\n",
    "\n",
    "```python\n",
    "for i in range((n-1)//bs + 1):\n",
    "    xb,yb = train_ds[i*bs : i*bs+bs]\n",
    "    ...\n",
    "```\n",
    "\n",
    "Let's make our loop much cleaner, using a data loader:\n",
    "\n",
    "```python\n",
    "for xb,yb in train_dl:\n",
    "    ...\n",
    "```"
   ]
  },
  {
   "cell_type": "markdown",
   "metadata": {},
   "source": [
    "[Jump_to lesson 9 video](https://course.fast.ai/videos/?lesson=9&t=3674)"
   ]
  },
  {
   "cell_type": "code",
   "execution_count": 115,
   "metadata": {},
   "outputs": [],
   "source": [
    "class DataLoader():\n",
    "    def __init__(self, ds, bs): self.ds,self.bs = ds,bs\n",
    "    def __iter__(self):\n",
    "        for i in range(0, len(self.ds), self.bs): yield self.ds[i:i+self.bs]"
   ]
  },
  {
   "cell_type": "code",
   "execution_count": 134,
   "metadata": {},
   "outputs": [
    {
     "name": "stdout",
     "output_type": "stream",
     "text": [
      "tensor([3, 8, 6, 9, 6, 4, 5, 3, 8, 4, 5, 2, 3, 8, 4, 8, 1, 5, 0, 5, 9, 7, 4, 1,\n",
      "        0, 3, 0, 6, 2, 9, 9, 4, 1, 3, 6, 8, 0, 7, 7, 6, 8, 9, 0, 3, 8, 3, 7, 7,\n",
      "        8, 4, 4, 1, 2, 9, 8, 1, 1, 0, 6, 6, 5, 0, 1, 1, 7, 2, 7, 3, 1, 4, 0, 5,\n",
      "        0, 6, 8, 7, 6, 8, 9, 9, 4, 0, 6, 1, 9, 2, 6, 3, 9, 4, 4, 5, 6, 6, 1, 7,\n",
      "        2, 8, 6, 9])\n",
      "1\n",
      "tensor([7, 0, 9, 1, 6, 2, 8, 3, 6, 4, 9, 5, 8, 6, 8, 7, 8, 8, 6, 9, 1, 7, 6, 0,\n",
      "        9, 6, 7, 0, 9, 7, 1, 3, 6, 8, 4, 6, 1, 7, 5, 1, 3, 3, 5, 7, 9, 9, 6, 7,\n",
      "        3, 4, 1, 0, 4, 2, 4, 5, 0, 0, 1, 6, 6, 4, 7, 9, 4, 6, 5, 2, 6, 9, 8, 8,\n",
      "        8, 5, 9, 3, 8, 9, 8, 8, 8, 3, 4, 4, 3, 0, 9, 5, 4, 4, 1, 8, 0, 6, 1, 3,\n",
      "        2, 0, 8, 6])\n",
      "2\n",
      "tensor([0, 3, 5, 4, 9, 0, 3, 1, 0, 9, 3, 2, 3, 3, 3, 7, 4, 9, 2, 1, 6, 2, 1, 5,\n",
      "        7, 1, 9, 7, 9, 2, 2, 8, 1, 7, 7, 0, 0, 1, 8, 9, 0, 6, 6, 4, 7, 9, 8, 2,\n",
      "        9, 1, 5, 2, 5, 3, 7, 7, 0, 0, 8, 2, 3, 1, 3, 5, 1, 3, 6, 4, 8, 7, 6, 2,\n",
      "        8, 1, 8, 6, 6, 8, 7, 5, 6, 0, 4, 8, 4, 9, 3, 2, 3, 6, 2, 0, 1, 1, 6, 2,\n",
      "        5, 3, 0, 4])\n",
      "3\n",
      "tensor([3, 5, 8, 6, 9, 7, 8, 8, 3, 9, 0, 0, 3, 1, 4, 2, 5, 3, 9, 4, 5, 5, 5, 6,\n",
      "        0, 7, 1, 8, 0, 9, 3, 0, 5, 1, 2, 2, 3, 3, 1, 4, 3, 5, 8, 6, 0, 7, 8, 8,\n",
      "        2, 9, 1, 7, 5, 0, 0, 6, 1, 0, 9, 7, 7, 3, 1, 8, 3, 7, 5, 1, 2, 3, 7, 7,\n",
      "        3, 9, 3, 7, 7, 4, 3, 0, 7, 2, 7, 5, 9, 0, 9, 6, 4, 4, 0, 9, 7, 8, 8, 5,\n",
      "        1, 1, 5, 5])\n",
      "4\n",
      "tensor([1, 3, 6, 3, 1, 4, 5, 0, 9, 5, 8, 4, 3, 8, 9, 6, 4, 3, 6, 4, 5, 8, 5, 0,\n",
      "        0, 6, 7, 4, 6, 8, 5, 3, 4, 4, 0, 0, 9, 1, 7, 9, 7, 2, 8, 7, 0, 9, 2, 1,\n",
      "        8, 2, 4, 5, 2, 1, 2, 7, 5, 2, 9, 8, 5, 7, 9, 0, 7, 1, 4, 9, 7, 6, 3, 4,\n",
      "        1, 9, 2, 2, 0, 1, 2, 2, 0, 3, 1, 7, 5, 0, 4, 2, 7, 1, 9, 3, 0, 1, 6, 2,\n",
      "        2, 5, 1, 8])\n",
      "5\n",
      "tensor([3, 1, 4, 6, 2, 8, 6, 5, 2, 6, 4, 0, 8, 8, 8, 9, 3, 4, 0, 9, 7, 2, 9, 0,\n",
      "        8, 1, 0, 2, 9, 3, 8, 4, 8, 5, 0, 8, 7, 9, 2, 0, 5, 1, 0, 2, 9, 3, 2, 4,\n",
      "        8, 5, 1, 6, 8, 7, 3, 8, 6, 9, 9, 0, 3, 1, 9, 2, 4, 3, 0, 4, 2, 5, 5, 8,\n",
      "        1, 5, 5, 2, 2, 1, 9, 7, 6, 2, 1, 4, 6, 1, 0, 4, 6, 1, 6, 4, 5, 9, 6, 6,\n",
      "        8, 8, 6, 4])\n",
      "6\n",
      "tensor([1, 5, 5, 3, 8, 7, 4, 8, 1, 4, 6, 3, 6, 3, 7, 5, 4, 0, 6, 6, 7, 1, 6, 6,\n",
      "        5, 8, 8, 7, 0, 0, 0, 1, 1, 5, 8, 6, 4, 0, 0, 8, 2, 5, 2, 0, 3, 6, 1, 1,\n",
      "        7, 5, 5, 8, 1, 4, 0, 7, 4, 6, 3, 9, 8, 1, 5, 9, 7, 7, 6, 1, 7, 2, 6, 3,\n",
      "        3, 4, 2, 5, 2, 5, 1, 3, 3, 7, 1, 3, 0, 1, 9, 8, 3, 2, 5, 2, 8, 3, 4, 2,\n",
      "        0, 7, 9, 4])\n",
      "7\n",
      "tensor([2, 9, 8, 9, 4, 2, 7, 8, 7, 1, 9, 8, 4, 3, 8, 8, 2, 3, 5, 6, 2, 7, 2, 0,\n",
      "        9, 4, 3, 0, 3, 0, 7, 1, 7, 2, 5, 3, 2, 4, 8, 5, 8, 6, 7, 7, 2, 8, 9, 9,\n",
      "        2, 0, 0, 1, 9, 2, 9, 3, 2, 4, 9, 5, 7, 6, 8, 7, 5, 8, 5, 9, 5, 0, 3, 1,\n",
      "        1, 2, 0, 3, 6, 4, 5, 5, 6, 6, 5, 7, 9, 8, 5, 9, 1, 1, 8, 8, 7, 6, 7, 7,\n",
      "        7, 1, 9, 1])\n",
      "8\n",
      "tensor([5, 4, 2, 3, 0, 7, 9, 9, 0, 3, 6, 6, 2, 0, 2, 3, 9, 6, 6, 4, 0, 8, 7, 6,\n",
      "        3, 0, 2, 1, 0, 1, 1, 5, 9, 9, 3, 4, 6, 3, 1, 0, 2, 4, 1, 6, 4, 9, 4, 1,\n",
      "        5, 7, 1, 9, 0, 5, 9, 1, 6, 1, 4, 9, 8, 8, 0, 6, 1, 6, 6, 9, 7, 8, 6, 8,\n",
      "        7, 8, 7, 2, 0, 7, 7, 4, 6, 5, 9, 8, 7, 3, 8, 5, 6, 4, 6, 7, 3, 6, 7, 5,\n",
      "        9, 2, 2, 2])\n",
      "9\n",
      "tensor([8, 2, 8, 7, 5, 7, 3, 1, 9, 0, 7, 1, 6, 2, 1, 3, 4, 4, 1, 5, 7, 6, 3, 7,\n",
      "        0, 8, 5, 9, 1, 0, 0, 1, 6, 2, 6, 3, 3, 4, 6, 5, 3, 6, 7, 7, 0, 8, 3, 9,\n",
      "        4, 0, 3, 1, 1, 2, 5, 3, 1, 4, 0, 5, 3, 6, 2, 7, 3, 8, 2, 9, 0, 3, 8, 2,\n",
      "        7, 9, 0, 3, 3, 2, 7, 1, 4, 4, 3, 5, 7, 5, 2, 2, 8, 3, 0, 2, 7, 1, 7, 3,\n",
      "        8, 9, 4, 7])\n",
      "10\n",
      "tensor([7, 2, 0, 1, 7, 1, 0, 8, 8, 8, 1, 7, 9, 8, 8, 1, 2, 0, 4, 0, 9, 6, 9, 7,\n",
      "        0, 7, 4, 5, 4, 0, 3, 6, 9, 1, 7, 1, 9, 2, 3, 5, 5, 0, 9, 7, 0, 0, 4, 4,\n",
      "        1, 4, 5, 1, 0, 8, 3, 6, 4, 0, 8, 0, 1, 0, 7, 3, 2, 7, 6, 1, 7, 6, 7, 4,\n",
      "        5, 2, 7, 6, 4, 4, 8, 5, 7, 4, 9, 1, 7, 3, 5, 8, 7, 6, 2, 3, 3, 9, 8, 9,\n",
      "        6, 5, 4, 9])\n",
      "11\n",
      "tensor([2, 3, 7, 7, 8, 8, 3, 5, 0, 6, 1, 4, 1, 7, 4, 6, 3, 2, 2, 2, 1, 0, 0, 9,\n",
      "        5, 4, 7, 0, 8, 1, 5, 2, 9, 3, 8, 4, 1, 5, 7, 6, 9, 7, 3, 8, 5, 9, 4, 0,\n",
      "        0, 1, 0, 2, 6, 3, 3, 4, 9, 5, 8, 6, 8, 7, 7, 8, 8, 9, 7, 0, 9, 1, 4, 2,\n",
      "        8, 3, 7, 4, 5, 5, 7, 6, 7, 7, 4, 8, 8, 9, 0, 1, 1, 8, 1, 6, 9, 7, 9, 1,\n",
      "        3, 1, 7, 4])\n",
      "12\n",
      "tensor([9, 3, 4, 7, 7, 7, 1, 8, 8, 9, 0, 3, 2, 6, 2, 0, 2, 3, 8, 6, 6, 4, 3, 8,\n",
      "        8, 4, 0, 5, 0, 7, 3, 5, 6, 6, 5, 0, 7, 3, 2, 9, 9, 2, 8, 8, 8, 3, 6, 1,\n",
      "        9, 1, 1, 5, 1, 9, 5, 4, 2, 3, 5, 0, 3, 4, 2, 4, 4, 0, 8, 9, 3, 6, 4, 9,\n",
      "        8, 2, 3, 2, 6, 1, 5, 7, 9, 9, 7, 5, 9, 1, 0, 1, 4, 9, 0, 8, 7, 6, 7, 6,\n",
      "        5, 9, 5, 0])\n",
      "13\n",
      "tensor([7, 0, 8, 0, 7, 1, 7, 8, 0, 4, 6, 6, 4, 8, 0, 8, 9, 2, 9, 6, 2, 3, 7, 2,\n",
      "        8, 4, 8, 0, 4, 9, 8, 0, 3, 3, 9, 7, 0, 4, 4, 5, 2, 8, 5, 3, 7, 5, 7, 8,\n",
      "        0, 5, 4, 4, 0, 7, 6, 6, 2, 2, 7, 2, 4, 7, 5, 7, 5, 0, 5, 5, 4, 1, 6, 5,\n",
      "        1, 3, 4, 0, 3, 1, 6, 2, 5, 3, 4, 4, 7, 5, 6, 6, 3, 7, 1, 8, 5, 9, 8, 0,\n",
      "        4, 1, 2, 2])\n",
      "14\n",
      "tensor([6, 3, 6, 4, 0, 5, 6, 6, 6, 7, 6, 8, 8, 9, 8, 0, 5, 1, 2, 2, 7, 3, 0, 4,\n",
      "        8, 5, 1, 6, 3, 7, 9, 8, 1, 5, 0, 2, 1, 8, 6, 1, 8, 7, 9, 2, 5, 4, 6, 1,\n",
      "        2, 4, 8, 1, 7, 4, 4, 9, 6, 6, 2, 8, 7, 5, 3, 3, 0, 7, 0, 8, 1, 3, 9, 3,\n",
      "        9, 5, 3, 6, 6, 7, 0, 0, 6, 6, 4, 1, 8, 6, 3, 8, 8, 7, 0, 0, 5, 1, 5, 5,\n",
      "        7, 6, 5, 0])\n",
      "15\n",
      "tensor([7, 8, 7, 5, 8, 0, 2, 6, 6, 1, 8, 5, 9, 8, 6, 4, 9, 2, 6, 3, 0, 9, 3, 7,\n",
      "        5, 6, 7, 9, 6, 1, 2, 9, 7, 0, 3, 6, 3, 7, 6, 1, 1, 2, 2, 3, 1, 9, 0, 2,\n",
      "        1, 4, 2, 5, 9, 5, 1, 3, 1, 7, 7, 5, 7, 3, 5, 1, 1, 8, 1, 2, 7, 2, 6, 3,\n",
      "        5, 0, 9, 2, 8, 9, 3, 4, 2, 9, 9, 7, 9, 0, 7, 0, 8, 2, 9, 7, 9, 4, 1, 9,\n",
      "        6, 9, 0, 2])\n",
      "16\n",
      "tensor([4, 8, 6, 1, 4, 5, 1, 6, 2, 9, 5, 8, 8, 3, 2, 8, 3, 3, 0, 6, 6, 7, 4, 0,\n",
      "        6, 4, 5, 0, 6, 0, 2, 1, 9, 2, 7, 3, 7, 4, 0, 5, 3, 6, 2, 7, 9, 8, 5, 9,\n",
      "        2, 0, 7, 1, 4, 2, 9, 3, 8, 4, 2, 5, 2, 6, 6, 7, 6, 8, 1, 9, 8, 0, 8, 1,\n",
      "        1, 2, 5, 3, 6, 4, 4, 5, 0, 6, 2, 7, 4, 0, 3, 6, 9, 4, 6, 7, 5, 4, 4, 3,\n",
      "        6, 6, 2, 2])\n",
      "17\n",
      "tensor([6, 3, 2, 4, 7, 8, 3, 7, 9, 8, 1, 6, 4, 9, 1, 8, 9, 3, 5, 2, 8, 2, 4, 4,\n",
      "        1, 8, 2, 5, 6, 6, 9, 5, 8, 0, 6, 2, 5, 0, 2, 1, 5, 1, 1, 2, 5, 6, 8, 8,\n",
      "        2, 1, 1, 2, 7, 0, 8, 6, 3, 9, 0, 3, 2, 9, 5, 3, 5, 7, 7, 1, 3, 8, 9, 3,\n",
      "        1, 8, 0, 5, 3, 0, 6, 1, 4, 1, 2, 9, 1, 8, 2, 2, 6, 0, 3, 4, 5, 5, 5, 5,\n",
      "        9, 0, 3, 3])\n",
      "18\n",
      "tensor([5, 1, 7, 8, 6, 6, 7, 9, 2, 0, 2, 3, 9, 1, 4, 0, 3, 4, 0, 7, 4, 5, 5, 4,\n",
      "        0, 7, 0, 9, 0, 7, 8, 0, 7, 1, 0, 2, 1, 3, 4, 7, 9, 8, 9, 9, 5, 0, 8, 1,\n",
      "        3, 2, 8, 3, 5, 4, 5, 5, 7, 6, 7, 7, 4, 8, 7, 9, 8, 0, 0, 1, 4, 2, 2, 3,\n",
      "        6, 4, 5, 5, 1, 6, 8, 7, 8, 8, 1, 0, 2, 7, 5, 5, 1, 0, 3, 8, 0, 4, 4, 1,\n",
      "        3, 8, 2, 8])\n",
      "19\n",
      "tensor([1, 1, 4, 3, 8, 1, 8, 8, 1, 3, 9, 7, 6, 9, 7, 3, 7, 0, 3, 9, 6, 4, 2, 4,\n",
      "        6, 0, 4, 7, 5, 4, 9, 2, 1, 8, 3, 7, 1, 2, 9, 4, 3, 7, 9, 8, 4, 9, 3, 3,\n",
      "        8, 1, 5, 4, 1, 6, 8, 5, 9, 2, 7, 2, 0, 2, 4, 5, 8, 6, 4, 7, 8, 8, 3, 7,\n",
      "        5, 5, 7, 1, 2, 6, 0, 4, 0, 9, 9, 2, 7, 9, 2, 3, 7, 5, 5, 3, 0, 6, 5, 6,\n",
      "        7, 0, 3, 0])\n",
      "20\n",
      "tensor([6, 2, 1, 5, 6, 6, 2, 4, 7, 9, 7, 2, 8, 7, 3, 4, 2, 9, 9, 5, 1, 0, 3, 2,\n",
      "        4, 2, 5, 3, 0, 6, 9, 1, 1, 8, 9, 3, 0, 8, 3, 0, 5, 3, 1, 5, 8, 0, 1, 0,\n",
      "        0, 6, 8, 1, 7, 6, 6, 9, 1, 5, 1, 3, 9, 9, 6, 4, 0, 5, 6, 8, 2, 6, 8, 7,\n",
      "        8, 1, 4, 1, 6, 7, 1, 0, 8, 1, 1, 2, 1, 3, 5, 4, 1, 7, 8, 8, 7, 9, 9, 0,\n",
      "        3, 1, 3, 2])\n",
      "21\n",
      "tensor([6, 3, 6, 4, 3, 0, 5, 1, 5, 2, 7, 3, 4, 7, 0, 8, 3, 9, 2, 1, 1, 5, 5, 9,\n",
      "        7, 6, 0, 9, 4, 3, 0, 5, 2, 0, 3, 0, 1, 7, 9, 9, 4, 6, 2, 1, 2, 6, 7, 7,\n",
      "        9, 7, 6, 9, 2, 2, 0, 4, 6, 8, 4, 8, 3, 0, 7, 6, 3, 4, 7, 1, 3, 2, 5, 8,\n",
      "        5, 7, 1, 1, 7, 1, 7, 0, 9, 7, 0, 6, 9, 0, 2, 1, 2, 2, 5, 3, 5, 4, 6, 5,\n",
      "        7, 6, 6, 7])\n",
      "22\n",
      "tensor([4, 8, 0, 9, 0, 1, 6, 2, 2, 3, 5, 4, 6, 5, 9, 6, 7, 7, 8, 8, 1, 0, 4, 1,\n",
      "        2, 2, 0, 3, 0, 4, 9, 5, 9, 6, 1, 7, 9, 8, 0, 9, 3, 8, 2, 4, 1, 0, 4, 0,\n",
      "        1, 7, 8, 2, 3, 6, 1, 5, 7, 5, 9, 3, 4, 7, 1, 6, 5, 6, 5, 4, 1, 3, 9, 2,\n",
      "        3, 6, 4, 6, 0, 4, 1, 4, 8, 3, 6, 8, 5, 8, 9, 3, 0, 0, 8, 1, 8, 4, 0, 5,\n",
      "        8, 6, 3, 4])\n",
      "23\n",
      "tensor([3, 7, 7, 8, 9, 0, 8, 3, 4, 1, 5, 9, 0, 0, 5, 9, 2, 1, 0, 2, 0, 7, 7, 0,\n",
      "        9, 1, 5, 3, 9, 8, 7, 2, 5, 9, 1, 2, 0, 7, 6, 7, 9, 9, 1, 4, 4, 2, 4, 5,\n",
      "        4, 8, 3, 6, 8, 5, 0, 9, 9, 9, 2, 1, 1, 1, 1, 7, 5, 6, 2, 9, 1, 1, 2, 3,\n",
      "        9, 2, 6, 3, 1, 4, 3, 3, 6, 1, 1, 9, 4, 3, 3, 6, 5, 8, 8, 7, 1, 0, 3, 1,\n",
      "        0, 0, 8, 5])\n",
      "24\n",
      "tensor([2, 8, 4, 2, 3, 7, 9, 7, 2, 0, 2, 1, 6, 2, 4, 3, 1, 4, 1, 5, 6, 6, 2, 7,\n",
      "        4, 8, 6, 9, 0, 0, 8, 1, 3, 2, 6, 3, 7, 4, 0, 5, 2, 6, 4, 7, 1, 8, 3, 9,\n",
      "        4, 0, 1, 1, 5, 2, 1, 3, 2, 4, 5, 5, 7, 6, 9, 7, 3, 8, 7, 9, 8, 8, 0, 7,\n",
      "        6, 4, 5, 7, 3, 7, 9, 3, 7, 9, 6, 8, 7, 8, 7, 3, 2, 1, 7, 5, 1, 8, 6, 2,\n",
      "        8, 7, 1, 4])\n",
      "25\n",
      "tensor([9, 2, 6, 6, 6, 1, 9, 5, 0, 5, 9, 8, 2, 6, 6, 4, 6, 4, 6, 4, 0, 1, 4, 8,\n",
      "        7, 7, 0, 5, 7, 5, 1, 1, 4, 8, 6, 9, 8, 1, 9, 3, 5, 6, 6, 3, 6, 3, 9, 2,\n",
      "        2, 2, 2, 6, 1, 9, 0, 9, 9, 6, 0, 5, 6, 5, 1, 3, 4, 3, 4, 8, 7, 1, 9, 6,\n",
      "        4, 8, 2, 1, 9, 9, 6, 7, 4, 6, 2, 8, 6, 3, 1, 7, 7, 4, 3, 7, 8, 0, 7, 9,\n",
      "        0, 0, 6, 0])\n",
      "26\n",
      "tensor([4, 3, 2, 7, 4, 9, 7, 3, 5, 0, 5, 2, 8, 0, 1, 1, 1, 0, 9, 1, 6, 0, 1, 4,\n",
      "        1, 0, 6, 1, 0, 0, 2, 4, 8, 7, 2, 9, 3, 2, 9, 0, 6, 6, 4, 2, 7, 6, 9, 2,\n",
      "        1, 2, 5, 9, 4, 9, 1, 0, 2, 1, 4, 2, 2, 3, 8, 4, 3, 5, 7, 6, 1, 7, 7, 8,\n",
      "        9, 0, 6, 1, 3, 2, 6, 3, 7, 4, 4, 5, 2, 6, 5, 7, 6, 8, 3, 0, 3, 1, 2, 2,\n",
      "        0, 3, 0, 8])\n",
      "27\n",
      "tensor([3, 7, 3, 4, 4, 7, 5, 7, 4, 9, 1, 8, 9, 3, 9, 1, 0, 5, 9, 8, 0, 4, 8, 2,\n",
      "        6, 6, 2, 4, 0, 4, 7, 1, 7, 8, 4, 7, 7, 5, 1, 5, 3, 1, 6, 9, 7, 1, 8, 3,\n",
      "        4, 6, 7, 3, 7, 3, 6, 2, 4, 2, 1, 6, 7, 9, 2, 9, 8, 6, 0, 5, 6, 5, 9, 3,\n",
      "        9, 3, 2, 8, 5, 1, 5, 7, 1, 6, 2, 8, 2, 3, 7, 7, 6, 4, 3, 7, 5, 0, 3, 9,\n",
      "        2, 0, 5, 0])\n",
      "28\n",
      "tensor([9, 2, 2, 7, 0, 9, 6, 1, 8, 0, 3, 1, 2, 0, 9, 4, 3, 0, 3, 1, 6, 0, 1, 4,\n",
      "        7, 7, 5, 9, 3, 2, 8, 0, 0, 6, 2, 2, 0, 6, 4, 2, 2, 2, 7, 9, 6, 9, 9, 0,\n",
      "        8, 1, 1, 2, 4, 3, 1, 4, 6, 5, 6, 6, 8, 7, 8, 8, 3, 0, 7, 1, 1, 2, 5, 3,\n",
      "        1, 4, 2, 5, 4, 6, 1, 7, 6, 8, 1, 9, 8, 0, 7, 1, 1, 2, 8, 3, 8, 4, 2, 5,\n",
      "        5, 6, 2, 7])\n",
      "29\n",
      "tensor([8, 8, 5, 9, 3, 8, 1, 3, 6, 4, 9, 7, 6, 8, 5, 6, 1, 3, 6, 4, 4, 0, 3, 9,\n",
      "        3, 7, 7, 1, 0, 9, 0, 3, 8, 8, 0, 4, 3, 7, 2, 3, 3, 0, 2, 9, 8, 4, 6, 5,\n",
      "        9, 4, 8, 6, 7, 2, 8, 0, 2, 6, 4, 2, 7, 1, 5, 1, 7, 1, 3, 1, 8, 7, 5, 2,\n",
      "        3, 4, 3, 2, 6, 9, 0, 4, 8, 5, 2, 8, 1, 4, 6, 2, 4, 9, 1, 7, 7, 0, 3, 0,\n",
      "        4, 7, 7, 5])\n",
      "30\n",
      "tensor([5, 1, 8, 7, 1, 6, 8, 6, 2, 6, 9, 8, 1, 2, 0, 5, 1, 2, 1, 2, 9, 7, 9, 7,\n",
      "        5, 4, 2, 0, 8, 2, 0, 4, 4, 2, 2, 3, 8, 3, 0, 3, 1, 1, 3, 8, 9, 9, 5, 6,\n",
      "        3, 1, 5, 0, 4, 5, 5, 9, 2, 6, 1, 9, 7, 8, 4, 5, 8, 8, 7, 5, 6, 5, 9, 8,\n",
      "        2, 0, 7, 3, 2, 0, 4, 8, 1, 6, 8, 3, 3, 0, 5, 1, 2, 2, 8, 3, 8, 4, 7, 6,\n",
      "        5, 7, 1, 8])\n",
      "31\n",
      "tensor([5, 0, 7, 1, 3, 2, 6, 3, 3, 4, 8, 6, 8, 7, 5, 8, 0, 0, 0, 1, 5, 2, 5, 3,\n",
      "        0, 4, 9, 6, 8, 7, 4, 8, 2, 8, 4, 1, 3, 7, 2, 2, 1, 4, 9, 1, 4, 4, 9, 1,\n",
      "        6, 4, 8, 9, 5, 6, 9, 8, 3, 4, 3, 7, 1, 8, 1, 4, 7, 3, 9, 3, 1, 6, 8, 7,\n",
      "        5, 0, 0, 6, 1, 1, 1, 6, 1, 8, 3, 7, 8, 0, 8, 1, 7, 0, 9, 8, 4, 5, 1, 0,\n",
      "        9, 6, 6, 1])\n",
      "32\n",
      "tensor([5, 5, 9, 8, 9, 4, 1, 2, 8, 3, 7, 9, 0, 7, 7, 6, 9, 9, 2, 0, 6, 6, 4, 3,\n",
      "        2, 3, 4, 7, 6, 5, 6, 3, 7, 1, 7, 8, 8, 2, 9, 2, 8, 3, 7, 0, 5, 2, 3, 9,\n",
      "        8, 4, 9, 9, 3, 7, 4, 0, 0, 0, 7, 2, 4, 7, 3, 4, 2, 9, 2, 9, 5, 2, 0, 8,\n",
      "        5, 1, 7, 5, 9, 6, 4, 9, 9, 8, 3, 3, 2, 8, 8, 3, 4, 6, 0, 7, 5, 0, 8, 4,\n",
      "        5, 0, 0, 0])\n",
      "33\n",
      "tensor([4, 1, 7, 2, 1, 3, 5, 4, 1, 5, 1, 6, 8, 7, 1, 8, 5, 9, 6, 0, 6, 1, 2, 2,\n",
      "        9, 3, 1, 4, 0, 5, 1, 6, 3, 7, 7, 8, 6, 9, 7, 0, 2, 1, 9, 2, 0, 3, 4, 4,\n",
      "        1, 9, 0, 1, 5, 0, 0, 0, 5, 3, 3, 6, 0, 1, 4, 4, 4, 3, 2, 2, 7, 9, 9, 1,\n",
      "        7, 2, 3, 1, 3, 2, 4, 9, 0, 0, 3, 1, 4, 3, 9, 0, 2, 6, 2, 2, 7, 9, 1, 1,\n",
      "        9, 9, 6, 0])\n",
      "34\n",
      "tensor([8, 0, 3, 0, 0, 1, 6, 0, 5, 1, 5, 4, 3, 5, 5, 7, 6, 8, 7, 3, 8, 4, 6, 7,\n",
      "        0, 1, 4, 1, 5, 0, 2, 7, 0, 5, 2, 9, 1, 9, 9, 4, 8, 7, 9, 5, 0, 8, 4, 3,\n",
      "        1, 4, 4, 4, 4, 3, 0, 2, 9, 3, 4, 4, 0, 5, 8, 6, 8, 7, 5, 1, 1, 0, 5, 1,\n",
      "        6, 2, 3, 3, 4, 4, 7, 5, 3, 6, 3, 7, 1, 8, 8, 0, 3, 1, 7, 2, 4, 3, 2, 4,\n",
      "        9, 5, 1, 6])\n",
      "35\n",
      "tensor([2, 7, 0, 0, 2, 9, 8, 5, 8, 0, 7, 9, 2, 8, 3, 9, 6, 8, 1, 4, 8, 1, 2, 7,\n",
      "        0, 7, 6, 3, 4, 5, 9, 1, 9, 0, 6, 0, 0, 0, 5, 1, 6, 2, 3, 6, 9, 3, 4, 3,\n",
      "        7, 7, 9, 4, 5, 6, 3, 6, 8, 6, 3, 4, 3, 9, 0, 1, 4, 9, 3, 5, 5, 8, 3, 2,\n",
      "        5, 0, 8, 0, 4, 1, 6, 7, 8, 6, 4, 3, 3, 2, 3, 1, 6, 7, 5, 3, 9, 1, 1, 3,\n",
      "        4, 9, 5, 1])\n",
      "36\n",
      "tensor([7, 7, 4, 6, 1, 8, 6, 4, 2, 3, 1, 1, 7, 4, 7, 0, 9, 5, 4, 3, 5, 6, 4, 9,\n",
      "        7, 6, 5, 1, 2, 7, 3, 4, 0, 4, 5, 7, 8, 2, 5, 2, 8, 5, 5, 7, 2, 9, 6, 5,\n",
      "        8, 4, 2, 8, 6, 8, 4, 4, 2, 0, 2, 8, 8, 9, 1, 8, 1, 0, 7, 1, 2, 2, 0, 3,\n",
      "        8, 4, 4, 5, 9, 6, 0, 7, 9, 8, 9, 9, 0, 0, 8, 1, 3, 2, 5, 3, 2, 4, 7, 5,\n",
      "        5, 6, 9, 7])\n",
      "37\n",
      "tensor([9, 8, 7, 9, 3, 0, 6, 1, 2, 2, 4, 3, 3, 4, 1, 5, 3, 6, 5, 7, 2, 8, 3, 9,\n",
      "        3, 7, 1, 2, 8, 9, 8, 4, 5, 2, 0, 9, 9, 8, 4, 4, 3, 5, 2, 8, 2, 8, 1, 0,\n",
      "        2, 3, 1, 5, 9, 4, 6, 3, 8, 3, 3, 5, 4, 1, 2, 7, 9, 8, 7, 4, 4, 5, 7, 7,\n",
      "        2, 2, 8, 6, 4, 6, 9, 7, 1, 7, 8, 7, 9, 0, 8, 1, 0, 0, 2, 1, 1, 6, 5, 5,\n",
      "        5, 5, 6, 2])\n",
      "38\n",
      "tensor([0, 9, 5, 3, 1, 1, 8, 4, 4, 8, 9, 8, 5, 7, 0, 3, 1, 8, 6, 2, 4, 9, 5, 1,\n",
      "        1, 2, 5, 6, 6, 5, 6, 9, 7, 1, 4, 2, 7, 2, 3, 7, 6, 9, 1, 7, 5, 9, 3, 9,\n",
      "        8, 1, 4, 0, 7, 9, 8, 7, 4, 0, 7, 5, 8, 0, 2, 3, 8, 8, 7, 4, 9, 6, 1, 1,\n",
      "        8, 4, 3, 3, 2, 6, 2, 2, 0, 0, 9, 4, 2, 8, 7, 1, 4, 3, 2, 1, 6, 0, 0, 9,\n",
      "        1, 0, 4, 1])\n",
      "39\n",
      "tensor([6, 2, 4, 3, 1, 4, 8, 5, 1, 6, 2, 7, 4, 8, 4, 9, 0, 0, 6, 1, 5, 2, 5, 3,\n",
      "        0, 4, 2, 5, 0, 6, 1, 7, 0, 8, 0, 9, 0, 0, 3, 1, 0, 2, 5, 3, 7, 4, 5, 5,\n",
      "        9, 6, 9, 9, 8, 8, 3, 4, 7, 0, 3, 0, 3, 7, 7, 2, 9, 4, 1, 2, 5, 6, 8, 5,\n",
      "        2, 5, 4, 3, 9, 7, 5, 8, 1, 6, 0, 6, 2, 4, 7, 3, 4, 2, 4, 6, 5, 6, 0, 3,\n",
      "        8, 8, 9, 8])\n",
      "40\n",
      "tensor([5, 3, 5, 0, 0, 1, 8, 4, 3, 4, 0, 7, 0, 3, 3, 5, 3, 4, 6, 1, 3, 9, 7, 1,\n",
      "        5, 2, 9, 1, 3, 3, 8, 9, 6, 2, 8, 7, 9, 7, 9, 9, 8, 4, 4, 2, 5, 5, 4, 8,\n",
      "        9, 6, 9, 5, 2, 5, 8, 9, 8, 9, 2, 1, 3, 1, 3, 5, 9, 7, 7, 6, 6, 9, 1, 1,\n",
      "        7, 3, 3, 2, 9, 3, 2, 1, 0, 9, 8, 0, 3, 9, 6, 1, 3, 0, 2, 5, 5, 8, 1, 2,\n",
      "        7, 7, 9, 7])\n",
      "41\n",
      "tensor([7, 0, 0, 1, 0, 2, 7, 3, 0, 4, 2, 5, 4, 6, 7, 7, 4, 8, 7, 9, 8, 0, 5, 1,\n",
      "        6, 2, 3, 3, 2, 4, 4, 5, 8, 6, 2, 7, 8, 8, 9, 9, 3, 0, 5, 1, 9, 2, 9, 3,\n",
      "        7, 4, 6, 5, 7, 6, 9, 7, 4, 8, 4, 5, 2, 2, 8, 8, 1, 1, 9, 7, 2, 2, 9, 4,\n",
      "        6, 1, 3, 4, 7, 1, 8, 4, 8, 9, 1, 6, 5, 8, 7, 4, 6, 5, 8, 3, 8, 7, 7, 8,\n",
      "        6, 4, 8, 3])\n",
      "42\n",
      "tensor([6, 3, 5, 5, 6, 6, 6, 7, 3, 0, 1, 6, 7, 1, 0, 6, 8, 8, 7, 7, 2, 0, 9, 1,\n",
      "        6, 5, 8, 6, 3, 0, 5, 8, 0, 5, 4, 0, 1, 6, 2, 1, 2, 5, 3, 8, 9, 4, 5, 2,\n",
      "        3, 3, 3, 9, 6, 7, 1, 6, 7, 9, 3, 1, 5, 9, 2, 0, 4, 6, 9, 7, 8, 1, 3, 2,\n",
      "        0, 3, 7, 9, 4, 2, 7, 4, 8, 5, 5, 5, 0, 3, 2, 7, 6, 5, 0, 3, 2, 1, 4, 8,\n",
      "        3, 2, 6, 2])\n",
      "43\n",
      "tensor([9, 3, 5, 0, 3, 2, 2, 9, 8, 4, 1, 9, 9, 0, 2, 2, 6, 7, 2, 4, 0, 9, 3, 9,\n",
      "        4, 2, 2, 8, 0, 1, 2, 5, 6, 6, 9, 9, 8, 8, 2, 3, 1, 8, 1, 3, 8, 6, 8, 4,\n",
      "        6, 0, 2, 0, 8, 1, 0, 2, 0, 3, 4, 4, 6, 5, 8, 6, 7, 7, 5, 8, 0, 9, 6, 0,\n",
      "        7, 1, 4, 2, 4, 3, 7, 4, 1, 5, 9, 6, 1, 7, 9, 8, 1, 9, 6, 0, 0, 1, 8, 2,\n",
      "        7, 3, 3, 4])\n",
      "44\n",
      "tensor([5, 5, 3, 6, 0, 7, 3, 8, 2, 6, 4, 0, 4, 3, 0, 4, 1, 1, 1, 4, 6, 0, 4, 8,\n",
      "        2, 6, 7, 4, 1, 5, 3, 4, 2, 0, 1, 7, 3, 8, 1, 7, 2, 7, 5, 9, 3, 0, 5, 4,\n",
      "        2, 9, 8, 9, 4, 7, 2, 4, 2, 2, 1, 0, 3, 5, 6, 8, 0, 5, 4, 9, 1, 8, 5, 8,\n",
      "        7, 4, 0, 0, 3, 7, 7, 1, 2, 3, 7, 5, 2, 1, 0, 3, 8, 1, 6, 5, 8, 3, 7, 8,\n",
      "        6, 7, 8, 3])\n",
      "45\n",
      "tensor([5, 1, 0, 6, 9, 8, 1, 5, 9, 9, 5, 2, 0, 2, 0, 0, 3, 9, 6, 2, 9, 4, 7, 6,\n",
      "        3, 5, 3, 2, 5, 7, 3, 3, 7, 1, 3, 3, 7, 6, 9, 6, 7, 2, 7, 1, 1, 2, 9, 6,\n",
      "        9, 0, 8, 2, 1, 2, 8, 7, 2, 1, 7, 3, 3, 7, 5, 4, 8, 7, 5, 4, 3, 8, 6, 9,\n",
      "        6, 2, 2, 9, 1, 5, 9, 1, 1, 5, 4, 6, 9, 8, 9, 3, 4, 5, 8, 6, 9, 8, 8, 0,\n",
      "        8, 0, 5, 9])\n",
      "46\n",
      "tensor([0, 9, 6, 3, 5, 1, 7, 1, 0, 0, 6, 1, 8, 2, 1, 3, 3, 4, 6, 5, 0, 6, 3, 7,\n",
      "        8, 8, 8, 9, 4, 0, 6, 1, 7, 2, 4, 3, 8, 4, 7, 5, 5, 6, 0, 7, 7, 8, 6, 9,\n",
      "        3, 0, 4, 1, 6, 2, 8, 3, 8, 4, 3, 5, 3, 6, 6, 7, 1, 8, 9, 9, 4, 7, 5, 5,\n",
      "        4, 5, 2, 1, 2, 9, 7, 9, 2, 7, 2, 1, 8, 0, 4, 9, 7, 0, 0, 7, 1, 1, 3, 7,\n",
      "        7, 3, 9, 6])\n",
      "47\n",
      "tensor([3, 8, 9, 0, 3, 8, 3, 3, 1, 2, 4, 0, 8, 9, 2, 0, 1, 6, 4, 1, 1, 7, 3, 5,\n",
      "        3, 8, 8, 3, 0, 4, 3, 7, 7, 6, 7, 3, 3, 2, 9, 3, 7, 8, 4, 9, 5, 4, 3, 8,\n",
      "        4, 8, 5, 7, 1, 1, 2, 0, 2, 8, 2, 7, 7, 7, 2, 9, 0, 2, 9, 3, 2, 4, 4, 6,\n",
      "        3, 1, 5, 1, 5, 4, 4, 5, 3, 5, 3, 0, 1, 4, 1, 8, 6, 7, 2, 4, 7, 9, 2, 2,\n",
      "        2, 3, 3, 6])\n",
      "48\n",
      "tensor([0, 4, 6, 1, 0, 2, 2, 4, 0, 1, 0, 5, 0, 4, 4, 2, 1, 0, 7, 4, 6, 8, 0, 6,\n",
      "        1, 1, 4, 9, 5, 3, 6, 2, 0, 0, 2, 0, 0, 2, 2, 5, 2, 6, 8, 9, 0, 3, 8, 6,\n",
      "        2, 3, 9, 6, 4, 0, 2, 1, 3, 2, 3, 3, 9, 4, 5, 7, 1, 0, 2, 3, 5, 4, 8, 7,\n",
      "        1, 0, 9, 1, 1, 2, 4, 3, 5, 4, 7, 5, 8, 6, 1, 7, 3, 8, 7, 7, 3, 2, 2, 4,\n",
      "        8, 1, 3, 4])\n",
      "49\n",
      "tensor([0, 1, 5, 4, 5, 9, 4, 6, 2, 8, 3, 4, 7, 5, 5, 3, 8, 7, 4, 8, 8, 4, 0, 6,\n",
      "        2, 7, 8, 0, 5, 6, 3, 1, 5, 6, 5, 8, 4, 7, 5, 0, 7, 0, 0, 0, 9, 6, 1, 1,\n",
      "        6, 5, 8, 2, 3, 3, 8, 9, 2, 7, 8, 6, 4, 9, 9, 1, 7, 9, 7, 0, 1, 6, 5, 7,\n",
      "        3, 2, 1, 5, 3, 3, 2, 1, 0, 2, 0, 3, 9, 0, 8, 2, 5, 9, 8, 4, 4, 9, 6, 7,\n",
      "        3, 0, 4, 0])\n",
      "50\n",
      "tensor([1, 2, 8, 7, 4, 4, 0, 9, 3, 9, 5, 2, 6, 9, 1, 8, 6, 3, 6, 6, 8, 7, 8, 0,\n",
      "        4, 4, 8, 0, 3, 0, 0, 1, 2, 2, 7, 3, 1, 4, 3, 6, 2, 7, 5, 8, 2, 0, 1, 1,\n",
      "        0, 2, 3, 3, 7, 4, 3, 5, 0, 6, 5, 7, 5, 8, 3, 9, 9, 0, 6, 1, 9, 2, 2, 3,\n",
      "        9, 4, 4, 5, 5, 6, 7, 7, 1, 8, 7, 1, 7, 4, 7, 4, 7, 2, 7, 3, 9, 3, 7, 0,\n",
      "        6, 9, 4, 5])\n",
      "51\n",
      "tensor([2, 4, 9, 3, 3, 0, 3, 8, 5, 4, 0, 6, 6, 7, 9, 0, 3, 7, 8, 7, 9, 1, 8, 6,\n",
      "        4, 9, 9, 1, 8, 2, 0, 9, 8, 3, 6, 6, 4, 2, 6, 3, 1, 4, 1, 6, 3, 8, 8, 7,\n",
      "        5, 2, 1, 3, 0, 8, 6, 1, 8, 2, 2, 9, 4, 5, 6, 8, 5, 8, 6, 7, 6, 1, 2, 7,\n",
      "        2, 1, 7, 1, 2, 0, 4, 3, 7, 4, 8, 2, 5, 6, 2, 4, 2, 7, 3, 4, 8, 2, 3, 7,\n",
      "        6, 4, 3, 2])\n",
      "52\n",
      "tensor([9, 9, 2, 2, 5, 7, 4, 9, 5, 2, 7, 8, 5, 6, 1, 1, 7, 0, 8, 6, 2, 8, 1, 5,\n",
      "        9, 5, 6, 0, 2, 5, 6, 3, 1, 5, 8, 9, 1, 7, 7, 4, 9, 8, 0, 9, 7, 6, 0, 9,\n",
      "        5, 3, 8, 0, 6, 0, 0, 6, 8, 3, 4, 0, 5, 5, 1, 8, 8, 9, 7, 1, 8, 8, 7, 1,\n",
      "        8, 6, 6, 0, 7, 0, 0, 1, 4, 2, 4, 3, 8, 4, 1, 5, 0, 6, 0, 7, 3, 8, 4, 9,\n",
      "        9, 0, 5, 1])\n",
      "53\n",
      "tensor([2, 3, 0, 4, 2, 5, 1, 6, 2, 7, 1, 8, 3, 9, 6, 0, 2, 1, 4, 2, 4, 3, 5, 4,\n",
      "        1, 5, 2, 6, 4, 7, 8, 8, 4, 9, 3, 1, 3, 4, 1, 4, 4, 3, 5, 3, 7, 0, 7, 9,\n",
      "        0, 5, 6, 4, 2, 3, 0, 0, 5, 8, 1, 4, 2, 0, 6, 7, 9, 7, 0, 6, 8, 9, 9, 1,\n",
      "        6, 2, 7, 9, 5, 3, 3, 6, 1, 2, 6, 3, 7, 4, 1, 6, 5, 5, 6, 2, 8, 3, 5, 8,\n",
      "        5, 1, 0, 2])\n",
      "54\n",
      "tensor([0, 9, 0, 5, 2, 8, 9, 8, 0, 7, 0, 1, 1, 7, 5, 1, 4, 1, 4, 3, 6, 4, 7, 4,\n",
      "        4, 7, 7, 4, 5, 2, 8, 7, 3, 2, 5, 9, 8, 2, 8, 7, 3, 9, 5, 2, 7, 8, 7, 6,\n",
      "        7, 1, 5, 8, 7, 5, 9, 5, 6, 0, 6, 5, 5, 3, 8, 5, 9, 9, 7, 7, 9, 4, 3, 8,\n",
      "        3, 9, 3, 6, 7, 9, 1, 0, 7, 0, 3, 6, 0, 3, 7, 0, 3, 5, 4, 8, 7, 9, 7, 1,\n",
      "        9, 8, 5, 1])\n",
      "55\n",
      "tensor([1, 0, 1, 0, 2, 1, 5, 2, 2, 3, 9, 4, 6, 5, 7, 6, 4, 7, 7, 8, 6, 0, 4, 1,\n",
      "        1, 2, 2, 3, 2, 4, 8, 5, 4, 6, 8, 7, 6, 8, 4, 9, 2, 0, 2, 1, 7, 2, 4, 3,\n",
      "        3, 4, 3, 6, 4, 7, 5, 8, 0, 8, 6, 2, 7, 6, 7, 9, 4, 6, 3, 1, 9, 9, 9, 9,\n",
      "        5, 9, 1, 4, 0, 4, 8, 3, 3, 8, 0, 1, 6, 4, 8, 1, 0, 2, 6, 5, 3, 0, 1, 9,\n",
      "        1, 4, 4, 9])\n",
      "56\n",
      "tensor([9, 1, 5, 7, 8, 4, 8, 4, 7, 1, 8, 8, 9, 7, 8, 6, 6, 0, 8, 8, 8, 1, 0, 8,\n",
      "        0, 2, 6, 6, 3, 2, 4, 0, 8, 9, 1, 1, 9, 2, 6, 5, 3, 4, 9, 5, 1, 6, 0, 7,\n",
      "        9, 3, 8, 0, 9, 2, 4, 2, 0, 2, 4, 7, 6, 5, 2, 0, 0, 3, 0, 5, 7, 2, 6, 1,\n",
      "        5, 4, 8, 4, 4, 3, 2, 0, 0, 0, 0, 8, 4, 5, 1, 4, 3, 7, 4, 9, 2, 7, 3, 8,\n",
      "        8, 8, 3, 7])\n",
      "57\n",
      "tensor([7, 9, 9, 6, 2, 3, 8, 1, 5, 7, 1, 9, 5, 6, 1, 3, 1, 3, 5, 1, 6, 0, 5, 2,\n",
      "        7, 6, 3, 0, 5, 5, 9, 6, 3, 8, 5, 7, 4, 3, 6, 5, 1, 8, 6, 3, 7, 0, 3, 1,\n",
      "        5, 2, 7, 3, 0, 4, 6, 5, 7, 6, 3, 7, 6, 8, 8, 9, 8, 0, 8, 1, 1, 2, 6, 3,\n",
      "        8, 4, 4, 5, 4, 6, 9, 7, 9, 8, 2, 9, 1, 0, 1, 1, 4, 2, 8, 3, 9, 4, 5, 5,\n",
      "        3, 6, 6, 7])\n",
      "58\n",
      "tensor([5, 8, 7, 9, 5, 0, 0, 8, 2, 7, 4, 8, 4, 9, 9, 9, 2, 0, 5, 1, 6, 4, 0, 5,\n",
      "        6, 1, 7, 6, 4, 7, 0, 3, 1, 2, 9, 9, 2, 0, 5, 5, 0, 6, 7, 7, 3, 3, 1, 9,\n",
      "        7, 9, 9, 3, 8, 8, 7, 1, 9, 2, 3, 9, 4, 6, 2, 7, 3, 5, 3, 6, 8, 3, 1, 5,\n",
      "        4, 0, 3, 5, 3, 4, 5, 0, 8, 3, 7, 4, 9, 7, 5, 7, 1, 9, 0, 4, 0, 3, 5, 7,\n",
      "        7, 6, 4, 2])\n",
      "59\n",
      "tensor([6, 1, 5, 5, 6, 5, 2, 0, 5, 5, 5, 0, 2, 6, 3, 7, 7, 0, 7, 2, 1, 9, 0, 3,\n",
      "        4, 4, 3, 4, 7, 8, 4, 1, 3, 2, 7, 2, 6, 3, 9, 1, 8, 3, 6, 6, 4, 7, 8, 3,\n",
      "        4, 9, 2, 6, 2, 5, 4, 1, 6, 9, 5, 8, 3, 1, 3, 1, 4, 5, 3, 0, 8, 2, 9, 7,\n",
      "        2, 8, 3, 6, 4, 6, 9, 8, 5, 4, 2, 4, 6, 2, 0, 2, 1, 8, 4, 0, 9, 0, 6, 1,\n",
      "        2, 2, 3, 3])\n",
      "60\n",
      "tensor([1, 8, 5, 9, 8, 0, 3, 1, 3, 2, 1, 4, 3, 5, 5, 6, 1, 7, 9, 8, 1, 9, 6, 0,\n",
      "        5, 1, 8, 2, 7, 3, 7, 4, 5, 5, 7, 6, 5, 7, 5, 8, 2, 9, 7, 3, 6, 5, 1, 3,\n",
      "        1, 2, 0, 9, 7, 3, 5, 2, 8, 1, 7, 4, 4, 5, 9, 5, 7, 2, 7, 3, 8, 2, 8, 1,\n",
      "        4, 3, 7, 9, 7, 7, 9, 2, 4, 1, 8, 2, 4, 8, 7, 9, 2, 1, 9, 8, 9, 8, 4, 7,\n",
      "        7, 8, 6, 1])\n",
      "61\n",
      "tensor([2, 0, 9, 0, 2, 6, 4, 7, 5, 7, 1, 7, 7, 5, 1, 6, 5, 1, 9, 5, 2, 7, 4, 1,\n",
      "        0, 2, 8, 5, 5, 0, 6, 7, 7, 9, 3, 9, 3, 0, 1, 3, 0, 8, 4, 4, 6, 8, 4, 4,\n",
      "        6, 1, 4, 8, 9, 6, 2, 5, 9, 9, 0, 0, 7, 0, 6, 0, 3, 3, 9, 7, 2, 1, 8, 6,\n",
      "        6, 4, 0, 2, 0, 6, 9, 6, 8, 0, 6, 4, 4, 5, 6, 4, 2, 1, 4, 3, 1, 8, 8, 6,\n",
      "        7, 3, 3, 9])\n",
      "62\n",
      "tensor([5, 9, 5, 5, 3, 9, 5, 3, 1, 7, 6, 6, 9, 2, 5, 2, 9, 0, 7, 0, 7, 1, 2, 2,\n",
      "        5, 3, 1, 4, 3, 5, 9, 6, 6, 7, 3, 8, 0, 9, 9, 0, 6, 1, 9, 2, 4, 3, 5, 4,\n",
      "        0, 5, 8, 6, 1, 7, 8, 8, 0, 9, 4, 0, 3, 1, 5, 2, 2, 3, 7, 4, 4, 5, 9, 9,\n",
      "        7, 1, 7, 3, 4, 5, 1, 9, 4, 4, 2, 1, 8, 7, 8, 7, 3, 2, 8, 1, 9, 4, 7, 8,\n",
      "        8, 3, 2, 8])\n",
      "63\n",
      "tensor([9, 2, 4, 9, 9, 3, 5, 8, 1, 5, 5, 4, 2, 8, 5, 8, 4, 9, 0, 4, 4, 3, 8, 9,\n",
      "        3, 2, 1, 5, 1, 7, 4, 4, 0, 1, 4, 2, 1, 3, 1, 5, 2, 9, 6, 1, 5, 6, 7, 0,\n",
      "        9, 1, 4, 0, 0, 0, 7, 2, 7, 8, 6, 7, 5, 2, 0, 5, 4, 1, 5, 1, 5, 8, 5, 5,\n",
      "        2, 6, 1, 4, 4, 0, 8, 4, 4, 7, 7, 3, 1, 6, 8, 8, 0, 0, 7, 3, 7, 7, 2, 4,\n",
      "        8, 0, 3, 6])\n",
      "64\n",
      "tensor([4, 9, 8, 2, 0, 6, 4, 5, 9, 8, 7, 6, 8, 9, 9, 0, 7, 4, 7, 0, 3, 6, 4, 1,\n",
      "        0, 9, 7, 2, 8, 0, 8, 9, 7, 5, 3, 1, 0, 3, 7, 7, 4, 6, 9, 9, 0, 4, 6, 8,\n",
      "        3, 3, 0, 7, 4, 7, 0, 6, 1, 3, 9, 0, 0, 5, 7, 6, 9, 2, 9, 2, 5, 0, 1, 1,\n",
      "        7, 2, 3, 3, 5, 4, 9, 5, 9, 6, 7, 7, 4, 8, 9, 9, 3, 0, 1, 1, 3, 2, 9, 3,\n",
      "        4, 4, 2, 5])\n",
      "65\n",
      "tensor([7, 6, 8, 7, 3, 8, 1, 9, 2, 0, 7, 1, 0, 2, 2, 3, 4, 5, 7, 6, 6, 7, 0, 8,\n",
      "        3, 8, 6, 9, 3, 5, 0, 7, 4, 0, 7, 3, 8, 1, 1, 4, 2, 1, 7, 7, 8, 6, 7, 5,\n",
      "        6, 6, 4, 4, 6, 2, 5, 7, 0, 8, 2, 1, 8, 3, 6, 4, 4, 3, 5, 7, 6, 2, 0, 5,\n",
      "        1, 0, 3, 1, 1, 9, 3, 2, 9, 3, 6, 2, 1, 3, 5, 5, 7, 5, 2, 7, 6, 8, 8, 4,\n",
      "        4, 9, 2, 9])\n",
      "66\n",
      "tensor([8, 7, 1, 1, 7, 1, 0, 9, 0, 0, 1, 7, 2, 8, 2, 3, 3, 8, 9, 6, 4, 3, 9, 8,\n",
      "        3, 0, 0, 9, 8, 6, 5, 2, 6, 1, 9, 0, 8, 1, 7, 0, 7, 6, 4, 2, 1, 3, 4, 8,\n",
      "        4, 9, 7, 0, 7, 7, 3, 2, 1, 3, 5, 4, 1, 5, 0, 5, 2, 2, 5, 8, 1, 5, 7, 4,\n",
      "        8, 6, 0, 6, 4, 6, 6, 7, 7, 9, 2, 1, 9, 8, 0, 2, 1, 1, 9, 2, 6, 6, 7, 5,\n",
      "        1, 3, 4, 4])\n",
      "67\n",
      "tensor([4, 7, 9, 9, 0, 4, 6, 0, 9, 0, 8, 5, 5, 9, 1, 0, 8, 1, 6, 2, 5, 3, 7, 4,\n",
      "        0, 5, 9, 6, 1, 7, 3, 8, 5, 9, 1, 0, 6, 1, 3, 2, 4, 3, 9, 4, 1, 5, 6, 6,\n",
      "        5, 7, 1, 8, 2, 9, 3, 0, 7, 1, 4, 2, 9, 3, 2, 4, 1, 5, 0, 6, 1, 7, 4, 8,\n",
      "        1, 9, 9, 0, 3, 0, 0, 1, 7, 0, 5, 1, 4, 2, 5, 7, 9, 5, 6, 3, 9, 4, 7, 2,\n",
      "        6, 4, 7, 4])\n",
      "68\n",
      "tensor([9, 0, 4, 0, 5, 6, 7, 9, 4, 6, 1, 6, 5, 5, 7, 7, 7, 3, 4, 2, 3, 2, 7, 3,\n",
      "        2, 4, 4, 4, 7, 9, 6, 1, 7, 4, 1, 0, 1, 7, 5, 9, 6, 7, 8, 5, 7, 6, 7, 2,\n",
      "        2, 3, 7, 1, 5, 4, 6, 4, 4, 0, 8, 9, 5, 9, 6, 6, 2, 1, 8, 8, 0, 3, 1, 3,\n",
      "        8, 7, 8, 3, 2, 9, 6, 8, 7, 8, 1, 9, 9, 6, 4, 8, 7, 8, 5, 8, 7, 4, 8, 7,\n",
      "        9, 7, 5, 6])\n",
      "69\n",
      "tensor([7, 2, 1, 1, 6, 9, 9, 8, 0, 7, 1, 8, 1, 8, 0, 7, 6, 2, 6, 2, 7, 3, 2, 9,\n",
      "        7, 3, 2, 3, 5, 0, 9, 7, 7, 9, 3, 5, 6, 6, 5, 5, 0, 0, 0, 6, 9, 1, 4, 5,\n",
      "        9, 0, 0, 4, 8, 1, 0, 1, 8, 2, 4, 8, 1, 2, 5, 6, 6, 1, 3, 5, 0, 0, 4, 1,\n",
      "        6, 2, 3, 3, 8, 4, 8, 5, 1, 6, 5, 7, 0, 8, 1, 9, 6, 0, 5, 1, 7, 2, 3, 3,\n",
      "        9, 4, 2, 5])\n",
      "70\n",
      "tensor([0, 8, 4, 0, 3, 1, 9, 2, 9, 3, 6, 4, 6, 5, 1, 6, 3, 7, 9, 8, 0, 8, 1, 6,\n",
      "        9, 5, 4, 0, 5, 6, 8, 8, 7, 9, 0, 4, 6, 1, 8, 9, 3, 0, 8, 4, 7, 8, 1, 9,\n",
      "        7, 1, 9, 4, 9, 0, 8, 5, 3, 1, 1, 4, 8, 0, 8, 7, 0, 6, 7, 0, 0, 1, 8, 7,\n",
      "        9, 0, 7, 6, 4, 8, 7, 9, 8, 5, 4, 7, 8, 9, 2, 8, 5, 6, 8, 0, 0, 8, 1, 1,\n",
      "        2, 7, 7, 7])\n",
      "71\n",
      "tensor([9, 1, 4, 3, 2, 2, 5, 3, 8, 1, 7, 4, 2, 2, 4, 0, 8, 0, 8, 7, 0, 8, 6, 4,\n",
      "        5, 6, 4, 4, 5, 9, 2, 3, 5, 8, 7, 4, 5, 7, 6, 2, 6, 3, 2, 6, 4, 9, 4, 6,\n",
      "        9, 3, 7, 2, 9, 2, 0, 4, 5, 6, 6, 9, 1, 0, 0, 2, 8, 5, 3, 5, 5, 1, 1, 3,\n",
      "        3, 3, 8, 9, 0, 7, 7, 8, 5, 7, 5, 2, 4, 2, 0, 9, 7, 8, 1, 2, 1, 1, 3, 3,\n",
      "        7, 1, 6, 3])\n",
      "72\n",
      "tensor([8, 0, 0, 1, 7, 2, 9, 3, 4, 4, 8, 5, 8, 6, 0, 7, 8, 8, 6, 9, 1, 0, 1, 1,\n",
      "        4, 2, 6, 3, 4, 4, 7, 5, 5, 6, 5, 7, 9, 8, 8, 9, 5, 0, 5, 1, 8, 2, 9, 3,\n",
      "        5, 4, 1, 5, 0, 6, 6, 7, 5, 8, 9, 9, 6, 0, 2, 8, 3, 3, 1, 9, 1, 5, 2, 5,\n",
      "        1, 2, 9, 6, 8, 8, 3, 4, 7, 9, 7, 1, 2, 7, 7, 1, 0, 2, 9, 3, 7, 5, 9, 9,\n",
      "        0, 6, 0, 9])\n",
      "73\n",
      "tensor([3, 1, 5, 1, 8, 1, 3, 2, 3, 9, 1, 5, 3, 6, 6, 8, 8, 1, 8, 2, 5, 0, 1, 7,\n",
      "        8, 7, 0, 5, 4, 8, 5, 2, 8, 9, 7, 8, 3, 7, 2, 1, 1, 3, 2, 4, 7, 5, 6, 6,\n",
      "        8, 0, 7, 3, 8, 6, 4, 8, 0, 7, 2, 0, 6, 4, 1, 2, 0, 7, 2, 7, 4, 5, 4, 4,\n",
      "        7, 3, 9, 4, 7, 2, 1, 8, 7, 1, 4, 5, 0, 1, 7, 2, 2, 4, 0, 3, 8, 0, 2, 0,\n",
      "        3, 0, 2, 3])\n",
      "74\n",
      "tensor([1, 3, 3, 5, 8, 7, 9, 0, 0, 6, 1, 8, 1, 6, 7, 3, 2, 4, 1, 6, 0, 9, 4, 9,\n",
      "        3, 8, 3, 2, 9, 7, 1, 7, 9, 1, 8, 0, 1, 1, 6, 2, 1, 3, 2, 4, 9, 7, 2, 8,\n",
      "        2, 9, 8, 0, 9, 1, 1, 2, 6, 3, 7, 4, 1, 5, 5, 6, 1, 7, 4, 8, 3, 9, 5, 0,\n",
      "        3, 1, 3, 2, 9, 3, 2, 7, 5, 8, 4, 9, 8, 7, 0, 9, 3, 5, 6, 0, 3, 8, 0, 3,\n",
      "        2, 5, 6, 4])\n",
      "75\n",
      "tensor([2, 8, 7, 2, 7, 1, 2, 0, 6, 2, 5, 5, 7, 8, 6, 8, 1, 1, 6, 6, 2, 1, 3, 3,\n",
      "        4, 0, 7, 3, 5, 6, 4, 9, 8, 3, 7, 7, 0, 4, 4, 9, 7, 7, 0, 0, 4, 9, 7, 7,\n",
      "        4, 7, 7, 9, 1, 5, 6, 7, 7, 6, 0, 4, 7, 8, 8, 9, 7, 6, 5, 9, 3, 4, 7, 1,\n",
      "        7, 2, 2, 0, 7, 6, 6, 1, 8, 7, 4, 2, 3, 4, 0, 6, 2, 4, 9, 6, 2, 5, 3, 0,\n",
      "        8, 2, 3, 1])\n",
      "76\n",
      "tensor([7, 0, 8, 1, 2, 2, 2, 1, 3, 7, 5, 8, 3, 1, 1, 2, 8, 8, 8, 2, 2, 7, 6, 9,\n",
      "        2, 3, 2, 9, 2, 0, 4, 1, 2, 2, 0, 3, 9, 4, 9, 5, 8, 6, 0, 7, 1, 0, 7, 1,\n",
      "        8, 2, 0, 3, 7, 7, 2, 8, 6, 9, 2, 0, 3, 1, 5, 7, 8, 8, 8, 9, 8, 2, 9, 5,\n",
      "        7, 1, 9, 6, 7, 4, 8, 3, 3, 9, 0, 9, 1, 0, 0, 4, 9, 3, 4, 6, 7, 0, 2, 0,\n",
      "        8, 8, 3, 9])\n",
      "77\n",
      "tensor([0, 8, 7, 7, 4, 0, 4, 0, 4, 4, 5, 1, 4, 4, 1, 1, 2, 3, 7, 6, 0, 4, 1, 7,\n",
      "        4, 7, 2, 0, 9, 9, 0, 8, 9, 4, 3, 3, 8, 8, 1, 3, 1, 8, 6, 5, 9, 8, 0, 4,\n",
      "        7, 1, 3, 7, 2, 9, 6, 2, 6, 0, 6, 9, 0, 1, 3, 7, 6, 3, 3, 8, 5, 0, 6, 3,\n",
      "        8, 8, 7, 1, 9, 6, 1, 4, 1, 3, 9, 6, 0, 1, 9, 5, 3, 5, 2, 6, 7, 5, 9, 0,\n",
      "        9, 1, 0, 2])\n",
      "78\n",
      "tensor([8, 3, 6, 4, 3, 5, 3, 6, 2, 7, 0, 0, 5, 1, 5, 2, 1, 3, 5, 4, 3, 5, 0, 6,\n",
      "        5, 7, 8, 0, 7, 1, 1, 2, 8, 3, 1, 4, 7, 5, 2, 7, 4, 4, 6, 0, 4, 4, 6, 0,\n",
      "        5, 1, 6, 7, 5, 5, 9, 1, 3, 4, 7, 2, 6, 4, 4, 3, 3, 1, 7, 7, 3, 8, 8, 2,\n",
      "        3, 4, 9, 4, 2, 3, 2, 3, 9, 6, 0, 6, 7, 7, 3, 0, 1, 2, 2, 6, 4, 3, 2, 9,\n",
      "        9, 3, 8, 2])\n",
      "79\n",
      "tensor([5, 8, 5, 1, 2, 7, 1, 0, 2, 3, 2, 2, 0, 9, 3, 4, 0, 0, 8, 3, 3, 7, 8, 7,\n",
      "        0, 7, 5, 7, 2, 1, 2, 1, 3, 2, 4, 6, 2, 4, 4, 2, 4, 3, 5, 6, 5, 6, 4, 5,\n",
      "        1, 7, 4, 5, 3, 2, 6, 8, 2, 1, 7, 6, 1, 1, 0, 0, 2, 4, 2, 3, 1, 1, 7, 6,\n",
      "        4, 1, 3, 9, 2, 0, 7, 1, 7, 2, 5, 3, 8, 4, 9, 5, 8, 6, 3, 7, 2, 8, 6, 0,\n",
      "        7, 1, 1, 2])\n",
      "80\n",
      "tensor([2, 3, 0, 4, 9, 5, 9, 6, 1, 7, 6, 8, 0, 9, 0, 0, 6, 1, 4, 2, 8, 3, 1, 4,\n",
      "        8, 5, 2, 6, 8, 7, 2, 8, 2, 1, 9, 0, 0, 4, 0, 5, 5, 6, 7, 6, 2, 3, 8, 4,\n",
      "        3, 4, 6, 1, 1, 0, 9, 6, 1, 4, 8, 9, 2, 7, 0, 2, 3, 3, 4, 3, 2, 9, 8, 2,\n",
      "        1, 0, 0, 9, 9, 3, 7, 3, 3, 9, 1, 1, 3, 5, 3, 2, 9, 3, 7, 1, 7, 6, 7, 7,\n",
      "        9, 3, 2, 7])\n",
      "81\n",
      "tensor([8, 4, 0, 2, 2, 4, 7, 8, 0, 7, 0, 6, 9, 3, 2, 6, 0, 5, 7, 5, 1, 0, 8, 1,\n",
      "        6, 7, 2, 9, 7, 9, 5, 8, 9, 6, 5, 2, 6, 2, 8, 1, 7, 5, 5, 7, 3, 5, 0, 1,\n",
      "        1, 3, 8, 4, 9, 4, 5, 1, 8, 6, 8, 9, 0, 1, 2, 3, 4, 5, 6, 7, 8, 9, 0, 1,\n",
      "        2, 3, 4, 5, 6, 7, 8, 9, 0, 1, 2, 3, 4, 7, 8, 9, 7, 1, 5, 6, 2, 5, 4, 8,\n",
      "        1, 7, 1, 8])\n",
      "82\n",
      "tensor([3, 8, 7, 1, 7, 7, 0, 1, 4, 4, 4, 4, 4, 9, 7, 2, 6, 5, 4, 3, 8, 7, 9, 0,\n",
      "        6, 4, 6, 3, 7, 0, 1, 4, 8, 8, 1, 2, 9, 3, 1, 8, 4, 2, 9, 9, 2, 9, 6, 0,\n",
      "        5, 3, 3, 6, 3, 1, 2, 5, 0, 3, 7, 6, 1, 5, 5, 9, 9, 0, 1, 2, 3, 4, 5, 6,\n",
      "        7, 8, 9, 0, 1, 2, 3, 4, 5, 6, 7, 8, 9, 0, 1, 2, 3, 4, 5, 6, 7, 8, 9, 6,\n",
      "        8, 2, 3, 7])\n",
      "83\n",
      "tensor([4, 6, 8, 6, 6, 8, 0, 1, 7, 1, 7, 3, 5, 0, 2, 2, 0, 2, 5, 4, 1, 5, 1, 2,\n",
      "        3, 4, 8, 3, 3, 6, 5, 9, 9, 3, 8, 1, 3, 7, 9, 3, 4, 1, 7, 3, 9, 6, 7, 4,\n",
      "        9, 7, 0, 9, 6, 0, 6, 1, 0, 5, 8, 5, 0, 1, 0, 9, 4, 5, 9, 7, 1, 9, 6, 8,\n",
      "        9, 2, 8, 5, 0, 1, 2, 3, 4, 5, 6, 7, 8, 9, 0, 1, 2, 3, 4, 5, 6, 7, 8, 9,\n",
      "        0, 1, 2, 3])\n",
      "84\n",
      "tensor([4, 9, 0, 5, 6, 8, 3, 9, 0, 2, 3, 3, 3, 9, 5, 6, 4, 4, 2, 5, 4, 3, 9, 6,\n",
      "        8, 7, 9, 1, 5, 2, 6, 3, 4, 4, 1, 6, 4, 9, 6, 5, 1, 2, 6, 6, 7, 8, 8, 1,\n",
      "        8, 3, 7, 1, 2, 7, 0, 7, 5, 0, 0, 1, 5, 0, 0, 4, 8, 3, 1, 8, 2, 9, 9, 5,\n",
      "        2, 6, 4, 8, 2, 5, 4, 1, 7, 1, 4, 3, 9, 7, 1, 2, 6, 0, 7, 3, 0, 1, 2, 3,\n",
      "        4, 7, 8, 9])\n",
      "85\n",
      "tensor([0, 1, 2, 3, 4, 5, 6, 7, 8, 9, 0, 1, 2, 3, 4, 5, 6, 7, 8, 9, 7, 0, 6, 0,\n",
      "        7, 3, 7, 3, 7, 9, 7, 4, 0, 2, 6, 5, 6, 5, 2, 9, 5, 3, 9, 8, 3, 4, 0, 5,\n",
      "        4, 6, 3, 4, 8, 0, 6, 4, 8, 1, 3, 4, 0, 1, 9, 2, 3, 7, 9, 1, 2, 5, 1, 7,\n",
      "        2, 8, 7, 0, 1, 9, 6, 4, 1, 2, 3, 7, 0, 2, 1, 3, 1, 7, 2, 1, 6, 8, 0, 8,\n",
      "        9, 1, 6, 0])\n",
      "86\n",
      "tensor([1, 2, 3, 4, 5, 6, 7, 8, 9, 0, 1, 2, 3, 4, 7, 8, 9, 0, 1, 2, 3, 4, 5, 6,\n",
      "        7, 8, 6, 4, 2, 6, 4, 7, 5, 5, 4, 7, 8, 9, 2, 9, 3, 9, 3, 8, 2, 0, 5, 0,\n",
      "        7, 0, 4, 2, 6, 5, 3, 5, 3, 8, 0, 0, 3, 4, 1, 5, 3, 0, 8, 3, 0, 6, 2, 7,\n",
      "        1, 1, 8, 1, 7, 1, 3, 8, 9, 7, 6, 7, 4, 1, 6, 7, 5, 1, 7, 1, 9, 8, 0, 6,\n",
      "        9, 4, 9, 9])\n",
      "87\n",
      "tensor([3, 7, 1, 9, 2, 2, 5, 3, 7, 8, 2, 3, 4, 5, 6, 7, 8, 9, 0, 1, 2, 3, 4, 5,\n",
      "        6, 7, 0, 1, 2, 3, 4, 5, 6, 7, 8, 9, 8, 1, 0, 5, 5, 1, 9, 0, 4, 1, 9, 3,\n",
      "        8, 4, 7, 7, 8, 5, 0, 6, 5, 5, 3, 3, 3, 9, 8, 1, 4, 0, 6, 1, 0, 0, 6, 2,\n",
      "        1, 1, 3, 2, 8, 8, 7, 8, 4, 6, 0, 2, 0, 3, 6, 8, 7, 1, 5, 9, 9, 3, 2, 4,\n",
      "        9, 4, 6, 5])\n",
      "88\n",
      "tensor([3, 2, 5, 5, 9, 4, 1, 6, 5, 0, 1, 2, 3, 4, 5, 6, 7, 8, 9, 0, 1, 2, 3, 4,\n",
      "        5, 6, 7, 8, 9, 0, 1, 2, 3, 4, 5, 6, 7, 8, 9, 6, 4, 2, 6, 4, 7, 5, 5, 4,\n",
      "        7, 8, 9, 2, 9, 3, 9, 3, 8, 2, 0, 9, 8, 0, 5, 6, 0, 1, 0, 4, 2, 6, 5, 5,\n",
      "        5, 4, 3, 4, 1, 5, 3, 0, 8, 3, 0, 6, 2, 7, 1, 1, 8, 1, 7, 1, 3, 8, 5, 4,\n",
      "        2, 0, 9, 7])\n",
      "89\n",
      "tensor([6, 7, 4, 1, 6, 8, 4, 7, 5, 1, 2, 6, 7, 1, 9, 8, 0, 6, 9, 4, 9, 9, 6, 2,\n",
      "        3, 7, 1, 9, 2, 2, 5, 3, 7, 8, 0, 1, 2, 3, 4, 5, 6, 7, 8, 0, 1, 2, 3, 4,\n",
      "        5, 6, 7, 8, 0, 1, 2, 3, 4, 5, 6, 7, 8, 9, 2, 1, 2, 1, 3, 9, 9, 8, 5, 3,\n",
      "        7, 0, 7, 7, 5, 7, 9, 9, 4, 7, 0, 3, 4, 1, 4, 4, 7, 5, 8, 1, 4, 8, 4, 1,\n",
      "        8, 6, 6, 4])\n",
      "90\n",
      "tensor([6, 3, 5, 7, 2, 5, 9, 2, 6, 2, 1, 2, 0, 8, 3, 8, 3, 0, 8, 7, 4, 9, 5, 0,\n",
      "        9, 7, 4, 9, 1, 6, 2, 7, 6, 1, 8, 6, 1, 0, 3, 6, 2, 1, 4, 0, 1, 2, 3, 4,\n",
      "        7, 8, 9, 0, 1, 2, 3, 4, 7, 8, 9, 0, 1, 2, 3, 4, 5, 6, 7, 8, 7, 4, 3, 1,\n",
      "        8, 6, 1, 9, 2, 4, 0, 9, 9, 3, 7, 7, 9, 1, 8, 4, 7, 5, 8, 5, 3, 2, 2, 0,\n",
      "        5, 8, 6, 0])\n",
      "91\n",
      "tensor([3, 8, 1, 0, 3, 0, 4, 7, 4, 9, 2, 9, 1, 2, 1, 7, 1, 6, 7, 3, 3, 6, 2, 8,\n",
      "        7, 6, 4, 9, 8, 8, 2, 9, 6, 5, 5, 9, 5, 3, 7, 4, 7, 6, 0, 0, 4, 6, 6, 9,\n",
      "        0, 1, 1, 3, 2, 1, 0, 0, 1, 2, 3, 4, 5, 6, 7, 8, 9, 0, 1, 2, 3, 4, 5, 6,\n",
      "        7, 8, 9, 0, 1, 2, 3, 4, 5, 6, 7, 8, 9, 4, 2, 0, 2, 1, 5, 9, 6, 5, 9, 3,\n",
      "        5, 0, 7, 1])\n",
      "92\n",
      "tensor([1, 5, 3, 0, 7, 9, 6, 1, 6, 7, 4, 9, 5, 7, 9, 8, 5, 6, 2, 4, 8, 9, 2, 2,\n",
      "        8, 0, 6, 4, 3, 3, 1, 2, 4, 1, 5, 8, 9, 6, 9, 3, 4, 0, 3, 9, 0, 2, 7, 1,\n",
      "        1, 0, 7, 6, 2, 2, 7, 6, 0, 6, 9, 4, 8, 4, 3, 3, 7, 8, 1, 0, 4, 5, 8, 3,\n",
      "        0, 6, 8, 3, 7, 8, 5, 7, 8, 2, 3, 4, 6, 7, 8, 9, 0, 1, 2, 5, 6, 7, 8, 9,\n",
      "        0, 1, 2, 3])\n",
      "93\n",
      "tensor([4, 5, 6, 8, 7, 5, 7, 3, 3, 8, 6, 5, 4, 0, 9, 3, 2, 2, 3, 0, 6, 4, 3, 7,\n",
      "        6, 9, 2, 2, 3, 5, 5, 0, 7, 2, 3, 4, 0, 0, 5, 1, 8, 9, 0, 8, 9, 6, 5, 6,\n",
      "        7, 5, 3, 5, 3, 0, 1, 2, 3, 4, 5, 6, 7, 8, 9, 0, 1, 2, 3, 4, 5, 6, 7, 9,\n",
      "        0, 1, 2, 3, 4, 5, 6, 7, 8, 9, 1, 3, 5, 9, 4, 1, 7, 7, 2, 1, 4, 8, 3, 8,\n",
      "        2, 9, 3, 8])\n",
      "94\n",
      "tensor([5, 4, 8, 8, 9, 7, 5, 4, 3, 9, 2, 5, 7, 4, 1, 2, 3, 6, 0, 1, 0, 0, 2, 8,\n",
      "        7, 2, 5, 1, 1, 8, 5, 6, 4, 0, 4, 7, 3, 6, 8, 0, 3, 7, 6, 9, 2, 6, 5, 8,\n",
      "        6, 9, 0, 4, 0, 6, 1, 9, 2, 0, 9, 5, 1, 3, 7, 6, 9, 4, 8, 3, 7, 7, 6, 3,\n",
      "        0, 5, 6, 2, 2, 0, 1, 2, 3, 4, 5, 6, 7, 8, 9, 0, 1, 2, 3, 4, 5, 6, 7, 8,\n",
      "        9, 0, 1, 2])\n",
      "95\n",
      "tensor([3, 4, 5, 6, 7, 8, 9, 5, 6, 6, 0, 8, 3, 7, 9, 4, 7, 1, 9, 1, 7, 1, 4, 1,\n",
      "        7, 5, 7, 1, 3, 3, 1, 6, 9, 7, 4, 3, 0, 2, 5, 2, 6, 0, 8, 4, 8, 1, 5, 0,\n",
      "        6, 6, 3, 4, 7, 5, 7, 2, 2, 0, 0, 1, 7, 7, 9, 5, 9, 8, 9, 6, 8, 3, 6, 1,\n",
      "        2, 9, 5, 2, 5, 2, 6, 2, 4, 8, 4, 6, 5, 0, 1, 2, 3, 4, 5, 6, 7, 8, 9, 0,\n",
      "        1, 2, 3, 4])\n",
      "96\n",
      "tensor([5, 6, 7, 8, 9, 0, 1, 2, 4, 5, 6, 7, 8, 0, 4, 0, 1, 7, 5, 1, 4, 2, 8, 4,\n",
      "        3, 1, 7, 8, 2, 4, 3, 3, 6, 9, 9, 5, 8, 6, 7, 0, 6, 2, 6, 3, 9, 1, 7, 4,\n",
      "        8, 8, 9, 0, 3, 0, 5, 2, 9, 4, 1, 0, 3, 7, 5, 8, 7, 7, 8, 2, 9, 5, 5, 1,\n",
      "        2, 6, 4, 2, 5, 2, 3, 6, 0, 0, 7, 5, 2, 8, 1, 6, 1, 0, 4, 3, 1, 6, 1, 9,\n",
      "        0, 1, 2, 3])\n",
      "97\n",
      "tensor([4, 5, 6, 7, 0, 1, 2, 3, 4, 6, 7, 8, 0, 1, 2, 3, 4, 7, 8, 9, 2, 2, 4, 0,\n",
      "        7, 3, 5, 4, 1, 8, 0, 5, 2, 7, 2, 3, 6, 2, 1, 7, 7, 9, 2, 4, 6, 7, 7, 5,\n",
      "        9, 9, 1, 8, 6, 4, 6, 0, 9, 2, 6, 4, 3, 9, 0, 8, 8, 9, 4, 7, 1, 3, 6, 9,\n",
      "        4, 1, 7, 6, 9, 3, 3, 7, 4, 1, 9, 1, 0, 6, 0, 1, 2, 4, 5, 6, 7, 8, 9, 0,\n",
      "        1, 2, 3, 4])\n",
      "98\n",
      "tensor([5, 6, 7, 8, 9, 0, 1, 2, 3, 4, 5, 6, 7, 8, 9, 3, 2, 9, 3, 2, 1, 4, 5, 5,\n",
      "        2, 3, 2, 1, 3, 9, 7, 2, 1, 2, 8, 9, 1, 8, 8, 7, 0, 6, 7, 7, 8, 7, 5, 0,\n",
      "        6, 1, 5, 7, 4, 6, 1, 2, 7, 9, 9, 0, 3, 8, 4, 4, 1, 8, 6, 5, 0, 0, 3, 7,\n",
      "        1, 6, 4, 2, 6, 6, 0, 4, 5, 4, 1, 3, 8, 6, 3, 9, 9, 5, 9, 3, 6, 4, 7, 6,\n",
      "        2, 2, 0, 9])\n",
      "99\n",
      "tensor([4, 0, 1, 2, 3, 4, 5, 6, 7, 8, 9, 0, 1, 2, 3, 4, 8, 9, 0, 1, 2, 3, 4, 5,\n",
      "        6, 7, 8, 9, 6, 0, 3, 4, 1, 4, 0, 7, 8, 7, 7, 9, 0, 4, 9, 4, 0, 5, 8, 5,\n",
      "        9, 8, 8, 4, 0, 7, 1, 3, 5, 3, 1, 6, 5, 3, 8, 7, 3, 1, 6, 8, 5, 9, 2, 2,\n",
      "        0, 9, 2, 4, 6, 7, 3, 1, 3, 6, 6, 2, 1, 2, 6, 0, 7, 8, 9, 2, 9, 5, 1, 8,\n",
      "        3, 5, 6, 8])\n",
      "100\n",
      "tensor([3, 8, 6, 9, 6, 4, 5, 3, 8, 4, 5, 2, 3, 8, 4, 8, 1, 5, 0, 5, 9, 7, 4, 1,\n",
      "        0, 3, 0, 6, 2, 9, 9, 4, 1, 3, 6, 8, 0, 7, 7, 6, 8, 9, 0, 3, 8, 3, 7, 7,\n",
      "        8, 4, 4, 1, 2, 9, 8, 1, 1, 0, 6, 6, 5, 0, 1, 1, 7, 2, 7, 3, 1, 4, 0, 5,\n",
      "        0, 6, 8, 7, 6, 8, 9, 9, 4, 0, 6, 1, 9, 2, 6, 3, 9, 4, 4, 5, 6, 6, 1, 7,\n",
      "        2, 8, 6, 9])\n",
      "1001\n",
      "tensor([7, 0, 9, 1, 6, 2, 8, 3, 6, 4, 9, 5, 8, 6, 8, 7, 8, 8, 6, 9, 1, 7, 6, 0,\n",
      "        9, 6, 7, 0, 9, 7, 1, 3, 6, 8, 4, 6, 1, 7, 5, 1, 3, 3, 5, 7, 9, 9, 6, 7,\n",
      "        3, 4, 1, 0, 4, 2, 4, 5, 0, 0, 1, 6, 6, 4, 7, 9, 4, 6, 5, 2, 6, 9, 8, 8,\n",
      "        8, 5, 9, 3, 8, 9, 8, 8, 8, 3, 4, 4, 3, 0, 9, 5, 4, 4, 1, 8, 0, 6, 1, 3,\n",
      "        2, 0, 8, 6])\n",
      "1002\n",
      "tensor([0, 3, 5, 4, 9, 0, 3, 1, 0, 9, 3, 2, 3, 3, 3, 7, 4, 9, 2, 1, 6, 2, 1, 5,\n",
      "        7, 1, 9, 7, 9, 2, 2, 8, 1, 7, 7, 0, 0, 1, 8, 9, 0, 6, 6, 4, 7, 9, 8, 2,\n",
      "        9, 1, 5, 2, 5, 3, 7, 7, 0, 0, 8, 2, 3, 1, 3, 5, 1, 3, 6, 4, 8, 7, 6, 2,\n",
      "        8, 1, 8, 6, 6, 8, 7, 5, 6, 0, 4, 8, 4, 9, 3, 2, 3, 6, 2, 0, 1, 1, 6, 2,\n",
      "        5, 3, 0, 4])\n",
      "1003\n",
      "tensor([3, 5, 8, 6, 9, 7, 8, 8, 3, 9, 0, 0, 3, 1, 4, 2, 5, 3, 9, 4, 5, 5, 5, 6,\n",
      "        0, 7, 1, 8, 0, 9, 3, 0, 5, 1, 2, 2, 3, 3, 1, 4, 3, 5, 8, 6, 0, 7, 8, 8,\n",
      "        2, 9, 1, 7, 5, 0, 0, 6, 1, 0, 9, 7, 7, 3, 1, 8, 3, 7, 5, 1, 2, 3, 7, 7,\n",
      "        3, 9, 3, 7, 7, 4, 3, 0, 7, 2, 7, 5, 9, 0, 9, 6, 4, 4, 0, 9, 7, 8, 8, 5,\n",
      "        1, 1, 5, 5])\n",
      "1004\n",
      "tensor([1, 3, 6, 3, 1, 4, 5, 0, 9, 5, 8, 4, 3, 8, 9, 6, 4, 3, 6, 4, 5, 8, 5, 0,\n",
      "        0, 6, 7, 4, 6, 8, 5, 3, 4, 4, 0, 0, 9, 1, 7, 9, 7, 2, 8, 7, 0, 9, 2, 1,\n",
      "        8, 2, 4, 5, 2, 1, 2, 7, 5, 2, 9, 8, 5, 7, 9, 0, 7, 1, 4, 9, 7, 6, 3, 4,\n",
      "        1, 9, 2, 2, 0, 1, 2, 2, 0, 3, 1, 7, 5, 0, 4, 2, 7, 1, 9, 3, 0, 1, 6, 2,\n",
      "        2, 5, 1, 8])\n",
      "1005\n",
      "tensor([3, 1, 4, 6, 2, 8, 6, 5, 2, 6, 4, 0, 8, 8, 8, 9, 3, 4, 0, 9, 7, 2, 9, 0,\n",
      "        8, 1, 0, 2, 9, 3, 8, 4, 8, 5, 0, 8, 7, 9, 2, 0, 5, 1, 0, 2, 9, 3, 2, 4,\n",
      "        8, 5, 1, 6, 8, 7, 3, 8, 6, 9, 9, 0, 3, 1, 9, 2, 4, 3, 0, 4, 2, 5, 5, 8,\n",
      "        1, 5, 5, 2, 2, 1, 9, 7, 6, 2, 1, 4, 6, 1, 0, 4, 6, 1, 6, 4, 5, 9, 6, 6,\n",
      "        8, 8, 6, 4])\n",
      "1006\n",
      "tensor([1, 5, 5, 3, 8, 7, 4, 8, 1, 4, 6, 3, 6, 3, 7, 5, 4, 0, 6, 6, 7, 1, 6, 6,\n",
      "        5, 8, 8, 7, 0, 0, 0, 1, 1, 5, 8, 6, 4, 0, 0, 8, 2, 5, 2, 0, 3, 6, 1, 1,\n",
      "        7, 5, 5, 8, 1, 4, 0, 7, 4, 6, 3, 9, 8, 1, 5, 9, 7, 7, 6, 1, 7, 2, 6, 3,\n",
      "        3, 4, 2, 5, 2, 5, 1, 3, 3, 7, 1, 3, 0, 1, 9, 8, 3, 2, 5, 2, 8, 3, 4, 2,\n",
      "        0, 7, 9, 4])\n",
      "1007\n",
      "tensor([2, 9, 8, 9, 4, 2, 7, 8, 7, 1, 9, 8, 4, 3, 8, 8, 2, 3, 5, 6, 2, 7, 2, 0,\n",
      "        9, 4, 3, 0, 3, 0, 7, 1, 7, 2, 5, 3, 2, 4, 8, 5, 8, 6, 7, 7, 2, 8, 9, 9,\n",
      "        2, 0, 0, 1, 9, 2, 9, 3, 2, 4, 9, 5, 7, 6, 8, 7, 5, 8, 5, 9, 5, 0, 3, 1,\n",
      "        1, 2, 0, 3, 6, 4, 5, 5, 6, 6, 5, 7, 9, 8, 5, 9, 1, 1, 8, 8, 7, 6, 7, 7,\n",
      "        7, 1, 9, 1])\n",
      "1008\n",
      "tensor([5, 4, 2, 3, 0, 7, 9, 9, 0, 3, 6, 6, 2, 0, 2, 3, 9, 6, 6, 4, 0, 8, 7, 6,\n",
      "        3, 0, 2, 1, 0, 1, 1, 5, 9, 9, 3, 4, 6, 3, 1, 0, 2, 4, 1, 6, 4, 9, 4, 1,\n",
      "        5, 7, 1, 9, 0, 5, 9, 1, 6, 1, 4, 9, 8, 8, 0, 6, 1, 6, 6, 9, 7, 8, 6, 8,\n",
      "        7, 8, 7, 2, 0, 7, 7, 4, 6, 5, 9, 8, 7, 3, 8, 5, 6, 4, 6, 7, 3, 6, 7, 5,\n",
      "        9, 2, 2, 2])\n",
      "1009\n",
      "tensor([8, 2, 8, 7, 5, 7, 3, 1, 9, 0, 7, 1, 6, 2, 1, 3, 4, 4, 1, 5, 7, 6, 3, 7,\n",
      "        0, 8, 5, 9, 1, 0, 0, 1, 6, 2, 6, 3, 3, 4, 6, 5, 3, 6, 7, 7, 0, 8, 3, 9,\n",
      "        4, 0, 3, 1, 1, 2, 5, 3, 1, 4, 0, 5, 3, 6, 2, 7, 3, 8, 2, 9, 0, 3, 8, 2,\n",
      "        7, 9, 0, 3, 3, 2, 7, 1, 4, 4, 3, 5, 7, 5, 2, 2, 8, 3, 0, 2, 7, 1, 7, 3,\n",
      "        8, 9, 4, 7])\n",
      "1010\n",
      "tensor([7, 2, 0, 1, 7, 1, 0, 8, 8, 8, 1, 7, 9, 8, 8, 1, 2, 0, 4, 0, 9, 6, 9, 7,\n",
      "        0, 7, 4, 5, 4, 0, 3, 6, 9, 1, 7, 1, 9, 2, 3, 5, 5, 0, 9, 7, 0, 0, 4, 4,\n",
      "        1, 4, 5, 1, 0, 8, 3, 6, 4, 0, 8, 0, 1, 0, 7, 3, 2, 7, 6, 1, 7, 6, 7, 4,\n",
      "        5, 2, 7, 6, 4, 4, 8, 5, 7, 4, 9, 1, 7, 3, 5, 8, 7, 6, 2, 3, 3, 9, 8, 9,\n",
      "        6, 5, 4, 9])\n",
      "1011\n",
      "tensor([2, 3, 7, 7, 8, 8, 3, 5, 0, 6, 1, 4, 1, 7, 4, 6, 3, 2, 2, 2, 1, 0, 0, 9,\n",
      "        5, 4, 7, 0, 8, 1, 5, 2, 9, 3, 8, 4, 1, 5, 7, 6, 9, 7, 3, 8, 5, 9, 4, 0,\n",
      "        0, 1, 0, 2, 6, 3, 3, 4, 9, 5, 8, 6, 8, 7, 7, 8, 8, 9, 7, 0, 9, 1, 4, 2,\n",
      "        8, 3, 7, 4, 5, 5, 7, 6, 7, 7, 4, 8, 8, 9, 0, 1, 1, 8, 1, 6, 9, 7, 9, 1,\n",
      "        3, 1, 7, 4])\n",
      "1012\n",
      "tensor([9, 3, 4, 7, 7, 7, 1, 8, 8, 9, 0, 3, 2, 6, 2, 0, 2, 3, 8, 6, 6, 4, 3, 8,\n",
      "        8, 4, 0, 5, 0, 7, 3, 5, 6, 6, 5, 0, 7, 3, 2, 9, 9, 2, 8, 8, 8, 3, 6, 1,\n",
      "        9, 1, 1, 5, 1, 9, 5, 4, 2, 3, 5, 0, 3, 4, 2, 4, 4, 0, 8, 9, 3, 6, 4, 9,\n",
      "        8, 2, 3, 2, 6, 1, 5, 7, 9, 9, 7, 5, 9, 1, 0, 1, 4, 9, 0, 8, 7, 6, 7, 6,\n",
      "        5, 9, 5, 0])\n",
      "1013\n",
      "tensor([7, 0, 8, 0, 7, 1, 7, 8, 0, 4, 6, 6, 4, 8, 0, 8, 9, 2, 9, 6, 2, 3, 7, 2,\n",
      "        8, 4, 8, 0, 4, 9, 8, 0, 3, 3, 9, 7, 0, 4, 4, 5, 2, 8, 5, 3, 7, 5, 7, 8,\n",
      "        0, 5, 4, 4, 0, 7, 6, 6, 2, 2, 7, 2, 4, 7, 5, 7, 5, 0, 5, 5, 4, 1, 6, 5,\n",
      "        1, 3, 4, 0, 3, 1, 6, 2, 5, 3, 4, 4, 7, 5, 6, 6, 3, 7, 1, 8, 5, 9, 8, 0,\n",
      "        4, 1, 2, 2])\n",
      "1014\n",
      "tensor([6, 3, 6, 4, 0, 5, 6, 6, 6, 7, 6, 8, 8, 9, 8, 0, 5, 1, 2, 2, 7, 3, 0, 4,\n",
      "        8, 5, 1, 6, 3, 7, 9, 8, 1, 5, 0, 2, 1, 8, 6, 1, 8, 7, 9, 2, 5, 4, 6, 1,\n",
      "        2, 4, 8, 1, 7, 4, 4, 9, 6, 6, 2, 8, 7, 5, 3, 3, 0, 7, 0, 8, 1, 3, 9, 3,\n",
      "        9, 5, 3, 6, 6, 7, 0, 0, 6, 6, 4, 1, 8, 6, 3, 8, 8, 7, 0, 0, 5, 1, 5, 5,\n",
      "        7, 6, 5, 0])\n",
      "1015\n",
      "tensor([7, 8, 7, 5, 8, 0, 2, 6, 6, 1, 8, 5, 9, 8, 6, 4, 9, 2, 6, 3, 0, 9, 3, 7,\n",
      "        5, 6, 7, 9, 6, 1, 2, 9, 7, 0, 3, 6, 3, 7, 6, 1, 1, 2, 2, 3, 1, 9, 0, 2,\n",
      "        1, 4, 2, 5, 9, 5, 1, 3, 1, 7, 7, 5, 7, 3, 5, 1, 1, 8, 1, 2, 7, 2, 6, 3,\n",
      "        5, 0, 9, 2, 8, 9, 3, 4, 2, 9, 9, 7, 9, 0, 7, 0, 8, 2, 9, 7, 9, 4, 1, 9,\n",
      "        6, 9, 0, 2])\n",
      "1016\n",
      "tensor([4, 8, 6, 1, 4, 5, 1, 6, 2, 9, 5, 8, 8, 3, 2, 8, 3, 3, 0, 6, 6, 7, 4, 0,\n",
      "        6, 4, 5, 0, 6, 0, 2, 1, 9, 2, 7, 3, 7, 4, 0, 5, 3, 6, 2, 7, 9, 8, 5, 9,\n",
      "        2, 0, 7, 1, 4, 2, 9, 3, 8, 4, 2, 5, 2, 6, 6, 7, 6, 8, 1, 9, 8, 0, 8, 1,\n",
      "        1, 2, 5, 3, 6, 4, 4, 5, 0, 6, 2, 7, 4, 0, 3, 6, 9, 4, 6, 7, 5, 4, 4, 3,\n",
      "        6, 6, 2, 2])\n",
      "1017\n",
      "tensor([6, 3, 2, 4, 7, 8, 3, 7, 9, 8, 1, 6, 4, 9, 1, 8, 9, 3, 5, 2, 8, 2, 4, 4,\n",
      "        1, 8, 2, 5, 6, 6, 9, 5, 8, 0, 6, 2, 5, 0, 2, 1, 5, 1, 1, 2, 5, 6, 8, 8,\n",
      "        2, 1, 1, 2, 7, 0, 8, 6, 3, 9, 0, 3, 2, 9, 5, 3, 5, 7, 7, 1, 3, 8, 9, 3,\n",
      "        1, 8, 0, 5, 3, 0, 6, 1, 4, 1, 2, 9, 1, 8, 2, 2, 6, 0, 3, 4, 5, 5, 5, 5,\n",
      "        9, 0, 3, 3])\n",
      "1018\n",
      "tensor([5, 1, 7, 8, 6, 6, 7, 9, 2, 0, 2, 3, 9, 1, 4, 0, 3, 4, 0, 7, 4, 5, 5, 4,\n",
      "        0, 7, 0, 9, 0, 7, 8, 0, 7, 1, 0, 2, 1, 3, 4, 7, 9, 8, 9, 9, 5, 0, 8, 1,\n",
      "        3, 2, 8, 3, 5, 4, 5, 5, 7, 6, 7, 7, 4, 8, 7, 9, 8, 0, 0, 1, 4, 2, 2, 3,\n",
      "        6, 4, 5, 5, 1, 6, 8, 7, 8, 8, 1, 0, 2, 7, 5, 5, 1, 0, 3, 8, 0, 4, 4, 1,\n",
      "        3, 8, 2, 8])\n",
      "1019\n",
      "tensor([1, 1, 4, 3, 8, 1, 8, 8, 1, 3, 9, 7, 6, 9, 7, 3, 7, 0, 3, 9, 6, 4, 2, 4,\n",
      "        6, 0, 4, 7, 5, 4, 9, 2, 1, 8, 3, 7, 1, 2, 9, 4, 3, 7, 9, 8, 4, 9, 3, 3,\n",
      "        8, 1, 5, 4, 1, 6, 8, 5, 9, 2, 7, 2, 0, 2, 4, 5, 8, 6, 4, 7, 8, 8, 3, 7,\n",
      "        5, 5, 7, 1, 2, 6, 0, 4, 0, 9, 9, 2, 7, 9, 2, 3, 7, 5, 5, 3, 0, 6, 5, 6,\n",
      "        7, 0, 3, 0])\n",
      "1020\n",
      "tensor([6, 2, 1, 5, 6, 6, 2, 4, 7, 9, 7, 2, 8, 7, 3, 4, 2, 9, 9, 5, 1, 0, 3, 2,\n",
      "        4, 2, 5, 3, 0, 6, 9, 1, 1, 8, 9, 3, 0, 8, 3, 0, 5, 3, 1, 5, 8, 0, 1, 0,\n",
      "        0, 6, 8, 1, 7, 6, 6, 9, 1, 5, 1, 3, 9, 9, 6, 4, 0, 5, 6, 8, 2, 6, 8, 7,\n",
      "        8, 1, 4, 1, 6, 7, 1, 0, 8, 1, 1, 2, 1, 3, 5, 4, 1, 7, 8, 8, 7, 9, 9, 0,\n",
      "        3, 1, 3, 2])\n",
      "1021\n",
      "tensor([6, 3, 6, 4, 3, 0, 5, 1, 5, 2, 7, 3, 4, 7, 0, 8, 3, 9, 2, 1, 1, 5, 5, 9,\n",
      "        7, 6, 0, 9, 4, 3, 0, 5, 2, 0, 3, 0, 1, 7, 9, 9, 4, 6, 2, 1, 2, 6, 7, 7,\n",
      "        9, 7, 6, 9, 2, 2, 0, 4, 6, 8, 4, 8, 3, 0, 7, 6, 3, 4, 7, 1, 3, 2, 5, 8,\n",
      "        5, 7, 1, 1, 7, 1, 7, 0, 9, 7, 0, 6, 9, 0, 2, 1, 2, 2, 5, 3, 5, 4, 6, 5,\n",
      "        7, 6, 6, 7])\n",
      "1022\n",
      "tensor([4, 8, 0, 9, 0, 1, 6, 2, 2, 3, 5, 4, 6, 5, 9, 6, 7, 7, 8, 8, 1, 0, 4, 1,\n",
      "        2, 2, 0, 3, 0, 4, 9, 5, 9, 6, 1, 7, 9, 8, 0, 9, 3, 8, 2, 4, 1, 0, 4, 0,\n",
      "        1, 7, 8, 2, 3, 6, 1, 5, 7, 5, 9, 3, 4, 7, 1, 6, 5, 6, 5, 4, 1, 3, 9, 2,\n",
      "        3, 6, 4, 6, 0, 4, 1, 4, 8, 3, 6, 8, 5, 8, 9, 3, 0, 0, 8, 1, 8, 4, 0, 5,\n",
      "        8, 6, 3, 4])\n",
      "1023\n",
      "tensor([3, 7, 7, 8, 9, 0, 8, 3, 4, 1, 5, 9, 0, 0, 5, 9, 2, 1, 0, 2, 0, 7, 7, 0,\n",
      "        9, 1, 5, 3, 9, 8, 7, 2, 5, 9, 1, 2, 0, 7, 6, 7, 9, 9, 1, 4, 4, 2, 4, 5,\n",
      "        4, 8, 3, 6, 8, 5, 0, 9, 9, 9, 2, 1, 1, 1, 1, 7, 5, 6, 2, 9, 1, 1, 2, 3,\n",
      "        9, 2, 6, 3, 1, 4, 3, 3, 6, 1, 1, 9, 4, 3, 3, 6, 5, 8, 8, 7, 1, 0, 3, 1,\n",
      "        0, 0, 8, 5])\n",
      "1024\n",
      "tensor([2, 8, 4, 2, 3, 7, 9, 7, 2, 0, 2, 1, 6, 2, 4, 3, 1, 4, 1, 5, 6, 6, 2, 7,\n",
      "        4, 8, 6, 9, 0, 0, 8, 1, 3, 2, 6, 3, 7, 4, 0, 5, 2, 6, 4, 7, 1, 8, 3, 9,\n",
      "        4, 0, 1, 1, 5, 2, 1, 3, 2, 4, 5, 5, 7, 6, 9, 7, 3, 8, 7, 9, 8, 8, 0, 7,\n",
      "        6, 4, 5, 7, 3, 7, 9, 3, 7, 9, 6, 8, 7, 8, 7, 3, 2, 1, 7, 5, 1, 8, 6, 2,\n",
      "        8, 7, 1, 4])\n",
      "1025\n",
      "tensor([9, 2, 6, 6, 6, 1, 9, 5, 0, 5, 9, 8, 2, 6, 6, 4, 6, 4, 6, 4, 0, 1, 4, 8,\n",
      "        7, 7, 0, 5, 7, 5, 1, 1, 4, 8, 6, 9, 8, 1, 9, 3, 5, 6, 6, 3, 6, 3, 9, 2,\n",
      "        2, 2, 2, 6, 1, 9, 0, 9, 9, 6, 0, 5, 6, 5, 1, 3, 4, 3, 4, 8, 7, 1, 9, 6,\n",
      "        4, 8, 2, 1, 9, 9, 6, 7, 4, 6, 2, 8, 6, 3, 1, 7, 7, 4, 3, 7, 8, 0, 7, 9,\n",
      "        0, 0, 6, 0])\n",
      "1026\n",
      "tensor([4, 3, 2, 7, 4, 9, 7, 3, 5, 0, 5, 2, 8, 0, 1, 1, 1, 0, 9, 1, 6, 0, 1, 4,\n",
      "        1, 0, 6, 1, 0, 0, 2, 4, 8, 7, 2, 9, 3, 2, 9, 0, 6, 6, 4, 2, 7, 6, 9, 2,\n",
      "        1, 2, 5, 9, 4, 9, 1, 0, 2, 1, 4, 2, 2, 3, 8, 4, 3, 5, 7, 6, 1, 7, 7, 8,\n",
      "        9, 0, 6, 1, 3, 2, 6, 3, 7, 4, 4, 5, 2, 6, 5, 7, 6, 8, 3, 0, 3, 1, 2, 2,\n",
      "        0, 3, 0, 8])\n",
      "1027\n",
      "tensor([3, 7, 3, 4, 4, 7, 5, 7, 4, 9, 1, 8, 9, 3, 9, 1, 0, 5, 9, 8, 0, 4, 8, 2,\n",
      "        6, 6, 2, 4, 0, 4, 7, 1, 7, 8, 4, 7, 7, 5, 1, 5, 3, 1, 6, 9, 7, 1, 8, 3,\n",
      "        4, 6, 7, 3, 7, 3, 6, 2, 4, 2, 1, 6, 7, 9, 2, 9, 8, 6, 0, 5, 6, 5, 9, 3,\n",
      "        9, 3, 2, 8, 5, 1, 5, 7, 1, 6, 2, 8, 2, 3, 7, 7, 6, 4, 3, 7, 5, 0, 3, 9,\n",
      "        2, 0, 5, 0])\n",
      "1028\n",
      "tensor([9, 2, 2, 7, 0, 9, 6, 1, 8, 0, 3, 1, 2, 0, 9, 4, 3, 0, 3, 1, 6, 0, 1, 4,\n",
      "        7, 7, 5, 9, 3, 2, 8, 0, 0, 6, 2, 2, 0, 6, 4, 2, 2, 2, 7, 9, 6, 9, 9, 0,\n",
      "        8, 1, 1, 2, 4, 3, 1, 4, 6, 5, 6, 6, 8, 7, 8, 8, 3, 0, 7, 1, 1, 2, 5, 3,\n",
      "        1, 4, 2, 5, 4, 6, 1, 7, 6, 8, 1, 9, 8, 0, 7, 1, 1, 2, 8, 3, 8, 4, 2, 5,\n",
      "        5, 6, 2, 7])\n",
      "1029\n",
      "tensor([8, 8, 5, 9, 3, 8, 1, 3, 6, 4, 9, 7, 6, 8, 5, 6, 1, 3, 6, 4, 4, 0, 3, 9,\n",
      "        3, 7, 7, 1, 0, 9, 0, 3, 8, 8, 0, 4, 3, 7, 2, 3, 3, 0, 2, 9, 8, 4, 6, 5,\n",
      "        9, 4, 8, 6, 7, 2, 8, 0, 2, 6, 4, 2, 7, 1, 5, 1, 7, 1, 3, 1, 8, 7, 5, 2,\n",
      "        3, 4, 3, 2, 6, 9, 0, 4, 8, 5, 2, 8, 1, 4, 6, 2, 4, 9, 1, 7, 7, 0, 3, 0,\n",
      "        4, 7, 7, 5])\n",
      "1030\n",
      "tensor([5, 1, 8, 7, 1, 6, 8, 6, 2, 6, 9, 8, 1, 2, 0, 5, 1, 2, 1, 2, 9, 7, 9, 7,\n",
      "        5, 4, 2, 0, 8, 2, 0, 4, 4, 2, 2, 3, 8, 3, 0, 3, 1, 1, 3, 8, 9, 9, 5, 6,\n",
      "        3, 1, 5, 0, 4, 5, 5, 9, 2, 6, 1, 9, 7, 8, 4, 5, 8, 8, 7, 5, 6, 5, 9, 8,\n",
      "        2, 0, 7, 3, 2, 0, 4, 8, 1, 6, 8, 3, 3, 0, 5, 1, 2, 2, 8, 3, 8, 4, 7, 6,\n",
      "        5, 7, 1, 8])\n",
      "1031\n",
      "tensor([5, 0, 7, 1, 3, 2, 6, 3, 3, 4, 8, 6, 8, 7, 5, 8, 0, 0, 0, 1, 5, 2, 5, 3,\n",
      "        0, 4, 9, 6, 8, 7, 4, 8, 2, 8, 4, 1, 3, 7, 2, 2, 1, 4, 9, 1, 4, 4, 9, 1,\n",
      "        6, 4, 8, 9, 5, 6, 9, 8, 3, 4, 3, 7, 1, 8, 1, 4, 7, 3, 9, 3, 1, 6, 8, 7,\n",
      "        5, 0, 0, 6, 1, 1, 1, 6, 1, 8, 3, 7, 8, 0, 8, 1, 7, 0, 9, 8, 4, 5, 1, 0,\n",
      "        9, 6, 6, 1])\n",
      "1032\n",
      "tensor([5, 5, 9, 8, 9, 4, 1, 2, 8, 3, 7, 9, 0, 7, 7, 6, 9, 9, 2, 0, 6, 6, 4, 3,\n",
      "        2, 3, 4, 7, 6, 5, 6, 3, 7, 1, 7, 8, 8, 2, 9, 2, 8, 3, 7, 0, 5, 2, 3, 9,\n",
      "        8, 4, 9, 9, 3, 7, 4, 0, 0, 0, 7, 2, 4, 7, 3, 4, 2, 9, 2, 9, 5, 2, 0, 8,\n",
      "        5, 1, 7, 5, 9, 6, 4, 9, 9, 8, 3, 3, 2, 8, 8, 3, 4, 6, 0, 7, 5, 0, 8, 4,\n",
      "        5, 0, 0, 0])\n",
      "1033\n",
      "tensor([4, 1, 7, 2, 1, 3, 5, 4, 1, 5, 1, 6, 8, 7, 1, 8, 5, 9, 6, 0, 6, 1, 2, 2,\n",
      "        9, 3, 1, 4, 0, 5, 1, 6, 3, 7, 7, 8, 6, 9, 7, 0, 2, 1, 9, 2, 0, 3, 4, 4,\n",
      "        1, 9, 0, 1, 5, 0, 0, 0, 5, 3, 3, 6, 0, 1, 4, 4, 4, 3, 2, 2, 7, 9, 9, 1,\n",
      "        7, 2, 3, 1, 3, 2, 4, 9, 0, 0, 3, 1, 4, 3, 9, 0, 2, 6, 2, 2, 7, 9, 1, 1,\n",
      "        9, 9, 6, 0])\n",
      "1034\n",
      "tensor([8, 0, 3, 0, 0, 1, 6, 0, 5, 1, 5, 4, 3, 5, 5, 7, 6, 8, 7, 3, 8, 4, 6, 7,\n",
      "        0, 1, 4, 1, 5, 0, 2, 7, 0, 5, 2, 9, 1, 9, 9, 4, 8, 7, 9, 5, 0, 8, 4, 3,\n",
      "        1, 4, 4, 4, 4, 3, 0, 2, 9, 3, 4, 4, 0, 5, 8, 6, 8, 7, 5, 1, 1, 0, 5, 1,\n",
      "        6, 2, 3, 3, 4, 4, 7, 5, 3, 6, 3, 7, 1, 8, 8, 0, 3, 1, 7, 2, 4, 3, 2, 4,\n",
      "        9, 5, 1, 6])\n",
      "1035\n",
      "tensor([2, 7, 0, 0, 2, 9, 8, 5, 8, 0, 7, 9, 2, 8, 3, 9, 6, 8, 1, 4, 8, 1, 2, 7,\n",
      "        0, 7, 6, 3, 4, 5, 9, 1, 9, 0, 6, 0, 0, 0, 5, 1, 6, 2, 3, 6, 9, 3, 4, 3,\n",
      "        7, 7, 9, 4, 5, 6, 3, 6, 8, 6, 3, 4, 3, 9, 0, 1, 4, 9, 3, 5, 5, 8, 3, 2,\n",
      "        5, 0, 8, 0, 4, 1, 6, 7, 8, 6, 4, 3, 3, 2, 3, 1, 6, 7, 5, 3, 9, 1, 1, 3,\n",
      "        4, 9, 5, 1])\n",
      "1036\n",
      "tensor([7, 7, 4, 6, 1, 8, 6, 4, 2, 3, 1, 1, 7, 4, 7, 0, 9, 5, 4, 3, 5, 6, 4, 9,\n",
      "        7, 6, 5, 1, 2, 7, 3, 4, 0, 4, 5, 7, 8, 2, 5, 2, 8, 5, 5, 7, 2, 9, 6, 5,\n",
      "        8, 4, 2, 8, 6, 8, 4, 4, 2, 0, 2, 8, 8, 9, 1, 8, 1, 0, 7, 1, 2, 2, 0, 3,\n",
      "        8, 4, 4, 5, 9, 6, 0, 7, 9, 8, 9, 9, 0, 0, 8, 1, 3, 2, 5, 3, 2, 4, 7, 5,\n",
      "        5, 6, 9, 7])\n",
      "1037\n",
      "tensor([9, 8, 7, 9, 3, 0, 6, 1, 2, 2, 4, 3, 3, 4, 1, 5, 3, 6, 5, 7, 2, 8, 3, 9,\n",
      "        3, 7, 1, 2, 8, 9, 8, 4, 5, 2, 0, 9, 9, 8, 4, 4, 3, 5, 2, 8, 2, 8, 1, 0,\n",
      "        2, 3, 1, 5, 9, 4, 6, 3, 8, 3, 3, 5, 4, 1, 2, 7, 9, 8, 7, 4, 4, 5, 7, 7,\n",
      "        2, 2, 8, 6, 4, 6, 9, 7, 1, 7, 8, 7, 9, 0, 8, 1, 0, 0, 2, 1, 1, 6, 5, 5,\n",
      "        5, 5, 6, 2])\n",
      "1038\n",
      "tensor([0, 9, 5, 3, 1, 1, 8, 4, 4, 8, 9, 8, 5, 7, 0, 3, 1, 8, 6, 2, 4, 9, 5, 1,\n",
      "        1, 2, 5, 6, 6, 5, 6, 9, 7, 1, 4, 2, 7, 2, 3, 7, 6, 9, 1, 7, 5, 9, 3, 9,\n",
      "        8, 1, 4, 0, 7, 9, 8, 7, 4, 0, 7, 5, 8, 0, 2, 3, 8, 8, 7, 4, 9, 6, 1, 1,\n",
      "        8, 4, 3, 3, 2, 6, 2, 2, 0, 0, 9, 4, 2, 8, 7, 1, 4, 3, 2, 1, 6, 0, 0, 9,\n",
      "        1, 0, 4, 1])\n",
      "1039\n",
      "tensor([6, 2, 4, 3, 1, 4, 8, 5, 1, 6, 2, 7, 4, 8, 4, 9, 0, 0, 6, 1, 5, 2, 5, 3,\n",
      "        0, 4, 2, 5, 0, 6, 1, 7, 0, 8, 0, 9, 0, 0, 3, 1, 0, 2, 5, 3, 7, 4, 5, 5,\n",
      "        9, 6, 9, 9, 8, 8, 3, 4, 7, 0, 3, 0, 3, 7, 7, 2, 9, 4, 1, 2, 5, 6, 8, 5,\n",
      "        2, 5, 4, 3, 9, 7, 5, 8, 1, 6, 0, 6, 2, 4, 7, 3, 4, 2, 4, 6, 5, 6, 0, 3,\n",
      "        8, 8, 9, 8])\n",
      "1040\n",
      "tensor([5, 3, 5, 0, 0, 1, 8, 4, 3, 4, 0, 7, 0, 3, 3, 5, 3, 4, 6, 1, 3, 9, 7, 1,\n",
      "        5, 2, 9, 1, 3, 3, 8, 9, 6, 2, 8, 7, 9, 7, 9, 9, 8, 4, 4, 2, 5, 5, 4, 8,\n",
      "        9, 6, 9, 5, 2, 5, 8, 9, 8, 9, 2, 1, 3, 1, 3, 5, 9, 7, 7, 6, 6, 9, 1, 1,\n",
      "        7, 3, 3, 2, 9, 3, 2, 1, 0, 9, 8, 0, 3, 9, 6, 1, 3, 0, 2, 5, 5, 8, 1, 2,\n",
      "        7, 7, 9, 7])\n",
      "1041\n",
      "tensor([7, 0, 0, 1, 0, 2, 7, 3, 0, 4, 2, 5, 4, 6, 7, 7, 4, 8, 7, 9, 8, 0, 5, 1,\n",
      "        6, 2, 3, 3, 2, 4, 4, 5, 8, 6, 2, 7, 8, 8, 9, 9, 3, 0, 5, 1, 9, 2, 9, 3,\n",
      "        7, 4, 6, 5, 7, 6, 9, 7, 4, 8, 4, 5, 2, 2, 8, 8, 1, 1, 9, 7, 2, 2, 9, 4,\n",
      "        6, 1, 3, 4, 7, 1, 8, 4, 8, 9, 1, 6, 5, 8, 7, 4, 6, 5, 8, 3, 8, 7, 7, 8,\n",
      "        6, 4, 8, 3])\n",
      "1042\n",
      "tensor([6, 3, 5, 5, 6, 6, 6, 7, 3, 0, 1, 6, 7, 1, 0, 6, 8, 8, 7, 7, 2, 0, 9, 1,\n",
      "        6, 5, 8, 6, 3, 0, 5, 8, 0, 5, 4, 0, 1, 6, 2, 1, 2, 5, 3, 8, 9, 4, 5, 2,\n",
      "        3, 3, 3, 9, 6, 7, 1, 6, 7, 9, 3, 1, 5, 9, 2, 0, 4, 6, 9, 7, 8, 1, 3, 2,\n",
      "        0, 3, 7, 9, 4, 2, 7, 4, 8, 5, 5, 5, 0, 3, 2, 7, 6, 5, 0, 3, 2, 1, 4, 8,\n",
      "        3, 2, 6, 2])\n",
      "1043\n",
      "tensor([9, 3, 5, 0, 3, 2, 2, 9, 8, 4, 1, 9, 9, 0, 2, 2, 6, 7, 2, 4, 0, 9, 3, 9,\n",
      "        4, 2, 2, 8, 0, 1, 2, 5, 6, 6, 9, 9, 8, 8, 2, 3, 1, 8, 1, 3, 8, 6, 8, 4,\n",
      "        6, 0, 2, 0, 8, 1, 0, 2, 0, 3, 4, 4, 6, 5, 8, 6, 7, 7, 5, 8, 0, 9, 6, 0,\n",
      "        7, 1, 4, 2, 4, 3, 7, 4, 1, 5, 9, 6, 1, 7, 9, 8, 1, 9, 6, 0, 0, 1, 8, 2,\n",
      "        7, 3, 3, 4])\n",
      "1044\n",
      "tensor([5, 5, 3, 6, 0, 7, 3, 8, 2, 6, 4, 0, 4, 3, 0, 4, 1, 1, 1, 4, 6, 0, 4, 8,\n",
      "        2, 6, 7, 4, 1, 5, 3, 4, 2, 0, 1, 7, 3, 8, 1, 7, 2, 7, 5, 9, 3, 0, 5, 4,\n",
      "        2, 9, 8, 9, 4, 7, 2, 4, 2, 2, 1, 0, 3, 5, 6, 8, 0, 5, 4, 9, 1, 8, 5, 8,\n",
      "        7, 4, 0, 0, 3, 7, 7, 1, 2, 3, 7, 5, 2, 1, 0, 3, 8, 1, 6, 5, 8, 3, 7, 8,\n",
      "        6, 7, 8, 3])\n",
      "1045\n",
      "tensor([5, 1, 0, 6, 9, 8, 1, 5, 9, 9, 5, 2, 0, 2, 0, 0, 3, 9, 6, 2, 9, 4, 7, 6,\n",
      "        3, 5, 3, 2, 5, 7, 3, 3, 7, 1, 3, 3, 7, 6, 9, 6, 7, 2, 7, 1, 1, 2, 9, 6,\n",
      "        9, 0, 8, 2, 1, 2, 8, 7, 2, 1, 7, 3, 3, 7, 5, 4, 8, 7, 5, 4, 3, 8, 6, 9,\n",
      "        6, 2, 2, 9, 1, 5, 9, 1, 1, 5, 4, 6, 9, 8, 9, 3, 4, 5, 8, 6, 9, 8, 8, 0,\n",
      "        8, 0, 5, 9])\n",
      "1046\n",
      "tensor([0, 9, 6, 3, 5, 1, 7, 1, 0, 0, 6, 1, 8, 2, 1, 3, 3, 4, 6, 5, 0, 6, 3, 7,\n",
      "        8, 8, 8, 9, 4, 0, 6, 1, 7, 2, 4, 3, 8, 4, 7, 5, 5, 6, 0, 7, 7, 8, 6, 9,\n",
      "        3, 0, 4, 1, 6, 2, 8, 3, 8, 4, 3, 5, 3, 6, 6, 7, 1, 8, 9, 9, 4, 7, 5, 5,\n",
      "        4, 5, 2, 1, 2, 9, 7, 9, 2, 7, 2, 1, 8, 0, 4, 9, 7, 0, 0, 7, 1, 1, 3, 7,\n",
      "        7, 3, 9, 6])\n",
      "1047\n",
      "tensor([3, 8, 9, 0, 3, 8, 3, 3, 1, 2, 4, 0, 8, 9, 2, 0, 1, 6, 4, 1, 1, 7, 3, 5,\n",
      "        3, 8, 8, 3, 0, 4, 3, 7, 7, 6, 7, 3, 3, 2, 9, 3, 7, 8, 4, 9, 5, 4, 3, 8,\n",
      "        4, 8, 5, 7, 1, 1, 2, 0, 2, 8, 2, 7, 7, 7, 2, 9, 0, 2, 9, 3, 2, 4, 4, 6,\n",
      "        3, 1, 5, 1, 5, 4, 4, 5, 3, 5, 3, 0, 1, 4, 1, 8, 6, 7, 2, 4, 7, 9, 2, 2,\n",
      "        2, 3, 3, 6])\n",
      "1048\n",
      "tensor([0, 4, 6, 1, 0, 2, 2, 4, 0, 1, 0, 5, 0, 4, 4, 2, 1, 0, 7, 4, 6, 8, 0, 6,\n",
      "        1, 1, 4, 9, 5, 3, 6, 2, 0, 0, 2, 0, 0, 2, 2, 5, 2, 6, 8, 9, 0, 3, 8, 6,\n",
      "        2, 3, 9, 6, 4, 0, 2, 1, 3, 2, 3, 3, 9, 4, 5, 7, 1, 0, 2, 3, 5, 4, 8, 7,\n",
      "        1, 0, 9, 1, 1, 2, 4, 3, 5, 4, 7, 5, 8, 6, 1, 7, 3, 8, 7, 7, 3, 2, 2, 4,\n",
      "        8, 1, 3, 4])\n",
      "1049\n",
      "tensor([0, 1, 5, 4, 5, 9, 4, 6, 2, 8, 3, 4, 7, 5, 5, 3, 8, 7, 4, 8, 8, 4, 0, 6,\n",
      "        2, 7, 8, 0, 5, 6, 3, 1, 5, 6, 5, 8, 4, 7, 5, 0, 7, 0, 0, 0, 9, 6, 1, 1,\n",
      "        6, 5, 8, 2, 3, 3, 8, 9, 2, 7, 8, 6, 4, 9, 9, 1, 7, 9, 7, 0, 1, 6, 5, 7,\n",
      "        3, 2, 1, 5, 3, 3, 2, 1, 0, 2, 0, 3, 9, 0, 8, 2, 5, 9, 8, 4, 4, 9, 6, 7,\n",
      "        3, 0, 4, 0])\n",
      "1050\n",
      "tensor([1, 2, 8, 7, 4, 4, 0, 9, 3, 9, 5, 2, 6, 9, 1, 8, 6, 3, 6, 6, 8, 7, 8, 0,\n",
      "        4, 4, 8, 0, 3, 0, 0, 1, 2, 2, 7, 3, 1, 4, 3, 6, 2, 7, 5, 8, 2, 0, 1, 1,\n",
      "        0, 2, 3, 3, 7, 4, 3, 5, 0, 6, 5, 7, 5, 8, 3, 9, 9, 0, 6, 1, 9, 2, 2, 3,\n",
      "        9, 4, 4, 5, 5, 6, 7, 7, 1, 8, 7, 1, 7, 4, 7, 4, 7, 2, 7, 3, 9, 3, 7, 0,\n",
      "        6, 9, 4, 5])\n",
      "1051\n",
      "tensor([2, 4, 9, 3, 3, 0, 3, 8, 5, 4, 0, 6, 6, 7, 9, 0, 3, 7, 8, 7, 9, 1, 8, 6,\n",
      "        4, 9, 9, 1, 8, 2, 0, 9, 8, 3, 6, 6, 4, 2, 6, 3, 1, 4, 1, 6, 3, 8, 8, 7,\n",
      "        5, 2, 1, 3, 0, 8, 6, 1, 8, 2, 2, 9, 4, 5, 6, 8, 5, 8, 6, 7, 6, 1, 2, 7,\n",
      "        2, 1, 7, 1, 2, 0, 4, 3, 7, 4, 8, 2, 5, 6, 2, 4, 2, 7, 3, 4, 8, 2, 3, 7,\n",
      "        6, 4, 3, 2])\n",
      "1052\n",
      "tensor([9, 9, 2, 2, 5, 7, 4, 9, 5, 2, 7, 8, 5, 6, 1, 1, 7, 0, 8, 6, 2, 8, 1, 5,\n",
      "        9, 5, 6, 0, 2, 5, 6, 3, 1, 5, 8, 9, 1, 7, 7, 4, 9, 8, 0, 9, 7, 6, 0, 9,\n",
      "        5, 3, 8, 0, 6, 0, 0, 6, 8, 3, 4, 0, 5, 5, 1, 8, 8, 9, 7, 1, 8, 8, 7, 1,\n",
      "        8, 6, 6, 0, 7, 0, 0, 1, 4, 2, 4, 3, 8, 4, 1, 5, 0, 6, 0, 7, 3, 8, 4, 9,\n",
      "        9, 0, 5, 1])\n",
      "1053\n",
      "tensor([2, 3, 0, 4, 2, 5, 1, 6, 2, 7, 1, 8, 3, 9, 6, 0, 2, 1, 4, 2, 4, 3, 5, 4,\n",
      "        1, 5, 2, 6, 4, 7, 8, 8, 4, 9, 3, 1, 3, 4, 1, 4, 4, 3, 5, 3, 7, 0, 7, 9,\n",
      "        0, 5, 6, 4, 2, 3, 0, 0, 5, 8, 1, 4, 2, 0, 6, 7, 9, 7, 0, 6, 8, 9, 9, 1,\n",
      "        6, 2, 7, 9, 5, 3, 3, 6, 1, 2, 6, 3, 7, 4, 1, 6, 5, 5, 6, 2, 8, 3, 5, 8,\n",
      "        5, 1, 0, 2])\n",
      "1054\n",
      "tensor([0, 9, 0, 5, 2, 8, 9, 8, 0, 7, 0, 1, 1, 7, 5, 1, 4, 1, 4, 3, 6, 4, 7, 4,\n",
      "        4, 7, 7, 4, 5, 2, 8, 7, 3, 2, 5, 9, 8, 2, 8, 7, 3, 9, 5, 2, 7, 8, 7, 6,\n",
      "        7, 1, 5, 8, 7, 5, 9, 5, 6, 0, 6, 5, 5, 3, 8, 5, 9, 9, 7, 7, 9, 4, 3, 8,\n",
      "        3, 9, 3, 6, 7, 9, 1, 0, 7, 0, 3, 6, 0, 3, 7, 0, 3, 5, 4, 8, 7, 9, 7, 1,\n",
      "        9, 8, 5, 1])\n",
      "1055\n",
      "tensor([1, 0, 1, 0, 2, 1, 5, 2, 2, 3, 9, 4, 6, 5, 7, 6, 4, 7, 7, 8, 6, 0, 4, 1,\n",
      "        1, 2, 2, 3, 2, 4, 8, 5, 4, 6, 8, 7, 6, 8, 4, 9, 2, 0, 2, 1, 7, 2, 4, 3,\n",
      "        3, 4, 3, 6, 4, 7, 5, 8, 0, 8, 6, 2, 7, 6, 7, 9, 4, 6, 3, 1, 9, 9, 9, 9,\n",
      "        5, 9, 1, 4, 0, 4, 8, 3, 3, 8, 0, 1, 6, 4, 8, 1, 0, 2, 6, 5, 3, 0, 1, 9,\n",
      "        1, 4, 4, 9])\n",
      "1056\n",
      "tensor([9, 1, 5, 7, 8, 4, 8, 4, 7, 1, 8, 8, 9, 7, 8, 6, 6, 0, 8, 8, 8, 1, 0, 8,\n",
      "        0, 2, 6, 6, 3, 2, 4, 0, 8, 9, 1, 1, 9, 2, 6, 5, 3, 4, 9, 5, 1, 6, 0, 7,\n",
      "        9, 3, 8, 0, 9, 2, 4, 2, 0, 2, 4, 7, 6, 5, 2, 0, 0, 3, 0, 5, 7, 2, 6, 1,\n",
      "        5, 4, 8, 4, 4, 3, 2, 0, 0, 0, 0, 8, 4, 5, 1, 4, 3, 7, 4, 9, 2, 7, 3, 8,\n",
      "        8, 8, 3, 7])\n",
      "1057\n",
      "tensor([7, 9, 9, 6, 2, 3, 8, 1, 5, 7, 1, 9, 5, 6, 1, 3, 1, 3, 5, 1, 6, 0, 5, 2,\n",
      "        7, 6, 3, 0, 5, 5, 9, 6, 3, 8, 5, 7, 4, 3, 6, 5, 1, 8, 6, 3, 7, 0, 3, 1,\n",
      "        5, 2, 7, 3, 0, 4, 6, 5, 7, 6, 3, 7, 6, 8, 8, 9, 8, 0, 8, 1, 1, 2, 6, 3,\n",
      "        8, 4, 4, 5, 4, 6, 9, 7, 9, 8, 2, 9, 1, 0, 1, 1, 4, 2, 8, 3, 9, 4, 5, 5,\n",
      "        3, 6, 6, 7])\n",
      "1058\n",
      "tensor([5, 8, 7, 9, 5, 0, 0, 8, 2, 7, 4, 8, 4, 9, 9, 9, 2, 0, 5, 1, 6, 4, 0, 5,\n",
      "        6, 1, 7, 6, 4, 7, 0, 3, 1, 2, 9, 9, 2, 0, 5, 5, 0, 6, 7, 7, 3, 3, 1, 9,\n",
      "        7, 9, 9, 3, 8, 8, 7, 1, 9, 2, 3, 9, 4, 6, 2, 7, 3, 5, 3, 6, 8, 3, 1, 5,\n",
      "        4, 0, 3, 5, 3, 4, 5, 0, 8, 3, 7, 4, 9, 7, 5, 7, 1, 9, 0, 4, 0, 3, 5, 7,\n",
      "        7, 6, 4, 2])\n",
      "1059\n",
      "tensor([6, 1, 5, 5, 6, 5, 2, 0, 5, 5, 5, 0, 2, 6, 3, 7, 7, 0, 7, 2, 1, 9, 0, 3,\n",
      "        4, 4, 3, 4, 7, 8, 4, 1, 3, 2, 7, 2, 6, 3, 9, 1, 8, 3, 6, 6, 4, 7, 8, 3,\n",
      "        4, 9, 2, 6, 2, 5, 4, 1, 6, 9, 5, 8, 3, 1, 3, 1, 4, 5, 3, 0, 8, 2, 9, 7,\n",
      "        2, 8, 3, 6, 4, 6, 9, 8, 5, 4, 2, 4, 6, 2, 0, 2, 1, 8, 4, 0, 9, 0, 6, 1,\n",
      "        2, 2, 3, 3])\n",
      "1060\n",
      "tensor([1, 8, 5, 9, 8, 0, 3, 1, 3, 2, 1, 4, 3, 5, 5, 6, 1, 7, 9, 8, 1, 9, 6, 0,\n",
      "        5, 1, 8, 2, 7, 3, 7, 4, 5, 5, 7, 6, 5, 7, 5, 8, 2, 9, 7, 3, 6, 5, 1, 3,\n",
      "        1, 2, 0, 9, 7, 3, 5, 2, 8, 1, 7, 4, 4, 5, 9, 5, 7, 2, 7, 3, 8, 2, 8, 1,\n",
      "        4, 3, 7, 9, 7, 7, 9, 2, 4, 1, 8, 2, 4, 8, 7, 9, 2, 1, 9, 8, 9, 8, 4, 7,\n",
      "        7, 8, 6, 1])\n",
      "1061\n",
      "tensor([2, 0, 9, 0, 2, 6, 4, 7, 5, 7, 1, 7, 7, 5, 1, 6, 5, 1, 9, 5, 2, 7, 4, 1,\n",
      "        0, 2, 8, 5, 5, 0, 6, 7, 7, 9, 3, 9, 3, 0, 1, 3, 0, 8, 4, 4, 6, 8, 4, 4,\n",
      "        6, 1, 4, 8, 9, 6, 2, 5, 9, 9, 0, 0, 7, 0, 6, 0, 3, 3, 9, 7, 2, 1, 8, 6,\n",
      "        6, 4, 0, 2, 0, 6, 9, 6, 8, 0, 6, 4, 4, 5, 6, 4, 2, 1, 4, 3, 1, 8, 8, 6,\n",
      "        7, 3, 3, 9])\n",
      "1062\n",
      "tensor([5, 9, 5, 5, 3, 9, 5, 3, 1, 7, 6, 6, 9, 2, 5, 2, 9, 0, 7, 0, 7, 1, 2, 2,\n",
      "        5, 3, 1, 4, 3, 5, 9, 6, 6, 7, 3, 8, 0, 9, 9, 0, 6, 1, 9, 2, 4, 3, 5, 4,\n",
      "        0, 5, 8, 6, 1, 7, 8, 8, 0, 9, 4, 0, 3, 1, 5, 2, 2, 3, 7, 4, 4, 5, 9, 9,\n",
      "        7, 1, 7, 3, 4, 5, 1, 9, 4, 4, 2, 1, 8, 7, 8, 7, 3, 2, 8, 1, 9, 4, 7, 8,\n",
      "        8, 3, 2, 8])\n",
      "1063\n",
      "tensor([9, 2, 4, 9, 9, 3, 5, 8, 1, 5, 5, 4, 2, 8, 5, 8, 4, 9, 0, 4, 4, 3, 8, 9,\n",
      "        3, 2, 1, 5, 1, 7, 4, 4, 0, 1, 4, 2, 1, 3, 1, 5, 2, 9, 6, 1, 5, 6, 7, 0,\n",
      "        9, 1, 4, 0, 0, 0, 7, 2, 7, 8, 6, 7, 5, 2, 0, 5, 4, 1, 5, 1, 5, 8, 5, 5,\n",
      "        2, 6, 1, 4, 4, 0, 8, 4, 4, 7, 7, 3, 1, 6, 8, 8, 0, 0, 7, 3, 7, 7, 2, 4,\n",
      "        8, 0, 3, 6])\n",
      "1064\n",
      "tensor([4, 9, 8, 2, 0, 6, 4, 5, 9, 8, 7, 6, 8, 9, 9, 0, 7, 4, 7, 0, 3, 6, 4, 1,\n",
      "        0, 9, 7, 2, 8, 0, 8, 9, 7, 5, 3, 1, 0, 3, 7, 7, 4, 6, 9, 9, 0, 4, 6, 8,\n",
      "        3, 3, 0, 7, 4, 7, 0, 6, 1, 3, 9, 0, 0, 5, 7, 6, 9, 2, 9, 2, 5, 0, 1, 1,\n",
      "        7, 2, 3, 3, 5, 4, 9, 5, 9, 6, 7, 7, 4, 8, 9, 9, 3, 0, 1, 1, 3, 2, 9, 3,\n",
      "        4, 4, 2, 5])\n",
      "1065\n",
      "tensor([7, 6, 8, 7, 3, 8, 1, 9, 2, 0, 7, 1, 0, 2, 2, 3, 4, 5, 7, 6, 6, 7, 0, 8,\n",
      "        3, 8, 6, 9, 3, 5, 0, 7, 4, 0, 7, 3, 8, 1, 1, 4, 2, 1, 7, 7, 8, 6, 7, 5,\n",
      "        6, 6, 4, 4, 6, 2, 5, 7, 0, 8, 2, 1, 8, 3, 6, 4, 4, 3, 5, 7, 6, 2, 0, 5,\n",
      "        1, 0, 3, 1, 1, 9, 3, 2, 9, 3, 6, 2, 1, 3, 5, 5, 7, 5, 2, 7, 6, 8, 8, 4,\n",
      "        4, 9, 2, 9])\n",
      "1066\n",
      "tensor([8, 7, 1, 1, 7, 1, 0, 9, 0, 0, 1, 7, 2, 8, 2, 3, 3, 8, 9, 6, 4, 3, 9, 8,\n",
      "        3, 0, 0, 9, 8, 6, 5, 2, 6, 1, 9, 0, 8, 1, 7, 0, 7, 6, 4, 2, 1, 3, 4, 8,\n",
      "        4, 9, 7, 0, 7, 7, 3, 2, 1, 3, 5, 4, 1, 5, 0, 5, 2, 2, 5, 8, 1, 5, 7, 4,\n",
      "        8, 6, 0, 6, 4, 6, 6, 7, 7, 9, 2, 1, 9, 8, 0, 2, 1, 1, 9, 2, 6, 6, 7, 5,\n",
      "        1, 3, 4, 4])\n",
      "1067\n",
      "tensor([4, 7, 9, 9, 0, 4, 6, 0, 9, 0, 8, 5, 5, 9, 1, 0, 8, 1, 6, 2, 5, 3, 7, 4,\n",
      "        0, 5, 9, 6, 1, 7, 3, 8, 5, 9, 1, 0, 6, 1, 3, 2, 4, 3, 9, 4, 1, 5, 6, 6,\n",
      "        5, 7, 1, 8, 2, 9, 3, 0, 7, 1, 4, 2, 9, 3, 2, 4, 1, 5, 0, 6, 1, 7, 4, 8,\n",
      "        1, 9, 9, 0, 3, 0, 0, 1, 7, 0, 5, 1, 4, 2, 5, 7, 9, 5, 6, 3, 9, 4, 7, 2,\n",
      "        6, 4, 7, 4])\n",
      "1068\n",
      "tensor([9, 0, 4, 0, 5, 6, 7, 9, 4, 6, 1, 6, 5, 5, 7, 7, 7, 3, 4, 2, 3, 2, 7, 3,\n",
      "        2, 4, 4, 4, 7, 9, 6, 1, 7, 4, 1, 0, 1, 7, 5, 9, 6, 7, 8, 5, 7, 6, 7, 2,\n",
      "        2, 3, 7, 1, 5, 4, 6, 4, 4, 0, 8, 9, 5, 9, 6, 6, 2, 1, 8, 8, 0, 3, 1, 3,\n",
      "        8, 7, 8, 3, 2, 9, 6, 8, 7, 8, 1, 9, 9, 6, 4, 8, 7, 8, 5, 8, 7, 4, 8, 7,\n",
      "        9, 7, 5, 6])\n",
      "1069\n",
      "tensor([7, 2, 1, 1, 6, 9, 9, 8, 0, 7, 1, 8, 1, 8, 0, 7, 6, 2, 6, 2, 7, 3, 2, 9,\n",
      "        7, 3, 2, 3, 5, 0, 9, 7, 7, 9, 3, 5, 6, 6, 5, 5, 0, 0, 0, 6, 9, 1, 4, 5,\n",
      "        9, 0, 0, 4, 8, 1, 0, 1, 8, 2, 4, 8, 1, 2, 5, 6, 6, 1, 3, 5, 0, 0, 4, 1,\n",
      "        6, 2, 3, 3, 8, 4, 8, 5, 1, 6, 5, 7, 0, 8, 1, 9, 6, 0, 5, 1, 7, 2, 3, 3,\n",
      "        9, 4, 2, 5])\n",
      "1070\n",
      "tensor([0, 8, 4, 0, 3, 1, 9, 2, 9, 3, 6, 4, 6, 5, 1, 6, 3, 7, 9, 8, 0, 8, 1, 6,\n",
      "        9, 5, 4, 0, 5, 6, 8, 8, 7, 9, 0, 4, 6, 1, 8, 9, 3, 0, 8, 4, 7, 8, 1, 9,\n",
      "        7, 1, 9, 4, 9, 0, 8, 5, 3, 1, 1, 4, 8, 0, 8, 7, 0, 6, 7, 0, 0, 1, 8, 7,\n",
      "        9, 0, 7, 6, 4, 8, 7, 9, 8, 5, 4, 7, 8, 9, 2, 8, 5, 6, 8, 0, 0, 8, 1, 1,\n",
      "        2, 7, 7, 7])\n",
      "1071\n",
      "tensor([9, 1, 4, 3, 2, 2, 5, 3, 8, 1, 7, 4, 2, 2, 4, 0, 8, 0, 8, 7, 0, 8, 6, 4,\n",
      "        5, 6, 4, 4, 5, 9, 2, 3, 5, 8, 7, 4, 5, 7, 6, 2, 6, 3, 2, 6, 4, 9, 4, 6,\n",
      "        9, 3, 7, 2, 9, 2, 0, 4, 5, 6, 6, 9, 1, 0, 0, 2, 8, 5, 3, 5, 5, 1, 1, 3,\n",
      "        3, 3, 8, 9, 0, 7, 7, 8, 5, 7, 5, 2, 4, 2, 0, 9, 7, 8, 1, 2, 1, 1, 3, 3,\n",
      "        7, 1, 6, 3])\n",
      "1072\n",
      "tensor([8, 0, 0, 1, 7, 2, 9, 3, 4, 4, 8, 5, 8, 6, 0, 7, 8, 8, 6, 9, 1, 0, 1, 1,\n",
      "        4, 2, 6, 3, 4, 4, 7, 5, 5, 6, 5, 7, 9, 8, 8, 9, 5, 0, 5, 1, 8, 2, 9, 3,\n",
      "        5, 4, 1, 5, 0, 6, 6, 7, 5, 8, 9, 9, 6, 0, 2, 8, 3, 3, 1, 9, 1, 5, 2, 5,\n",
      "        1, 2, 9, 6, 8, 8, 3, 4, 7, 9, 7, 1, 2, 7, 7, 1, 0, 2, 9, 3, 7, 5, 9, 9,\n",
      "        0, 6, 0, 9])\n",
      "1073\n",
      "tensor([3, 1, 5, 1, 8, 1, 3, 2, 3, 9, 1, 5, 3, 6, 6, 8, 8, 1, 8, 2, 5, 0, 1, 7,\n",
      "        8, 7, 0, 5, 4, 8, 5, 2, 8, 9, 7, 8, 3, 7, 2, 1, 1, 3, 2, 4, 7, 5, 6, 6,\n",
      "        8, 0, 7, 3, 8, 6, 4, 8, 0, 7, 2, 0, 6, 4, 1, 2, 0, 7, 2, 7, 4, 5, 4, 4,\n",
      "        7, 3, 9, 4, 7, 2, 1, 8, 7, 1, 4, 5, 0, 1, 7, 2, 2, 4, 0, 3, 8, 0, 2, 0,\n",
      "        3, 0, 2, 3])\n",
      "1074\n",
      "tensor([1, 3, 3, 5, 8, 7, 9, 0, 0, 6, 1, 8, 1, 6, 7, 3, 2, 4, 1, 6, 0, 9, 4, 9,\n",
      "        3, 8, 3, 2, 9, 7, 1, 7, 9, 1, 8, 0, 1, 1, 6, 2, 1, 3, 2, 4, 9, 7, 2, 8,\n",
      "        2, 9, 8, 0, 9, 1, 1, 2, 6, 3, 7, 4, 1, 5, 5, 6, 1, 7, 4, 8, 3, 9, 5, 0,\n",
      "        3, 1, 3, 2, 9, 3, 2, 7, 5, 8, 4, 9, 8, 7, 0, 9, 3, 5, 6, 0, 3, 8, 0, 3,\n",
      "        2, 5, 6, 4])\n",
      "1075\n",
      "tensor([2, 8, 7, 2, 7, 1, 2, 0, 6, 2, 5, 5, 7, 8, 6, 8, 1, 1, 6, 6, 2, 1, 3, 3,\n",
      "        4, 0, 7, 3, 5, 6, 4, 9, 8, 3, 7, 7, 0, 4, 4, 9, 7, 7, 0, 0, 4, 9, 7, 7,\n",
      "        4, 7, 7, 9, 1, 5, 6, 7, 7, 6, 0, 4, 7, 8, 8, 9, 7, 6, 5, 9, 3, 4, 7, 1,\n",
      "        7, 2, 2, 0, 7, 6, 6, 1, 8, 7, 4, 2, 3, 4, 0, 6, 2, 4, 9, 6, 2, 5, 3, 0,\n",
      "        8, 2, 3, 1])\n",
      "1076\n",
      "tensor([7, 0, 8, 1, 2, 2, 2, 1, 3, 7, 5, 8, 3, 1, 1, 2, 8, 8, 8, 2, 2, 7, 6, 9,\n",
      "        2, 3, 2, 9, 2, 0, 4, 1, 2, 2, 0, 3, 9, 4, 9, 5, 8, 6, 0, 7, 1, 0, 7, 1,\n",
      "        8, 2, 0, 3, 7, 7, 2, 8, 6, 9, 2, 0, 3, 1, 5, 7, 8, 8, 8, 9, 8, 2, 9, 5,\n",
      "        7, 1, 9, 6, 7, 4, 8, 3, 3, 9, 0, 9, 1, 0, 0, 4, 9, 3, 4, 6, 7, 0, 2, 0,\n",
      "        8, 8, 3, 9])\n",
      "1077\n",
      "tensor([0, 8, 7, 7, 4, 0, 4, 0, 4, 4, 5, 1, 4, 4, 1, 1, 2, 3, 7, 6, 0, 4, 1, 7,\n",
      "        4, 7, 2, 0, 9, 9, 0, 8, 9, 4, 3, 3, 8, 8, 1, 3, 1, 8, 6, 5, 9, 8, 0, 4,\n",
      "        7, 1, 3, 7, 2, 9, 6, 2, 6, 0, 6, 9, 0, 1, 3, 7, 6, 3, 3, 8, 5, 0, 6, 3,\n",
      "        8, 8, 7, 1, 9, 6, 1, 4, 1, 3, 9, 6, 0, 1, 9, 5, 3, 5, 2, 6, 7, 5, 9, 0,\n",
      "        9, 1, 0, 2])\n",
      "1078\n",
      "tensor([8, 3, 6, 4, 3, 5, 3, 6, 2, 7, 0, 0, 5, 1, 5, 2, 1, 3, 5, 4, 3, 5, 0, 6,\n",
      "        5, 7, 8, 0, 7, 1, 1, 2, 8, 3, 1, 4, 7, 5, 2, 7, 4, 4, 6, 0, 4, 4, 6, 0,\n",
      "        5, 1, 6, 7, 5, 5, 9, 1, 3, 4, 7, 2, 6, 4, 4, 3, 3, 1, 7, 7, 3, 8, 8, 2,\n",
      "        3, 4, 9, 4, 2, 3, 2, 3, 9, 6, 0, 6, 7, 7, 3, 0, 1, 2, 2, 6, 4, 3, 2, 9,\n",
      "        9, 3, 8, 2])\n",
      "1079\n",
      "tensor([5, 8, 5, 1, 2, 7, 1, 0, 2, 3, 2, 2, 0, 9, 3, 4, 0, 0, 8, 3, 3, 7, 8, 7,\n",
      "        0, 7, 5, 7, 2, 1, 2, 1, 3, 2, 4, 6, 2, 4, 4, 2, 4, 3, 5, 6, 5, 6, 4, 5,\n",
      "        1, 7, 4, 5, 3, 2, 6, 8, 2, 1, 7, 6, 1, 1, 0, 0, 2, 4, 2, 3, 1, 1, 7, 6,\n",
      "        4, 1, 3, 9, 2, 0, 7, 1, 7, 2, 5, 3, 8, 4, 9, 5, 8, 6, 3, 7, 2, 8, 6, 0,\n",
      "        7, 1, 1, 2])\n",
      "1080\n",
      "tensor([2, 3, 0, 4, 9, 5, 9, 6, 1, 7, 6, 8, 0, 9, 0, 0, 6, 1, 4, 2, 8, 3, 1, 4,\n",
      "        8, 5, 2, 6, 8, 7, 2, 8, 2, 1, 9, 0, 0, 4, 0, 5, 5, 6, 7, 6, 2, 3, 8, 4,\n",
      "        3, 4, 6, 1, 1, 0, 9, 6, 1, 4, 8, 9, 2, 7, 0, 2, 3, 3, 4, 3, 2, 9, 8, 2,\n",
      "        1, 0, 0, 9, 9, 3, 7, 3, 3, 9, 1, 1, 3, 5, 3, 2, 9, 3, 7, 1, 7, 6, 7, 7,\n",
      "        9, 3, 2, 7])\n",
      "1081\n",
      "tensor([8, 4, 0, 2, 2, 4, 7, 8, 0, 7, 0, 6, 9, 3, 2, 6, 0, 5, 7, 5, 1, 0, 8, 1,\n",
      "        6, 7, 2, 9, 7, 9, 5, 8, 9, 6, 5, 2, 6, 2, 8, 1, 7, 5, 5, 7, 3, 5, 0, 1,\n",
      "        1, 3, 8, 4, 9, 4, 5, 1, 8, 6, 8, 9, 0, 1, 2, 3, 4, 5, 6, 7, 8, 9, 0, 1,\n",
      "        2, 3, 4, 5, 6, 7, 8, 9, 0, 1, 2, 3, 4, 7, 8, 9, 7, 1, 5, 6, 2, 5, 4, 8,\n",
      "        1, 7, 1, 8])\n",
      "1082\n",
      "tensor([3, 8, 7, 1, 7, 7, 0, 1, 4, 4, 4, 4, 4, 9, 7, 2, 6, 5, 4, 3, 8, 7, 9, 0,\n",
      "        6, 4, 6, 3, 7, 0, 1, 4, 8, 8, 1, 2, 9, 3, 1, 8, 4, 2, 9, 9, 2, 9, 6, 0,\n",
      "        5, 3, 3, 6, 3, 1, 2, 5, 0, 3, 7, 6, 1, 5, 5, 9, 9, 0, 1, 2, 3, 4, 5, 6,\n",
      "        7, 8, 9, 0, 1, 2, 3, 4, 5, 6, 7, 8, 9, 0, 1, 2, 3, 4, 5, 6, 7, 8, 9, 6,\n",
      "        8, 2, 3, 7])\n",
      "1083\n",
      "tensor([4, 6, 8, 6, 6, 8, 0, 1, 7, 1, 7, 3, 5, 0, 2, 2, 0, 2, 5, 4, 1, 5, 1, 2,\n",
      "        3, 4, 8, 3, 3, 6, 5, 9, 9, 3, 8, 1, 3, 7, 9, 3, 4, 1, 7, 3, 9, 6, 7, 4,\n",
      "        9, 7, 0, 9, 6, 0, 6, 1, 0, 5, 8, 5, 0, 1, 0, 9, 4, 5, 9, 7, 1, 9, 6, 8,\n",
      "        9, 2, 8, 5, 0, 1, 2, 3, 4, 5, 6, 7, 8, 9, 0, 1, 2, 3, 4, 5, 6, 7, 8, 9,\n",
      "        0, 1, 2, 3])\n",
      "1084\n",
      "tensor([4, 9, 0, 5, 6, 8, 3, 9, 0, 2, 3, 3, 3, 9, 5, 6, 4, 4, 2, 5, 4, 3, 9, 6,\n",
      "        8, 7, 9, 1, 5, 2, 6, 3, 4, 4, 1, 6, 4, 9, 6, 5, 1, 2, 6, 6, 7, 8, 8, 1,\n",
      "        8, 3, 7, 1, 2, 7, 0, 7, 5, 0, 0, 1, 5, 0, 0, 4, 8, 3, 1, 8, 2, 9, 9, 5,\n",
      "        2, 6, 4, 8, 2, 5, 4, 1, 7, 1, 4, 3, 9, 7, 1, 2, 6, 0, 7, 3, 0, 1, 2, 3,\n",
      "        4, 7, 8, 9])\n",
      "1085\n",
      "tensor([0, 1, 2, 3, 4, 5, 6, 7, 8, 9, 0, 1, 2, 3, 4, 5, 6, 7, 8, 9, 7, 0, 6, 0,\n",
      "        7, 3, 7, 3, 7, 9, 7, 4, 0, 2, 6, 5, 6, 5, 2, 9, 5, 3, 9, 8, 3, 4, 0, 5,\n",
      "        4, 6, 3, 4, 8, 0, 6, 4, 8, 1, 3, 4, 0, 1, 9, 2, 3, 7, 9, 1, 2, 5, 1, 7,\n",
      "        2, 8, 7, 0, 1, 9, 6, 4, 1, 2, 3, 7, 0, 2, 1, 3, 1, 7, 2, 1, 6, 8, 0, 8,\n",
      "        9, 1, 6, 0])\n",
      "1086\n",
      "tensor([1, 2, 3, 4, 5, 6, 7, 8, 9, 0, 1, 2, 3, 4, 7, 8, 9, 0, 1, 2, 3, 4, 5, 6,\n",
      "        7, 8, 6, 4, 2, 6, 4, 7, 5, 5, 4, 7, 8, 9, 2, 9, 3, 9, 3, 8, 2, 0, 5, 0,\n",
      "        7, 0, 4, 2, 6, 5, 3, 5, 3, 8, 0, 0, 3, 4, 1, 5, 3, 0, 8, 3, 0, 6, 2, 7,\n",
      "        1, 1, 8, 1, 7, 1, 3, 8, 9, 7, 6, 7, 4, 1, 6, 7, 5, 1, 7, 1, 9, 8, 0, 6,\n",
      "        9, 4, 9, 9])\n",
      "1087\n",
      "tensor([3, 7, 1, 9, 2, 2, 5, 3, 7, 8, 2, 3, 4, 5, 6, 7, 8, 9, 0, 1, 2, 3, 4, 5,\n",
      "        6, 7, 0, 1, 2, 3, 4, 5, 6, 7, 8, 9, 8, 1, 0, 5, 5, 1, 9, 0, 4, 1, 9, 3,\n",
      "        8, 4, 7, 7, 8, 5, 0, 6, 5, 5, 3, 3, 3, 9, 8, 1, 4, 0, 6, 1, 0, 0, 6, 2,\n",
      "        1, 1, 3, 2, 8, 8, 7, 8, 4, 6, 0, 2, 0, 3, 6, 8, 7, 1, 5, 9, 9, 3, 2, 4,\n",
      "        9, 4, 6, 5])\n",
      "1088\n",
      "tensor([3, 2, 5, 5, 9, 4, 1, 6, 5, 0, 1, 2, 3, 4, 5, 6, 7, 8, 9, 0, 1, 2, 3, 4,\n",
      "        5, 6, 7, 8, 9, 0, 1, 2, 3, 4, 5, 6, 7, 8, 9, 6, 4, 2, 6, 4, 7, 5, 5, 4,\n",
      "        7, 8, 9, 2, 9, 3, 9, 3, 8, 2, 0, 9, 8, 0, 5, 6, 0, 1, 0, 4, 2, 6, 5, 5,\n",
      "        5, 4, 3, 4, 1, 5, 3, 0, 8, 3, 0, 6, 2, 7, 1, 1, 8, 1, 7, 1, 3, 8, 5, 4,\n",
      "        2, 0, 9, 7])\n",
      "1089\n",
      "tensor([6, 7, 4, 1, 6, 8, 4, 7, 5, 1, 2, 6, 7, 1, 9, 8, 0, 6, 9, 4, 9, 9, 6, 2,\n",
      "        3, 7, 1, 9, 2, 2, 5, 3, 7, 8, 0, 1, 2, 3, 4, 5, 6, 7, 8, 0, 1, 2, 3, 4,\n",
      "        5, 6, 7, 8, 0, 1, 2, 3, 4, 5, 6, 7, 8, 9, 2, 1, 2, 1, 3, 9, 9, 8, 5, 3,\n",
      "        7, 0, 7, 7, 5, 7, 9, 9, 4, 7, 0, 3, 4, 1, 4, 4, 7, 5, 8, 1, 4, 8, 4, 1,\n",
      "        8, 6, 6, 4])\n",
      "1090\n",
      "tensor([6, 3, 5, 7, 2, 5, 9, 2, 6, 2, 1, 2, 0, 8, 3, 8, 3, 0, 8, 7, 4, 9, 5, 0,\n",
      "        9, 7, 4, 9, 1, 6, 2, 7, 6, 1, 8, 6, 1, 0, 3, 6, 2, 1, 4, 0, 1, 2, 3, 4,\n",
      "        7, 8, 9, 0, 1, 2, 3, 4, 7, 8, 9, 0, 1, 2, 3, 4, 5, 6, 7, 8, 7, 4, 3, 1,\n",
      "        8, 6, 1, 9, 2, 4, 0, 9, 9, 3, 7, 7, 9, 1, 8, 4, 7, 5, 8, 5, 3, 2, 2, 0,\n",
      "        5, 8, 6, 0])\n",
      "1091\n",
      "tensor([3, 8, 1, 0, 3, 0, 4, 7, 4, 9, 2, 9, 1, 2, 1, 7, 1, 6, 7, 3, 3, 6, 2, 8,\n",
      "        7, 6, 4, 9, 8, 8, 2, 9, 6, 5, 5, 9, 5, 3, 7, 4, 7, 6, 0, 0, 4, 6, 6, 9,\n",
      "        0, 1, 1, 3, 2, 1, 0, 0, 1, 2, 3, 4, 5, 6, 7, 8, 9, 0, 1, 2, 3, 4, 5, 6,\n",
      "        7, 8, 9, 0, 1, 2, 3, 4, 5, 6, 7, 8, 9, 4, 2, 0, 2, 1, 5, 9, 6, 5, 9, 3,\n",
      "        5, 0, 7, 1])\n",
      "1092\n",
      "tensor([1, 5, 3, 0, 7, 9, 6, 1, 6, 7, 4, 9, 5, 7, 9, 8, 5, 6, 2, 4, 8, 9, 2, 2,\n",
      "        8, 0, 6, 4, 3, 3, 1, 2, 4, 1, 5, 8, 9, 6, 9, 3, 4, 0, 3, 9, 0, 2, 7, 1,\n",
      "        1, 0, 7, 6, 2, 2, 7, 6, 0, 6, 9, 4, 8, 4, 3, 3, 7, 8, 1, 0, 4, 5, 8, 3,\n",
      "        0, 6, 8, 3, 7, 8, 5, 7, 8, 2, 3, 4, 6, 7, 8, 9, 0, 1, 2, 5, 6, 7, 8, 9,\n",
      "        0, 1, 2, 3])\n",
      "1093\n",
      "tensor([4, 5, 6, 8, 7, 5, 7, 3, 3, 8, 6, 5, 4, 0, 9, 3, 2, 2, 3, 0, 6, 4, 3, 7,\n",
      "        6, 9, 2, 2, 3, 5, 5, 0, 7, 2, 3, 4, 0, 0, 5, 1, 8, 9, 0, 8, 9, 6, 5, 6,\n",
      "        7, 5, 3, 5, 3, 0, 1, 2, 3, 4, 5, 6, 7, 8, 9, 0, 1, 2, 3, 4, 5, 6, 7, 9,\n",
      "        0, 1, 2, 3, 4, 5, 6, 7, 8, 9, 1, 3, 5, 9, 4, 1, 7, 7, 2, 1, 4, 8, 3, 8,\n",
      "        2, 9, 3, 8])\n",
      "1094\n",
      "tensor([5, 4, 8, 8, 9, 7, 5, 4, 3, 9, 2, 5, 7, 4, 1, 2, 3, 6, 0, 1, 0, 0, 2, 8,\n",
      "        7, 2, 5, 1, 1, 8, 5, 6, 4, 0, 4, 7, 3, 6, 8, 0, 3, 7, 6, 9, 2, 6, 5, 8,\n",
      "        6, 9, 0, 4, 0, 6, 1, 9, 2, 0, 9, 5, 1, 3, 7, 6, 9, 4, 8, 3, 7, 7, 6, 3,\n",
      "        0, 5, 6, 2, 2, 0, 1, 2, 3, 4, 5, 6, 7, 8, 9, 0, 1, 2, 3, 4, 5, 6, 7, 8,\n",
      "        9, 0, 1, 2])\n",
      "1095\n",
      "tensor([3, 4, 5, 6, 7, 8, 9, 5, 6, 6, 0, 8, 3, 7, 9, 4, 7, 1, 9, 1, 7, 1, 4, 1,\n",
      "        7, 5, 7, 1, 3, 3, 1, 6, 9, 7, 4, 3, 0, 2, 5, 2, 6, 0, 8, 4, 8, 1, 5, 0,\n",
      "        6, 6, 3, 4, 7, 5, 7, 2, 2, 0, 0, 1, 7, 7, 9, 5, 9, 8, 9, 6, 8, 3, 6, 1,\n",
      "        2, 9, 5, 2, 5, 2, 6, 2, 4, 8, 4, 6, 5, 0, 1, 2, 3, 4, 5, 6, 7, 8, 9, 0,\n",
      "        1, 2, 3, 4])\n",
      "1096\n",
      "tensor([5, 6, 7, 8, 9, 0, 1, 2, 4, 5, 6, 7, 8, 0, 4, 0, 1, 7, 5, 1, 4, 2, 8, 4,\n",
      "        3, 1, 7, 8, 2, 4, 3, 3, 6, 9, 9, 5, 8, 6, 7, 0, 6, 2, 6, 3, 9, 1, 7, 4,\n",
      "        8, 8, 9, 0, 3, 0, 5, 2, 9, 4, 1, 0, 3, 7, 5, 8, 7, 7, 8, 2, 9, 5, 5, 1,\n",
      "        2, 6, 4, 2, 5, 2, 3, 6, 0, 0, 7, 5, 2, 8, 1, 6, 1, 0, 4, 3, 1, 6, 1, 9,\n",
      "        0, 1, 2, 3])\n",
      "1097\n",
      "tensor([4, 5, 6, 7, 0, 1, 2, 3, 4, 6, 7, 8, 0, 1, 2, 3, 4, 7, 8, 9, 2, 2, 4, 0,\n",
      "        7, 3, 5, 4, 1, 8, 0, 5, 2, 7, 2, 3, 6, 2, 1, 7, 7, 9, 2, 4, 6, 7, 7, 5,\n",
      "        9, 9, 1, 8, 6, 4, 6, 0, 9, 2, 6, 4, 3, 9, 0, 8, 8, 9, 4, 7, 1, 3, 6, 9,\n",
      "        4, 1, 7, 6, 9, 3, 3, 7, 4, 1, 9, 1, 0, 6, 0, 1, 2, 4, 5, 6, 7, 8, 9, 0,\n",
      "        1, 2, 3, 4])\n",
      "1098\n",
      "tensor([5, 6, 7, 8, 9, 0, 1, 2, 3, 4, 5, 6, 7, 8, 9, 3, 2, 9, 3, 2, 1, 4, 5, 5,\n",
      "        2, 3, 2, 1, 3, 9, 7, 2, 1, 2, 8, 9, 1, 8, 8, 7, 0, 6, 7, 7, 8, 7, 5, 0,\n",
      "        6, 1, 5, 7, 4, 6, 1, 2, 7, 9, 9, 0, 3, 8, 4, 4, 1, 8, 6, 5, 0, 0, 3, 7,\n",
      "        1, 6, 4, 2, 6, 6, 0, 4, 5, 4, 1, 3, 8, 6, 3, 9, 9, 5, 9, 3, 6, 4, 7, 6,\n",
      "        2, 2, 0, 9])\n",
      "1099\n",
      "tensor([4, 0, 1, 2, 3, 4, 5, 6, 7, 8, 9, 0, 1, 2, 3, 4, 8, 9, 0, 1, 2, 3, 4, 5,\n",
      "        6, 7, 8, 9, 6, 0, 3, 4, 1, 4, 0, 7, 8, 7, 7, 9, 0, 4, 9, 4, 0, 5, 8, 5,\n",
      "        9, 8, 8, 4, 0, 7, 1, 3, 5, 3, 1, 6, 5, 3, 8, 7, 3, 1, 6, 8, 5, 9, 2, 2,\n",
      "        0, 9, 2, 4, 6, 7, 3, 1, 3, 6, 6, 2, 1, 2, 6, 0, 7, 8, 9, 2, 9, 5, 1, 8,\n",
      "        3, 5, 6, 8])\n",
      "1100\n"
     ]
    }
   ],
   "source": [
    "train_dl = DataLoader(train_ds, bs)\n",
    "valid_dl = DataLoader(valid_ds, 100)\n",
    "#len(valid_dl)\n",
    "cnt = 0\n",
    "for x, y in valid_dl:\n",
    "    print(y)\n",
    "    cnt += 1\n",
    "    print(cnt)\n",
    "cnt = 0\n",
    "for x, y in valid_dl:\n",
    "    print(y)\n",
    "    cnt += 1\n",
    "    print(1000+cnt)"
   ]
  },
  {
   "cell_type": "code",
   "execution_count": 117,
   "metadata": {},
   "outputs": [],
   "source": [
    "xb,yb = next(iter(valid_dl))\n",
    "assert xb.shape==(bs,28*28)\n",
    "assert yb.shape==(bs,)"
   ]
  },
  {
   "cell_type": "code",
   "execution_count": 118,
   "metadata": {},
   "outputs": [
    {
     "data": {
      "text/plain": [
       "tensor(3)"
      ]
     },
     "execution_count": 118,
     "metadata": {},
     "output_type": "execute_result"
    },
    {
     "data": {
      "image/png": "[encoded data removed]",
      "text/plain": [
       "<Figure size 432x288 with 1 Axes>"
      ]
     },
     "metadata": {
      "needs_background": "light"
     },
     "output_type": "display_data"
    }
   ],
   "source": [
    "plt.imshow(xb[0].view(28,28))\n",
    "yb[0]"
   ]
  },
  {
   "cell_type": "code",
   "execution_count": 119,
   "metadata": {},
   "outputs": [],
   "source": [
    "model,opt = get_model()"
   ]
  },
  {
   "cell_type": "code",
   "execution_count": 124,
   "metadata": {},
   "outputs": [],
   "source": [
    "epochs = 5\n",
    "\n",
    "def fit():\n",
    "    for epoch in range(epochs):\n",
    "        for xb,yb in train_dl:\n",
    "            pred = model(xb)\n",
    "            loss = loss_func(pred, yb)\n",
    "            loss.backward()\n",
    "            opt.step()\n",
    "            opt.zero_grad()\n",
    "        print(\"Training ac, epoch: \" + str( epoch ) + \" loss: \" +str(loss))"
   ]
  },
  {
   "cell_type": "code",
   "execution_count": 125,
   "metadata": {},
   "outputs": [
    {
     "name": "stdout",
     "output_type": "stream",
     "text": [
      "Training ac, epoch: 0 loss: tensor(0.0324, grad_fn=<NllLossBackward>)\n",
      "Training ac, epoch: 1 loss: tensor(0.0124, grad_fn=<NllLossBackward>)\n",
      "Training ac, epoch: 2 loss: tensor(0.0129, grad_fn=<NllLossBackward>)\n",
      "Training ac, epoch: 3 loss: tensor(0.0096, grad_fn=<NllLossBackward>)\n",
      "Training ac, epoch: 4 loss: tensor(0.0051, grad_fn=<NllLossBackward>)\n"
     ]
    }
   ],
   "source": [
    "fit()"
   ]
  },
  {
   "cell_type": "code",
   "execution_count": 81,
   "metadata": {},
   "outputs": [
    {
     "data": {
      "text/plain": [
       "(tensor(0.1123, grad_fn=<NllLossBackward>), tensor(0.9844))"
      ]
     },
     "execution_count": 81,
     "metadata": {},
     "output_type": "execute_result"
    }
   ],
   "source": [
    "loss,acc = loss_func(model(xb), yb), accuracy(model(xb), yb)\n",
    "assert acc>0.7\n",
    "loss,acc"
   ]
  },
  {
   "cell_type": "markdown",
   "metadata": {},
   "source": [
    "### Random sampling"
   ]
  },
  {
   "cell_type": "markdown",
   "metadata": {},
   "source": [
    "We want our training set to be in a random order, and that order should differ each iteration. But the validation set shouldn't be randomized."
   ]
  },
  {
   "cell_type": "markdown",
   "metadata": {},
   "source": [
    "[Jump_to lesson 9 video](https://course.fast.ai/videos/?lesson=9&t=3942)"
   ]
  },
  {
   "cell_type": "code",
   "execution_count": 82,
   "metadata": {},
   "outputs": [],
   "source": [
    "class Sampler():\n",
    "    def __init__(self, ds, bs, shuffle=False):\n",
    "        self.n,self.bs,self.shuffle = len(ds),bs,shuffle\n",
    "        \n",
    "    def __iter__(self):\n",
    "        self.idxs = torch.randperm(self.n) if self.shuffle else torch.arange(self.n)\n",
    "        for i in range(0, self.n, self.bs): yield self.idxs[i:i+self.bs]"
   ]
  },
  {
   "cell_type": "code",
   "execution_count": 83,
   "metadata": {},
   "outputs": [],
   "source": [
    "small_ds = Dataset(*train_ds[:10])"
   ]
  },
  {
   "cell_type": "code",
   "execution_count": 84,
   "metadata": {},
   "outputs": [
    {
     "data": {
      "text/plain": [
       "[tensor([0, 1, 2]), tensor([3, 4, 5]), tensor([6, 7, 8]), tensor([9])]"
      ]
     },
     "execution_count": 84,
     "metadata": {},
     "output_type": "execute_result"
    }
   ],
   "source": [
    "s = Sampler(small_ds,3,False)\n",
    "[o for o in s]"
   ]
  },
  {
   "cell_type": "code",
   "execution_count": 85,
   "metadata": {},
   "outputs": [
    {
     "data": {
      "text/plain": [
       "[tensor([6, 4, 5]), tensor([1, 7, 3]), tensor([9, 2, 0]), tensor([8])]"
      ]
     },
     "execution_count": 85,
     "metadata": {},
     "output_type": "execute_result"
    }
   ],
   "source": [
    "s = Sampler(small_ds,3,True)\n",
    "[o for o in s]"
   ]
  },
  {
   "cell_type": "code",
   "execution_count": 111,
   "metadata": {},
   "outputs": [],
   "source": [
    "def collate(b):\n",
    "    xs,ys = zip(*b)\n",
    "    return torch.stack(xs),torch.stack(ys)\n",
    "\n",
    "class DataLoader():\n",
    "    def __init__(self, ds, sampler, collate_fn=collate):\n",
    "        self.ds,self.sampler,self.collate_fn = ds,sampler,collate_fn\n",
    "        \n",
    "    def __iter__(self):\n",
    "        for s in self.sampler: yield self.collate_fn([self.ds[i] for i in s])"
   ]
  },
  {
   "cell_type": "code",
   "execution_count": 87,
   "metadata": {},
   "outputs": [],
   "source": [
    "train_samp = Sampler(train_ds, bs, shuffle=True)\n",
    "valid_samp = Sampler(valid_ds, bs, shuffle=False)"
   ]
  },
  {
   "cell_type": "code",
   "execution_count": 113,
   "metadata": {},
   "outputs": [
    {
     "ename": "TypeError",
     "evalue": "object of type 'DataLoader' has no len()",
     "output_type": "error",
     "traceback": [
      "\u001b[0;31m---------------------------------------------------------------------------\u001b[0m",
      "\u001b[0;31mTypeError\u001b[0m                                 Traceback (most recent call last)",
      "\u001b[0;32m<ipython-input-113-751330128096>\u001b[0m in \u001b[0;36m<module>\u001b[0;34m\u001b[0m\n\u001b[1;32m      1\u001b[0m \u001b[0mtrain_dl\u001b[0m \u001b[0;34m=\u001b[0m \u001b[0mDataLoader\u001b[0m\u001b[0;34m(\u001b[0m\u001b[0mtrain_ds\u001b[0m\u001b[0;34m,\u001b[0m \u001b[0msampler\u001b[0m\u001b[0;34m=\u001b[0m\u001b[0mtrain_samp\u001b[0m\u001b[0;34m,\u001b[0m \u001b[0mcollate_fn\u001b[0m\u001b[0;34m=\u001b[0m\u001b[0mcollate\u001b[0m\u001b[0;34m)\u001b[0m\u001b[0;34m\u001b[0m\u001b[0;34m\u001b[0m\u001b[0m\n\u001b[1;32m      2\u001b[0m \u001b[0mvalid_dl\u001b[0m \u001b[0;34m=\u001b[0m \u001b[0mDataLoader\u001b[0m\u001b[0;34m(\u001b[0m\u001b[0mvalid_ds\u001b[0m\u001b[0;34m,\u001b[0m \u001b[0msampler\u001b[0m\u001b[0;34m=\u001b[0m\u001b[0mvalid_samp\u001b[0m\u001b[0;34m,\u001b[0m \u001b[0mcollate_fn\u001b[0m\u001b[0;34m=\u001b[0m\u001b[0mcollate\u001b[0m\u001b[0;34m)\u001b[0m\u001b[0;34m\u001b[0m\u001b[0;34m\u001b[0m\u001b[0m\n\u001b[0;32m----> 3\u001b[0;31m \u001b[0mlen\u001b[0m\u001b[0;34m(\u001b[0m\u001b[0mtrain_dl\u001b[0m\u001b[0;34m)\u001b[0m\u001b[0;34m\u001b[0m\u001b[0;34m\u001b[0m\u001b[0m\n\u001b[0m",
      "\u001b[0;31mTypeError\u001b[0m: object of type 'DataLoader' has no len()"
     ]
    }
   ],
   "source": [
    "train_dl = DataLoader(train_ds, sampler=train_samp, collate_fn=collate)\n",
    "valid_dl = DataLoader(valid_ds, sampler=valid_samp, collate_fn=collate)\n",
    "len(train_dl)"
   ]
  },
  {
   "cell_type": "code",
   "execution_count": 89,
   "metadata": {},
   "outputs": [
    {
     "data": {
      "text/plain": [
       "(tensor(3), tensor([[0., 0., 0.,  ..., 0., 0., 0.],\n",
       "         [0., 0., 0.,  ..., 0., 0., 0.],\n",
       "         [0., 0., 0.,  ..., 0., 0., 0.],\n",
       "         ...,\n",
       "         [0., 0., 0.,  ..., 0., 0., 0.],\n",
       "         [0., 0., 0.,  ..., 0., 0., 0.],\n",
       "         [0., 0., 0.,  ..., 0., 0., 0.]]))"
      ]
     },
     "execution_count": 89,
     "metadata": {},
     "output_type": "execute_result"
    },
    {
     "data": {
      "image/png": "[encoded data removed]",
      "text/plain": [
       "<Figure size 432x288 with 1 Axes>"
      ]
     },
     "metadata": {
      "needs_background": "light"
     },
     "output_type": "display_data"
    }
   ],
   "source": [
    "xb,yb = next(iter(valid_dl))\n",
    "plt.imshow(xb[0].view(28,28))\n",
    "yb[0], xb"
   ]
  },
  {
   "cell_type": "code",
   "execution_count": 114,
   "metadata": {},
   "outputs": [
    {
     "ename": "TypeError",
     "evalue": "object of type 'DataLoader' has no len()",
     "output_type": "error",
     "traceback": [
      "\u001b[0;31m---------------------------------------------------------------------------\u001b[0m",
      "\u001b[0;31mTypeError\u001b[0m                                 Traceback (most recent call last)",
      "\u001b[0;32m<ipython-input-114-63a61ad5837d>\u001b[0m in \u001b[0;36m<module>\u001b[0;34m\u001b[0m\n\u001b[1;32m      1\u001b[0m \u001b[0mxb\u001b[0m\u001b[0;34m,\u001b[0m\u001b[0myb\u001b[0m \u001b[0;34m=\u001b[0m \u001b[0mnext\u001b[0m\u001b[0;34m(\u001b[0m\u001b[0miter\u001b[0m\u001b[0;34m(\u001b[0m\u001b[0mtrain_dl\u001b[0m\u001b[0;34m)\u001b[0m\u001b[0;34m)\u001b[0m\u001b[0;34m\u001b[0m\u001b[0;34m\u001b[0m\u001b[0m\n\u001b[1;32m      2\u001b[0m \u001b[0mplt\u001b[0m\u001b[0;34m.\u001b[0m\u001b[0mimshow\u001b[0m\u001b[0;34m(\u001b[0m\u001b[0mxb\u001b[0m\u001b[0;34m[\u001b[0m\u001b[0;36m0\u001b[0m\u001b[0;34m]\u001b[0m\u001b[0;34m.\u001b[0m\u001b[0mview\u001b[0m\u001b[0;34m(\u001b[0m\u001b[0;36m28\u001b[0m\u001b[0;34m,\u001b[0m\u001b[0;36m28\u001b[0m\u001b[0;34m)\u001b[0m\u001b[0;34m)\u001b[0m\u001b[0;34m\u001b[0m\u001b[0;34m\u001b[0m\u001b[0m\n\u001b[0;32m----> 3\u001b[0;31m \u001b[0myb\u001b[0m\u001b[0;34m[\u001b[0m\u001b[0;36m0\u001b[0m\u001b[0;34m]\u001b[0m\u001b[0;34m,\u001b[0m \u001b[0mlen\u001b[0m\u001b[0;34m(\u001b[0m\u001b[0mtrain_dl\u001b[0m\u001b[0;34m)\u001b[0m\u001b[0;34m\u001b[0m\u001b[0;34m\u001b[0m\u001b[0m\n\u001b[0m",
      "\u001b[0;31mTypeError\u001b[0m: object of type 'DataLoader' has no len()"
     ]
    },
    {
     "data": {
      "image/png": "[encoded data removed]",
      "text/plain": [
       "<Figure size 432x288 with 1 Axes>"
      ]
     },
     "metadata": {
      "needs_background": "light"
     },
     "output_type": "display_data"
    }
   ],
   "source": [
    "xb,yb = next(iter(train_dl))\n",
    "plt.imshow(xb[0].view(28,28))\n",
    "yb[0], len(train_dl)"
   ]
  },
  {
   "cell_type": "code",
   "execution_count": 91,
   "metadata": {},
   "outputs": [
    {
     "data": {
      "text/plain": [
       "tensor(7)"
      ]
     },
     "execution_count": 91,
     "metadata": {},
     "output_type": "execute_result"
    },
    {
     "data": {
      "image/png": "[encoded data removed]",
      "text/plain": [
       "<Figure size 432x288 with 1 Axes>"
      ]
     },
     "metadata": {
      "needs_background": "light"
     },
     "output_type": "display_data"
    }
   ],
   "source": [
    "xb,yb = next(iter(train_dl))\n",
    "plt.imshow(xb[0].view(28,28))\n",
    "yb[0]"
   ]
  },
  {
   "cell_type": "code",
   "execution_count": 92,
   "metadata": {},
   "outputs": [
    {
     "data": {
      "text/plain": [
       "(tensor(0.1076, grad_fn=<NllLossBackward>), tensor(0.9531))"
      ]
     },
     "execution_count": 92,
     "metadata": {},
     "output_type": "execute_result"
    }
   ],
   "source": [
    "model,opt = get_model()\n",
    "fit()\n",
    "\n",
    "loss,acc = loss_func(model(xb), yb), accuracy(model(xb), yb)\n",
    "assert acc>0.7\n",
    "loss,acc"
   ]
  },
  {
   "cell_type": "markdown",
   "metadata": {},
   "source": [
    "### PyTorch DataLoader"
   ]
  },
  {
   "cell_type": "markdown",
   "metadata": {},
   "source": [
    "[Jump_to lesson 9 video](https://course.fast.ai/videos/?lesson=9&t=4171)"
   ]
  },
  {
   "cell_type": "code",
   "execution_count": 93,
   "metadata": {},
   "outputs": [],
   "source": [
    "#export\n",
    "from torch.utils.data import DataLoader, SequentialSampler, RandomSampler"
   ]
  },
  {
   "cell_type": "code",
   "execution_count": 94,
   "metadata": {},
   "outputs": [],
   "source": [
    "train_dl = DataLoader(train_ds, bs, sampler=RandomSampler(train_ds), collate_fn=collate)\n",
    "valid_dl = DataLoader(valid_ds, bs, sampler=SequentialSampler(valid_ds), collate_fn=collate)"
   ]
  },
  {
   "cell_type": "code",
   "execution_count": 95,
   "metadata": {},
   "outputs": [
    {
     "data": {
      "text/plain": [
       "(tensor(0.1606, grad_fn=<NllLossBackward>), tensor(0.9531))"
      ]
     },
     "execution_count": 95,
     "metadata": {},
     "output_type": "execute_result"
    }
   ],
   "source": [
    "model,opt = get_model()\n",
    "fit()\n",
    "loss_func(model(xb), yb), accuracy(model(xb), yb)"
   ]
  },
  {
   "cell_type": "markdown",
   "metadata": {},
   "source": [
    "PyTorch's defaults work fine for most things however:"
   ]
  },
  {
   "cell_type": "code",
   "execution_count": 96,
   "metadata": {},
   "outputs": [],
   "source": [
    "train_dl = DataLoader(train_ds, bs, shuffle=True, drop_last=True)\n",
    "valid_dl = DataLoader(valid_ds, bs, shuffle=False)"
   ]
  },
  {
   "cell_type": "code",
   "execution_count": 97,
   "metadata": {},
   "outputs": [
    {
     "data": {
      "text/plain": [
       "(tensor(0.1343, grad_fn=<NllLossBackward>), tensor(0.9531))"
      ]
     },
     "execution_count": 97,
     "metadata": {},
     "output_type": "execute_result"
    }
   ],
   "source": [
    "model,opt = get_model()\n",
    "fit()\n",
    "\n",
    "loss,acc = loss_func(model(xb), yb), accuracy(model(xb), yb)\n",
    "assert acc>0.7\n",
    "loss,acc"
   ]
  },
  {
   "cell_type": "markdown",
   "metadata": {},
   "source": [
    "Note that PyTorch's `DataLoader`, if you pass `num_workers`, will use multiple threads to call your `Dataset`."
   ]
  },
  {
   "cell_type": "markdown",
   "metadata": {},
   "source": [
    "## Validation"
   ]
  },
  {
   "cell_type": "markdown",
   "metadata": {},
   "source": [
    "You **always** should also have a [validation set](http://www.fast.ai/2017/11/13/validation-sets/), in order to identify if you are overfitting.\n",
    "\n",
    "We will calculate and print the validation loss at the end of each epoch.\n",
    "\n",
    "(Note that we always call `model.train()` before training, and `model.eval()` before inference, because these are used by layers such as `nn.BatchNorm2d` and `nn.Dropout` to ensure appropriate behaviour for these different phases.)"
   ]
  },
  {
   "cell_type": "markdown",
   "metadata": {},
   "source": [
    "[Jump_to lesson 9 video](https://course.fast.ai/videos/?lesson=9&t=4260)"
   ]
  },
  {
   "cell_type": "code",
   "execution_count": 103,
   "metadata": {},
   "outputs": [],
   "source": [
    "def fit(epochs, model, loss_func, opt, train_dl, valid_dl):\n",
    "    for epoch in range(epochs):\n",
    "        # Handle batchnorm / dropout\n",
    "        model.train()\n",
    "#         print(model.training)\n",
    "        for xb,yb in train_dl:\n",
    "            loss = loss_func(model(xb), yb)\n",
    "            loss.backward()\n",
    "            opt.step()\n",
    "            opt.zero_grad()\n",
    "\n",
    "        model.eval()\n",
    "#         print(model.training)\n",
    "        with torch.no_grad():\n",
    "            tot_loss,tot_acc = 0.,0.\n",
    "            for xb,yb in valid_dl:\n",
    "                pred = model(xb)\n",
    "                tot_loss += loss_func(pred, yb)\n",
    "                tot_acc  += accuracy (pred,yb)\n",
    "        nv = len(valid_dl)\n",
    "        print(epoch, tot_loss/nv, tot_acc/nv)\n",
    "    return tot_loss/nv, tot_acc/nv"
   ]
  },
  {
   "cell_type": "markdown",
   "metadata": {},
   "source": [
    "*Question*: Are these validation results correct if batch size varies?"
   ]
  },
  {
   "cell_type": "markdown",
   "metadata": {},
   "source": [
    "`get_dls` returns dataloaders for the training and validation sets:"
   ]
  },
  {
   "cell_type": "code",
   "execution_count": 104,
   "metadata": {},
   "outputs": [],
   "source": [
    "#export\n",
    "def get_dls(train_ds, valid_ds, bs, **kwargs):\n",
    "    return (DataLoader(train_ds, batch_size=bs, shuffle=True, **kwargs),\n",
    "            DataLoader(valid_ds, batch_size=bs*2, **kwargs))"
   ]
  },
  {
   "cell_type": "markdown",
   "metadata": {},
   "source": [
    "Now, our whole process of obtaining the data loaders and fitting the model can be run in 3 lines of code:"
   ]
  },
  {
   "cell_type": "code",
   "execution_count": 105,
   "metadata": {},
   "outputs": [
    {
     "name": "stdout",
     "output_type": "stream",
     "text": [
      "0 tensor(0.2970) tensor(0.9059)\n",
      "1 tensor(0.1350) tensor(0.9583)\n",
      "2 tensor(0.2083) tensor(0.9403)\n",
      "3 tensor(0.1231) tensor(0.9629)\n",
      "4 tensor(0.1275) tensor(0.9640)\n"
     ]
    }
   ],
   "source": [
    "train_dl,valid_dl = get_dls(train_ds, valid_ds, bs)\n",
    "model,opt = get_model()\n",
    "loss,acc = fit(5, model, loss_func, opt, train_dl, valid_dl)"
   ]
  },
  {
   "cell_type": "code",
   "execution_count": 107,
   "metadata": {},
   "outputs": [
    {
     "data": {
      "text/plain": [
       "79"
      ]
     },
     "execution_count": 107,
     "metadata": {},
     "output_type": "execute_result"
    }
   ],
   "source": [
    "assert acc>0.9\n",
    "len(valid_dl)"
   ]
  },
  {
   "cell_type": "markdown",
   "metadata": {},
   "source": [
    "## Export"
   ]
  },
  {
   "cell_type": "code",
   "execution_count": null,
   "metadata": {},
   "outputs": [
    {
     "name": "stdout",
     "output_type": "stream",
     "text": [
      "Converted 03_minibatch_training.ipynb to nb_03.py\r\n"
     ]
    }
   ],
   "source": [
    "!python notebook2script.py 03_minibatch_training.ipynb"
   ]
  },
  {
   "cell_type": "code",
   "execution_count": null,
   "metadata": {},
   "outputs": [],
   "source": []
  }
 ],
 "metadata": {
  "kernelspec": {
   "display_name": "Python 3",
   "language": "python",
   "name": "python3"
  },
  "language_info": {
   "codemirror_mode": {
    "name": "ipython",
    "version": 3
   },
   "file_extension": ".py",
   "mimetype": "text/x-python",
   "name": "python",
   "nbconvert_exporter": "python",
   "pygments_lexer": "ipython3",
   "version": "3.7.3"
  }
 },
 "nbformat": 4,
 "nbformat_minor": 2
}
